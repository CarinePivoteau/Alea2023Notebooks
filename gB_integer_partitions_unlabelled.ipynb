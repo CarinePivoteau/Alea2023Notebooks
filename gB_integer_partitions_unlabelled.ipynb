{
 "cells": [
  {
   "cell_type": "code",
   "execution_count": 1,
   "id": "52b6e656",
   "metadata": {},
   "outputs": [],
   "source": [
    "# imports : random, time, math, sys, plt, graphviz\n",
    "\n",
    "from helpers import *\n",
    "from gen_laws import *"
   ]
  },
  {
   "cell_type": "code",
   "execution_count": 2,
   "id": "bc70a038",
   "metadata": {},
   "outputs": [],
   "source": [
    "P = {}\n",
    "P[.9] = 777564.20335958218103\n",
    "P[.99] = 4.815108827e69\n",
    "P[.995] = 9.343610520e140\n",
    "P[.997] = 1.291120564e236\n",
    "\n",
    "def indiceMax(x):\n",
    "    u = random.random()\n",
    "    v = math.log(1/u)\n",
    "    p = math.log(P[x])\n",
    "    k = 0\n",
    "    while v<p :\n",
    "        k += 1\n",
    "        p -= x**k/(k*(1-x**k))\n",
    "    return k\n",
    "\n",
    "def random_partition_free(x):\n",
    "    k = indiceMax(x)\n",
    "    print(\"indice max = \", k)\n",
    "    size, summands = 0, []\n",
    "    if k == 0:\n",
    "        return size, summands\n",
    "    for i in range(1,k):\n",
    "        pi = poiss(x**i/(i*(1-x**i)))\n",
    "        for j in range(pi):\n",
    "            summand = fast_geom(x**i)+1\n",
    "            for l in range(i):\n",
    "                summands.append(summand)\n",
    "            size += i*summand\n",
    "    pi = non_zero_poiss(x**k/(k*(1-x**k)))\n",
    "    for j in range(pi):\n",
    "        summand = fast_geom(x**k)+1\n",
    "        for l in range(k):\n",
    "            summands.append(summand)\n",
    "        size += k*summand\n",
    "    return size,summands"
   ]
  },
  {
   "cell_type": "code",
   "execution_count": 3,
   "id": "da3f0e54",
   "metadata": {},
   "outputs": [
    {
     "name": "stdout",
     "output_type": "stream",
     "text": [
      "indice max =  97\n",
      "taille = 180783, plus grand sommant = 1966, nombre de sommants = 1847\n"
     ]
    }
   ],
   "source": [
    "ip = random_partition_free(.997)\n",
    "p = sorted(ip[1],reverse = True)\n",
    "print(\"taille = {}, plus grand sommant = {}, nombre de sommants = {}\".format(ip[0], p[0], (len(ip[1]))))"
   ]
  },
  {
   "cell_type": "code",
   "execution_count": 4,
   "id": "d59947bc",
   "metadata": {},
   "outputs": [
    {
     "data": {
      "image/png": "[encoded data removed]",
      "text/plain": [
       "<Figure size 640x480 with 1 Axes>"
      ]
     },
     "metadata": {},
     "output_type": "display_data"
    }
   ],
   "source": [
    "import matplotlib.pyplot as plt\n",
    "plt.plot(p)\n",
    "plt.axis('equal')\n",
    "plt.show()"
   ]
  },
  {
   "cell_type": "code",
   "execution_count": 5,
   "id": "1ad0de1c",
   "metadata": {},
   "outputs": [],
   "source": [
    "def random_partition_distincts_free(x):\n",
    "    k = indiceMax(x)\n",
    "    print(\"indice max = \", k)\n",
    "    sizeP, sizeGen, summands = 0, 0, set()\n",
    "    if k == 0:\n",
    "        return sizeP, sizeGen, summands\n",
    "    for i in range(1,k):\n",
    "        pi = poiss(x**i/(i*(1-x**i)))\n",
    "        for j in range(pi):\n",
    "            summand = fast_geom(x**i)+1\n",
    "            if(i % 2 != 0):\n",
    "                if(summand in summands):\n",
    "                    summands.remove(summand)\n",
    "                else: \n",
    "                    summands.add(summand)  \n",
    "                sizeGen += summand\n",
    "            sizeP += i*summand\n",
    "    pi = non_zero_poiss(x**k/(k*(1-x**k)))\n",
    "    for j in range(pi):\n",
    "        summand = fast_geom(x**k)+1\n",
    "        if(k % 2 != 0):\n",
    "            if(summand in summands):\n",
    "                summands.remove(summand)\n",
    "            else: \n",
    "                summands.add(summand)  \n",
    "            sizeGen += summand\n",
    "        sizeP += k*summand\n",
    "    return sizeP, sizeGen, summands"
   ]
  },
  {
   "cell_type": "code",
   "execution_count": 6,
   "id": "3065dc08",
   "metadata": {},
   "outputs": [
    {
     "name": "stdout",
     "output_type": "stream",
     "text": [
      "indice max =  108\n",
      "taille de P = 176696, taille engendrée = 123588, taille de Q = 101990\n",
      "plus grand sommant = 1946, nombre de sommants = 231\n"
     ]
    }
   ],
   "source": [
    "ip = random_partition_distincts_free(.997)\n",
    "p = sorted(ip[2],reverse = True)\n",
    "print(\"taille de P = {}, taille engendrée = {}, taille de Q = {}\".format(ip[0], ip[1], sum(p)))\n",
    "print(\"plus grand sommant = {}, nombre de sommants = {}\".format(p[0], len(p)))"
   ]
  },
  {
   "cell_type": "code",
   "execution_count": 7,
   "id": "f203bfaf",
   "metadata": {},
   "outputs": [],
   "source": [
    "from collections import defaultdict\n",
    "\n",
    "def extract(l):\n",
    "    q = []\n",
    "    counts = defaultdict(int)\n",
    "    for summand in l:\n",
    "        counts[summand] += 1\n",
    "    for k,v in counts.items():\n",
    "        if v%2 == 1 :\n",
    "            q.append(k)\n",
    "    return q\n",
    "    "
   ]
  },
  {
   "cell_type": "code",
   "execution_count": 8,
   "id": "adaf0224",
   "metadata": {},
   "outputs": [
    {
     "name": "stdout",
     "output_type": "stream",
     "text": [
      "indice max =  194\n",
      "190786 95996\n"
     ]
    }
   ],
   "source": [
    "ip = random_partition_free(.997)\n",
    "print(sum(ip[1]),sum(extract(ip[1])))"
   ]
  },
  {
   "cell_type": "code",
   "execution_count": null,
   "id": "5173770a",
   "metadata": {},
   "outputs": [],
   "source": []
  },
  {
   "cell_type": "code",
   "execution_count": null,
   "id": "f41c6d3c",
   "metadata": {},
   "outputs": [],
   "source": []
  },
  {
   "cell_type": "code",
   "execution_count": null,
   "id": "16398721",
   "metadata": {},
   "outputs": [],
   "source": []
  }
 ],
 "metadata": {
  "kernelspec": {
   "display_name": "Python 3 (ipykernel)",
   "language": "python",
   "name": "python3"
  },
  "language_info": {
   "codemirror_mode": {
    "name": "ipython",
    "version": 3
   },
   "file_extension": ".py",
   "mimetype": "text/x-python",
   "name": "python",
   "nbconvert_exporter": "python",
   "pygments_lexer": "ipython3",
   "version": "3.11.1"
  }
 },
 "nbformat": 4,
 "nbformat_minor": 5
}
