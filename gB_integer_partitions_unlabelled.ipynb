{
 "cells": [
  {
   "cell_type": "code",
   "execution_count": null,
   "id": "48fb7f5b",
   "metadata": {},
   "outputs": [],
   "source": [
    "# uniquement pour utliser dans colab : \n",
    "\n",
    "# !git clone https://github.com/CarinePivoteau/Alea2023Notebooks.git\n",
    "# import sys\n",
    "# sys.path.append('/content/Alea2023Notebooks')"
   ]
  },
  {
   "cell_type": "code",
   "execution_count": null,
   "id": "6c5b0eb2",
   "metadata": {},
   "outputs": [],
   "source": [
    "# si les modules ne sont pas installés :\n",
    "\n",
    "# import sys\n",
    "# !{sys.executable} -m pip install matplotlib\n",
    "# !{sys.executable} -m pip install graphviz"
   ]
  },
  {
   "cell_type": "code",
   "execution_count": null,
   "id": "52b6e656",
   "metadata": {},
   "outputs": [],
   "source": [
    "# imports : random, time, math, sys, plt, graphviz\n",
    "\n",
    "from helpers import *\n",
    "from gen_laws import *"
   ]
  },
  {
   "cell_type": "code",
   "execution_count": null,
   "id": "e4fbf224",
   "metadata": {},
   "outputs": [],
   "source": [
    "P = {}\n",
    "P[.9] = 777564.20335958218103 # E(N) = 143\n",
    "P[.99] = 4.815108827e69       # E(N) = 16235\n",
    "P[.995] = 9.343610520e140     # E(N) = 65368\n",
    "P[.997] = 1.291120564e236     # E(N) = 182055"
   ]
  },
  {
   "cell_type": "markdown",
   "id": "67b0f994",
   "metadata": {},
   "source": [
    "## Exo : écrire le générateur de Boltzmann de partitions d'entiers (non étiqueté)"
   ]
  },
  {
   "cell_type": "code",
   "execution_count": null,
   "id": "bc70a038",
   "metadata": {},
   "outputs": [],
   "source": [
    "# P = Set(I), I = Sequence(Z,card>=1)\n",
    "\n",
    "def indiceMax(x):\n",
    "    # TODO : renvoie l'indice maximum d'un paquet pour le multi-ensemble d'entier\n",
    "    \n",
    "    return -1\n",
    "\n",
    "def random_partition_free(x):\n",
    "    # TODO : écrire le générateur libre de partition d'entier\n",
    "    # remarque : chaque sommant est obtenu par un simple appel à fast_geom\n",
    "    # la fonction renvoie sa taille et la partition sous forme d'une liste d'entiers\n",
    "    \n",
    "    return 0, []"
   ]
  },
  {
   "cell_type": "code",
   "execution_count": null,
   "id": "2f3283f9",
   "metadata": {},
   "outputs": [],
   "source": [
    "size, ip = random_partition_free(.9)\n",
    "print(size,ip)"
   ]
  },
  {
   "cell_type": "code",
   "execution_count": null,
   "id": "da3f0e54",
   "metadata": {},
   "outputs": [],
   "source": [
    "size, ip = random_partition_free(.997)\n",
    "p = sorted(ip,reverse = True)\n",
    "print(\"taille = {}, plus grand sommant = {}, nombre de sommants = {}\".format(size, p[0], (len(ip))))"
   ]
  },
  {
   "cell_type": "code",
   "execution_count": null,
   "id": "d59947bc",
   "metadata": {},
   "outputs": [],
   "source": [
    "import matplotlib.pyplot as plt\n",
    "plt.plot(p)\n",
    "plt.axis('equal')\n",
    "plt.show()"
   ]
  },
  {
   "cell_type": "markdown",
   "id": "6976e854",
   "metadata": {},
   "source": [
    "## Exo : écrire la fonction qui permet d'extraire la partition en sommants distincts d'une partition classique et tracer le rapport de leur tailles."
   ]
  },
  {
   "cell_type": "code",
   "execution_count": null,
   "id": "f203bfaf",
   "metadata": {},
   "outputs": [],
   "source": []
  },
  {
   "cell_type": "code",
   "execution_count": null,
   "id": "adaf0224",
   "metadata": {},
   "outputs": [],
   "source": []
  },
  {
   "cell_type": "code",
   "execution_count": null,
   "id": "dfcaf0b4",
   "metadata": {},
   "outputs": [],
   "source": []
  },
  {
   "cell_type": "code",
   "execution_count": null,
   "id": "5173770a",
   "metadata": {},
   "outputs": [],
   "source": []
  },
  {
   "cell_type": "markdown",
   "id": "339e3a4d",
   "metadata": {},
   "source": [
    "### Il n'est pas nécessaire d'engendredr \"complètement\" la partition pour avoir celle en sommants disctincts : "
   ]
  },
  {
   "cell_type": "code",
   "execution_count": null,
   "id": "16398721",
   "metadata": {},
   "outputs": [],
   "source": [
    "def random_partition_distincts_free(x):\n",
    "    k = indiceMax(x)\n",
    "    #print(\"indice max = \", k)\n",
    "    sizeP, sizeGen, summands = 0, 0, set()\n",
    "    if k == 0:\n",
    "        return sizeP, sizeGen, summands\n",
    "    for i in range(1,k):\n",
    "        pi = poiss(x**i/(i*(1-x**i)))\n",
    "        for j in range(pi):\n",
    "            summand = fast_geom(x**i)+1\n",
    "            if(i % 2 != 0):\n",
    "                if(summand in summands):\n",
    "                    summands.remove(summand)\n",
    "                else: \n",
    "                    summands.add(summand)  \n",
    "                sizeGen += summand\n",
    "            sizeP += i*summand\n",
    "    pi = non_zero_poiss(x**k/(k*(1-x**k)))\n",
    "    for j in range(pi):\n",
    "        summand = fast_geom(x**k)+1\n",
    "        if(k % 2 != 0):\n",
    "            if(summand in summands):\n",
    "                summands.remove(summand)\n",
    "            else: \n",
    "                summands.add(summand)  \n",
    "            sizeGen += summand\n",
    "        sizeP += k*summand\n",
    "    return sizeP, sizeGen, summands"
   ]
  },
  {
   "cell_type": "code",
   "execution_count": null,
   "id": "3065dc08",
   "metadata": {},
   "outputs": [],
   "source": [
    "ip = random_partition_distincts_free(.997)\n",
    "p = sorted(ip[2],reverse = True)\n",
    "print(\"taille de P = {}, taille engendrée = {}, taille de Q = {}\".format(ip[0], ip[1], sum(p)))\n",
    "print(\"plus grand sommant = {}, nombre de sommants = {}\".format(p[0], len(p)))"
   ]
  },
  {
   "cell_type": "code",
   "execution_count": null,
   "id": "e50e543f",
   "metadata": {},
   "outputs": [],
   "source": []
  }
 ],
 "metadata": {
  "kernelspec": {
   "display_name": "Python 3 (ipykernel)",
   "language": "python",
   "name": "python3"
  },
  "language_info": {
   "codemirror_mode": {
    "name": "ipython",
    "version": 3
   },
   "file_extension": ".py",
   "mimetype": "text/x-python",
   "name": "python",
   "nbconvert_exporter": "python",
   "pygments_lexer": "ipython3",
   "version": "3.11.1"
  }
 },
 "nbformat": 4,
 "nbformat_minor": 5
}
