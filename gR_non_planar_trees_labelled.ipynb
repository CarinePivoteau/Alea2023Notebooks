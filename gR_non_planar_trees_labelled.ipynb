{
 "cells": [
  {
   "cell_type": "code",
   "execution_count": null,
   "id": "9dcf74a8",
   "metadata": {},
   "outputs": [],
   "source": [
    "# uniquement pour utliser dans colab : \n",
    "\n",
    "# !git clone https://github.com/CarinePivoteau/Alea2023Notebooks.git\n",
    "# import sys\n",
    "# sys.path.append('/content/Alea2023Notebooks')"
   ]
  },
  {
   "cell_type": "code",
   "execution_count": null,
   "id": "fd197adc",
   "metadata": {},
   "outputs": [],
   "source": [
    "# si les modules ne sont pas installés :\n",
    "\n",
    "# import sys\n",
    "# !{sys.executable} -m pip install matplotlib\n",
    "# !{sys.executable} -m pip install graphviz"
   ]
  },
  {
   "cell_type": "code",
   "execution_count": 1,
   "id": "1bd8a641",
   "metadata": {},
   "outputs": [],
   "source": [
    "# imports : random, time, math, sys, plt, graphviz\n",
    "\n",
    "from helpers import *\n",
    "from gen_laws import *"
   ]
  },
  {
   "cell_type": "code",
   "execution_count": 2,
   "id": "64a914d2",
   "metadata": {},
   "outputs": [
    {
     "name": "stdout",
     "output_type": "stream",
     "text": [
      "[0, 1, 1.0, 1.5, 2.6666666666666665, 5.208333333333333]\n",
      "[1, 1.0, 1.5, 2.6666666666666665, 5.208333333333333, 10.8]\n"
     ]
    }
   ],
   "source": [
    "# T = Z x Set(T) => T = Z x F, tF = tT x F\n",
    "\n",
    "cayley_max = 700 # on calcule les coefficients re-normalisés... au delà, on a des flottants trop petit\n",
    "cayley_trees=[0]\n",
    "cayley_forests=[1]\n",
    "\n",
    "for i in range(1,cayley_max+1):\n",
    "    cayley_trees.append(cayley_forests[i-1])\n",
    "    cayley_forests.append(sum(cayley_forests[i-k] * k * cayley_trees[k]/i for k in range(1,i+1)))\n",
    "\n",
    "print(cayley_trees[:6])\n",
    "print(cayley_forests[:6])"
   ]
  },
  {
   "cell_type": "code",
   "execution_count": 3,
   "id": "a7edc8aa",
   "metadata": {},
   "outputs": [
    {
     "name": "stdout",
     "output_type": "stream",
     "text": [
      "5.925339312051314e+299\n"
     ]
    }
   ],
   "source": [
    "print(cayley_forests[700])"
   ]
  },
  {
   "cell_type": "code",
   "execution_count": 4,
   "id": "9eebfbcc",
   "metadata": {},
   "outputs": [],
   "source": [
    "# T = Z x Set(T) => T = Z x F, tF = tT x F\n",
    "\n",
    "def gen_cayley_tree(n):\n",
    "    if n == 1:\n",
    "        return ['z'] # Z\n",
    "    return ['z']+[t for t in gen_cayley_forest(n-1)]\n",
    "\n",
    "def uniform_cut(n):\n",
    "    u = random()\n",
    "    k = 0\n",
    "    s = 0\n",
    "    while u > s:\n",
    "        k += 1\n",
    "        s += k * cayley_trees[k] * cayley_forests[n-k] / (n * cayley_forests[n])  # tF = tT x F\n",
    "    return k\n",
    "\n",
    "def gen_cayley_forest(n):\n",
    "    if n == 0:\n",
    "        return []\n",
    "    k = uniform_cut(n)\n",
    "    return [gen_cayley_tree(k)] + gen_cayley_forest(n-k)\n",
    "\n",
    "def gen_cayley_tree_labelled(n):\n",
    "    p = random_permutation(n)\n",
    "\n",
    "    def aux(t):\n",
    "        if t == ['z']:\n",
    "            return [p.pop()]\n",
    "        return [p.pop()] + sorted([aux(tt) for tt in t[1:]])  # tri pour imposer l'ordre d'affichage\n",
    "    return aux(gen_cayley_tree(n))"
   ]
  },
  {
   "cell_type": "code",
   "execution_count": 6,
   "id": "db8a7c04",
   "metadata": {
    "scrolled": true
   },
   "outputs": [
    {
     "name": "stdout",
     "output_type": "stream",
     "text": [
      "['z', ['z', ['z', ['z', ['z', ['z', ['z', ['z']]]], ['z']], ['z', ['z']], ['z']], ['z', ['z', ['z'], ['z']]]], ['z'], ['z', ['z'], ['z']]]\n"
     ]
    }
   ],
   "source": [
    "print(gen_cayley_tree(20))"
   ]
  },
  {
   "cell_type": "code",
   "execution_count": 7,
   "id": "728823bd",
   "metadata": {},
   "outputs": [
    {
     "name": "stdout",
     "output_type": "stream",
     "text": [
      "[4, [37, [25, [64, [26, [40, [85], [99, [30]]]], [39, [60, [7]]], [59]]], [63]], [97, [21, [50, [13], [36, [49, [29, [43, [83, [6], [84, [61, [5, [67]], [10], [12, [33, [18, [24, [51]], [89]]]]]]]]], [53, [8]], [86, [96, [20]]], [95, [3, [17, [31], [58, [14, [80]]]], [72, [47, [52, [28], [87, [55, [11, [44, [92]]], [71]]]], [70]]]], [35], [88, [38], [74], [77]]]]], [90, [16, [56, [19], [22, [34], [45], [48, [94]], [76, [23, [27, [42], [79, [9], [15]]]]]], [69, [32], [93, [1, [46], [98, [41, [54, [66]], [81]]]]]]], [100, [62], [73], [78]]], [75, [65]]]]], [68, [91, [2], [82, [57]]]]]]\n"
     ]
    }
   ],
   "source": [
    "print(gen_cayley_tree_labelled(100))"
   ]
  },
  {
   "cell_type": "code",
   "execution_count": 8,
   "id": "c7aaa19b",
   "metadata": {},
   "outputs": [
    {
     "name": "stdout",
     "output_type": "stream",
     "text": [
      "nb: 64\n",
      "[1, [2, [3]], [4]] 1.57\n",
      "[2, [1, [3, [4]]]] 1.55\n",
      "[4, [3, [1], [2]]] 1.59\n",
      "[3, [2, [4, [1]]]] 1.55\n",
      "[3, [1], [2], [4]] 1.57\n",
      "[1, [3], [4, [2]]] 1.57\n",
      "[3, [4, [1, [2]]]] 1.55\n",
      "[3, [1], [4, [2]]] 1.56\n",
      "[2, [3, [4, [1]]]] 1.56\n",
      "[2, [1], [4, [3]]] 1.56\n",
      "[1, [3, [2, [4]]]] 1.58\n",
      "[4, [1, [2, [3]]]] 1.55\n",
      "[1, [2], [3], [4]] 1.57\n",
      "[3, [2, [1, [4]]]] 1.58\n",
      "[2, [3, [1], [4]]] 1.56\n",
      "[4, [2, [1], [3]]] 1.56\n",
      "[1, [3, [4, [2]]]] 1.55\n",
      "[4, [1, [2], [3]]] 1.57\n",
      "[4, [1, [2]], [3]] 1.57\n",
      "[2, [1, [3], [4]]] 1.55\n",
      "[3, [2], [4, [1]]] 1.55\n",
      "[1, [2], [3, [4]]] 1.56\n",
      "[4, [2, [1, [3]]]] 1.56\n",
      "[4, [2, [3, [1]]]] 1.57\n",
      "[2, [4, [1], [3]]] 1.58\n",
      "[3, [1, [4]], [2]] 1.56\n",
      "[3, [2, [1]], [4]] 1.55\n",
      "[2, [1, [4, [3]]]] 1.55\n",
      "[2, [3], [4, [1]]] 1.56\n",
      "[1, [4, [2], [3]]] 1.56\n",
      "[1, [2, [4]], [3]] 1.57\n",
      "[4, [1, [3]], [2]] 1.56\n",
      "[3, [4, [2, [1]]]] 1.55\n",
      "[1, [2], [4, [3]]] 1.57\n",
      "[4, [2], [3, [1]]] 1.58\n",
      "[4, [1], [2], [3]] 1.56\n",
      "[2, [1], [3, [4]]] 1.57\n",
      "[3, [1, [2], [4]]] 1.58\n",
      "[1, [4, [3, [2]]]] 1.58\n",
      "[3, [4, [1], [2]]] 1.55\n",
      "[4, [1], [2, [3]]] 1.57\n",
      "[2, [1, [4]], [3]] 1.56\n",
      "[3, [1], [2, [4]]] 1.57\n",
      "[4, [3, [1, [2]]]] 1.56\n",
      "[1, [2, [3, [4]]]] 1.54\n",
      "[4, [1, [3, [2]]]] 1.57\n",
      "[3, [1, [2, [4]]]] 1.56\n",
      "[1, [3, [2]], [4]] 1.54\n",
      "[3, [1, [2]], [4]] 1.57\n",
      "[2, [3, [1]], [4]] 1.56\n",
      "[4, [3, [2, [1]]]] 1.57\n",
      "[1, [2, [4, [3]]]] 1.57\n",
      "[2, [4, [1, [3]]]] 1.56\n",
      "[2, [1], [3], [4]] 1.55\n",
      "[3, [2, [1], [4]]] 1.56\n",
      "[1, [2, [3], [4]]] 1.58\n",
      "[4, [1], [3, [2]]] 1.54\n",
      "[3, [1, [4, [2]]]] 1.55\n",
      "[1, [4, [2, [3]]]] 1.56\n",
      "[2, [3, [1, [4]]]] 1.56\n",
      "[1, [3, [2], [4]]] 1.57\n",
      "[2, [1, [3]], [4]] 1.57\n",
      "[4, [2, [1]], [3]] 1.56\n",
      "[2, [4, [3, [1]]]] 1.56\n"
     ]
    }
   ],
   "source": [
    "count_occurences(lambda : gen_cayley_tree_labelled(4),1000000)"
   ]
  },
  {
   "cell_type": "code",
   "execution_count": 12,
   "id": "4bdb4d15",
   "metadata": {},
   "outputs": [
    {
     "name": "stdout",
     "output_type": "stream",
     "text": [
      "1 14 27 40 53 66 79 92 105 118 131 144 157 170 183 196 209 222 235 248 261 274 287 300 313 326 339 352 365 378 391 404 417 430 443 456 469 482 495 508 521 534 547 560 573 586 599 612 625 638 651 664 677 690 "
     ]
    },
    {
     "data": {
      "image/png": "[encoded data removed]",
      "text/plain": [
       "<Figure size 640x480 with 1 Axes>"
      ]
     },
     "metadata": {},
     "output_type": "display_data"
    }
   ],
   "source": [
    "plot_time(gen_cayley_tree, 700, nb_steps = 50, nb = 100)"
   ]
  },
  {
   "cell_type": "code",
   "execution_count": 13,
   "id": "cb67ba93",
   "metadata": {},
   "outputs": [],
   "source": [
    "def profiles(nb, size): # nombre de noeuds moyen à chaque hauteur\n",
    "    heights = [0]\n",
    "    def p(t,h):\n",
    "        if h == len(heights):\n",
    "            heights.append(1)\n",
    "        else:\n",
    "            heights[h]+=1\n",
    "        if t!=():\n",
    "            for st in t[1:]:\n",
    "                p(st,h+1)\n",
    "    for _ in range(nb):\n",
    "        t = gen_cayley_tree(size)\n",
    "        p(t,0)\n",
    "    return [heights[i]/nb for i in range(len(heights))]"
   ]
  },
  {
   "cell_type": "code",
   "execution_count": 14,
   "id": "7a5f2331",
   "metadata": {},
   "outputs": [
    {
     "name": "stdout",
     "output_type": "stream",
     "text": [
      "113\n"
     ]
    },
    {
     "data": {
      "image/png": "[encoded data removed]",
      "text/plain": [
       "<Figure size 640x480 with 1 Axes>"
      ]
     },
     "metadata": {},
     "output_type": "display_data"
    }
   ],
   "source": [
    "ps = profiles(1000,700)\n",
    "print(len(ps))\n",
    "plt.plot(ps)\n",
    "plt.show()"
   ]
  },
  {
   "cell_type": "code",
   "execution_count": null,
   "id": "1918decb",
   "metadata": {},
   "outputs": [],
   "source": []
  }
 ],
 "metadata": {
  "kernelspec": {
   "display_name": "Python 3 (ipykernel)",
   "language": "python",
   "name": "python3"
  },
  "language_info": {
   "codemirror_mode": {
    "name": "ipython",
    "version": 3
   },
   "file_extension": ".py",
   "mimetype": "text/x-python",
   "name": "python",
   "nbconvert_exporter": "python",
   "pygments_lexer": "ipython3",
   "version": "3.11.1"
  }
 },
 "nbformat": 4,
 "nbformat_minor": 5
}
