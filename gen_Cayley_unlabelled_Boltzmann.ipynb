{
 "cells": [
  {
   "cell_type": "code",
   "execution_count": 1,
   "id": "52b6e656",
   "metadata": {},
   "outputs": [],
   "source": [
    "from random import *\n",
    "import math\n",
    "\n",
    "def draw(k_init, init, next, lbd):\n",
    "    U = random()\n",
    "    p = init\n",
    "    S = init\n",
    "    k = k_init\n",
    "    while U > S:\n",
    "        p = next(p, lbd, k)\n",
    "        S += p\n",
    "        k += 1\n",
    "    return k\n",
    "\n",
    "\"\"\" Bernoulli Law \"\"\"\n",
    "def bern(lbd):\n",
    "    return random() < lbd\n",
    "\n",
    "\n",
    "\"\"\" Geometric Law \"\"\"\n",
    "def next_geom(p, lbd, k):\n",
    "    return lbd * p\n",
    "\n",
    "def geom(lbd):\n",
    "    return draw(0, (1 - lbd), next_geom, lbd)\n",
    "\n",
    "def fast_geom(lbd):\n",
    "    U = random()\n",
    "    return (int)(math.floor(math.log(U) / math.log(lbd)))\n",
    "\n",
    "\n",
    "\"\"\" Poisson Law \"\"\"\n",
    "def next_poiss(p, lbd, k):\n",
    "    return lbd * p / (k + 1)\n",
    "\n",
    "def poiss(lbd):\n",
    "    return draw(0, math.exp(-lbd), next_poiss, lbd)\n",
    "\n",
    "def non_zero_poiss(lbd):\n",
    "    return draw(1, lbd / (math.exp(lbd) - 1), next_poiss, lbd)\n",
    "\n",
    "\n",
    "\"\"\" Logarithmic Law \"\"\"\n",
    "def next_loga(p, lbd, k):\n",
    "    return lbd * p * (k) / (k + 1)\n",
    "\n",
    "def loga(lbd):\n",
    "    return draw(1, -lbd / math.log(1 - lbd), next_loga, lbd)"
   ]
  },
  {
   "cell_type": "code",
   "execution_count": 2,
   "id": "ac17a40c",
   "metadata": {},
   "outputs": [],
   "source": [
    "GF = dict()\n",
    "rho = 0.3383218568\n",
    "rhos = [rho]\n",
    "GF[rho] = [None, {'C':10.63994532, 'F':45840.85244, 'T':0.9999732953}, {'C':0.1487616397, 'F':1.168869811, 'T':0.1314878868}, {'C':0.04197858310, 'F':1.043677556, 'T':0.04035050316}, {'C':0.01345404181, 'F':1.013632743, 'T':0.01327774371}, {'C':0.004472161902, 'F':1.004492074, 'T':0.004452338585}, {'C':0.001504128164, 'F':1.001506387, 'T':0.001501872543}, {'C':0.0005078685209, 'F':1.000508126, 'T':0.0005076108521}, {'C':0.0001717076179, 'F':1.000171737, 'T':0.0001716781445}, {'C':0.00005807924272, 'F':1.000058083, 'T':0.00005807586992}, {'C':0.00001964796710, 'F':1.000019648, 'T':0.00001964758108}, {'C':6.647163878*10**(-6), 'F':1.000006647, 'T':6.647119694*10**(-6)}, {'C':2.248861044*10**(-6), 'F':1.000002249, 'T':2.248855986*10**(-6)}, {'C':7.608365796*10**(-7), 'F':1.000000761, 'T':7.608360008*10**(-7)}, {'C':2.574073852*10**(-7), 'F':1.000000257, 'T':2.574073190*10**(-7)}, {'C':8.708651485*10**(-8), 'F':1.000000087, 'T':8.708650726*10**(-8)}, {'C':2.946326801*10**(-8), 'F':1.000000029, 'T':2.946326714*10**(-8)}, {'C':9.968067152*10**(-9), 'F':1.000000010, 'T':9.968067052*10**(-9)}, {'C':3.372414943*10**(-9), 'F':1.000000003, 'T':3.372414931*10**(-9)}, {'C':1.140961681*10**(-9), 'F':1.000000001, 'T':1.140961679*10**(-9)}, {'C':3.860122736*10**(-10), 'F':1.000000000, 'T':3.860122734*10**(-10)}]\n",
    "\n",
    "rho = 0.338321\n",
    "rhos.append(rho)\n",
    "GF[rho] = [None, {'C':6.108835942, 'F':493.6471081, 'T':0.9975201626}, {'C':0.1487606568, 'F':1.168868571, 'T':0.1314871083}, {'C':0.04197823733, 'F':1.043677182, 'T':0.04035018321}, {'C':0.01345390185, 'F':1.013632599, 'T':0.01327760738}, {'C':0.004472104767, 'F':1.004492017, 'T':0.004452281954}, {'C':0.001504105241, 'F':1.001506364, 'T':0.001501849688}, {'C':0.0005078595085, 'F':1.000508117, 'T':0.0005076018489}, {'C':0.0001717041379, 'F':1.000171734, 'T':0.0001716746657}, {'C':0.00005807791881, 'F':1.000058081, 'T':0.00005807454615}, {'C':0.00001964746951, 'F':1.000019648, 'T':0.00001964708350}, {'C':6.646978705*10**(-6), 'F':1.000006647, 'T':6.646934524*10**(-6)}, {'C':2.248792701*10**(-6), 'F':1.000002249, 'T':2.248787644*10**(-6)}, {'C':7.608115314*10**(-7), 'F':1.000000761, 'T':7.608109525*10**(-7)}, {'C':2.573982589*10**(-7), 'F':1.000000257, 'T':2.573981927*10**(-7)}, {'C':8.708320671*10**(-8), 'F':1.000000087, 'T':8.708319912*10**(-8)}, {'C':2.946207418*10**(-8), 'F':1.000000029, 'T':2.946207331*10**(-8)}, {'C':9.967638010*10**(-9), 'F':1.000000010, 'T':9.967637910*10**(-9)}, {'C':3.372261215*10**(-9), 'F':1.000000003, 'T':3.372261203*10**(-9)}, {'C':1.140906782*10**(-9), 'F':1.000000001, 'T':1.140906780*10**(-9)}, {'C':3.859927226*10**(-10), 'F':1.000000000, 'T':3.859927224*10**(-10)}]\n",
    "\n",
    "rho = 0.338\n",
    "rhos.append(rho)\n",
    "GF[rho] = [None, {'C':3.159426514, 'F':25.84623460, 'T':0.9526625479}, {'C':0.1483928441, 'F':1.168404373, 'T':0.1311957119}, {'C':0.04184884930, 'F':1.043537503, 'T':0.04023044278}, {'C':0.01340154709, 'F':1.013578864, 'T':0.01322660440}, {'C':0.004450740755, 'F':1.004470463, 'T':0.004431106056}, {'C':0.001495537377, 'F':1.001497771, 'T':0.001493307410}, {'C':0.0005044926901, 'F':1.000504747, 'T':0.0005042384337}, {'C':0.0001704047077, 'F':1.000170434, 'T':0.0001703756799}, {'C':0.00005758379938, 'F':1.000057587, 'T':0.00005758048387}, {'C':0.00001946184041, 'F':1.000019462, 'T':0.00001946146166}, {'C':6.577932559*10**(-6), 'F':1.000006578, 'T':6.577889291*10**(-6)}, {'C':2.223321841*10**(-6), 'F':1.000002223, 'T':2.223316898*10**(-6)}, {'C':7.514805703*10**(-7), 'F':1.000000751, 'T':7.514800056*10**(-7)}, {'C':2.540001800*10**(-7), 'F':1.000000254, 'T':2.540001155*10**(-7)}, {'C':8.585203199*10**(-8), 'F':1.000000086, 'T':8.585202462*10**(-8)}, {'C':2.901798351*10**(-8), 'F':1.000000029, 'T':2.901798267*10**(-8)}, {'C':9.808078051*10**(-9), 'F':1.000000010, 'T':9.808077955*10**(-9)}, {'C':3.315130338*10**(-9), 'F':1.000000003, 'T':3.315130327*10**(-9)}, {'C':1.120514050*10**(-9), 'F':1.000000001, 'T':1.120514048*10**(-9)}, {'C':3.787337482*10**(-10), 'F':1.000000000, 'T':3.787337480*10**(-10)}]\n",
    "\n",
    "rho = 0.3\n",
    "rhos.append(rho)\n",
    "GF[rho] = [None, {'C':0.8924250371, 'F':2.610598741, 'T':0.5571390806}, {'C':0.1098595268, 'F':1.121018061, 'T':0.09988714720}, {'C':0.02854182311, 'F':1.029335607, 'T':0.02777062919}, {'C':0.008233385218, 'F':1.008300634, 'T':0.008166690420}, {'C':0.002441867511, 'F':1.002447816, 'T':0.002435933738}, {'C':0.0007300644342, 'F':1.000730597, 'T':0.0007295322170}, {'C':0.0002187957012, 'F':1.000218844, 'T':0.0002187478506}, {'C':0.00006561861047, 'F':1.000065623, 'T':0.00006561430524}, {'C':0.00001968377487, 'F':1.000019684, 'T':0.00001968338744}, {'C':5.904969737*10**(-6), 'F':1.000005905, 'T':5.904934868*10**(-6)}, {'C':1.771476276*10**(-6), 'F':1.000001771, 'T':1.771473138*10**(-6)}, {'C':5.314415649*10**(-7), 'F':1.000000531, 'T':5.314412824*10**(-7)}, {'C':1.594323508*10**(-7), 'F':1.000000159, 'T':1.594323254*10**(-7)}, {'C':4.782969458*10**(-8), 'F':1.000000048, 'T':4.782969229*10**(-8)}, {'C':1.434890741*10**(-8), 'F':1.000000014, 'T':1.434890721*10**(-8)}, {'C':4.304672137*10**(-9), 'F':1.000000004, 'T':4.304672119*10**(-9)}, {'C':1.291401633*10**(-9), 'F':1.000000001, 'T':1.291401632*10**(-9)}, {'C':3.874204893*10**(-10), 'F':1.000000000, 'T':3.874204891*10**(-10)}, {'C':1.162261467*10**(-10), 'F':1.000000000, 'T':1.162261467*10**(-10)}, {'C':3.486784401*10**(-11), 'F':1.000000000, 'T':3.486784401*10**(-11)}]\n"
   ]
  },
  {
   "cell_type": "code",
   "execution_count": 3,
   "id": "e0a82b88",
   "metadata": {},
   "outputs": [
    {
     "name": "stdout",
     "output_type": "stream",
     "text": [
      "3.159426514\n"
     ]
    }
   ],
   "source": [
    "x = rhos[2]\n",
    "values = GF[x]\n",
    "print(values[1]['C'])"
   ]
  },
  {
   "cell_type": "code",
   "execution_count": 4,
   "id": "f5c85099",
   "metadata": {},
   "outputs": [],
   "source": [
    "def genCayley(x,maxi): # T = Prod(Z,Set(T))\n",
    "    values = GF[x]\n",
    "    \n",
    "    def indiceMax(t): # param : x^t\n",
    "        u = random()\n",
    "        v = math.log(1/u)\n",
    "        p = math.log(values[t]['T']/(x**t))\n",
    "        k = 0\n",
    "        while v < p:\n",
    "            #print(v,k,p)\n",
    "            k += 1\n",
    "            p -= values[k*t]['T']/k\n",
    "        return k\n",
    "\n",
    "    def genT(t): # param : x^j\n",
    "        #print(t)\n",
    "        k = indiceMax(t)\n",
    "        #print(\"index max\", k)\n",
    "        res, size = ['Z'], 1\n",
    "        if k == 0:\n",
    "            return res, size\n",
    "        for i in range(1,k):\n",
    "            pi = poiss(values[i*t]['T']/i)\n",
    "            for j in range(pi):\n",
    "                #print(\"---\",i,j)\n",
    "                tmp,s = genT(i*t)\n",
    "                for l in range(i):\n",
    "                    res.append(tmp)\n",
    "                size += s*i\n",
    "                if size > maxi:\n",
    "                    raise Exception(\"Too large \" + str(size)) \n",
    "        pi = non_zero_poiss(values[k*t]['T']/k)\n",
    "        for j in range(pi):\n",
    "            #print(\"------\",k,j)\n",
    "            tmp,s = genT(k*t)\n",
    "            for l in range(k):\n",
    "                res.append(tmp)\n",
    "            size += s*k\n",
    "            if size > maxi:\n",
    "                raise Exception(\"Too large \" + str(size)) \n",
    "        return res,size\n",
    "    try:\n",
    "        return genT(1)\n",
    "    except Exception as err:\n",
    "        #print(\"---\", err)\n",
    "        return None, 0 \n",
    "        "
   ]
  },
  {
   "cell_type": "code",
   "execution_count": 5,
   "id": "59d76ce9",
   "metadata": {},
   "outputs": [
    {
     "name": "stdout",
     "output_type": "stream",
     "text": [
      "['Z', ['Z', ['Z', ['Z', ['Z', ['Z']], ['Z'], ['Z', ['Z', ['Z'], ['Z', ['Z', ['Z'], ['Z']]]]], ['Z', ['Z'], ['Z'], ['Z']], ['Z'], ['Z'], ['Z'], ['Z'], ['Z'], ['Z']], ['Z']], ['Z', ['Z', ['Z', ['Z', ['Z'], ['Z'], ['Z']], ['Z']], ['Z'], ['Z']]], ['Z', ['Z', ['Z', ['Z', ['Z']]]], ['Z', ['Z']]], ['Z'], ['Z']], ['Z', ['Z', ['Z'], ['Z']]], ['Z']] 49\n"
     ]
    }
   ],
   "source": [
    "gf, size = genCayley(rhos[0],10000)\n",
    "print(gf, size)"
   ]
  },
  {
   "cell_type": "code",
   "execution_count": 6,
   "id": "414406be",
   "metadata": {},
   "outputs": [],
   "source": [
    "def gen_fixe(x,n):\n",
    "    nb_trials, size_trials = 0, 0\n",
    "    while True :\n",
    "        t,s = genCayley(x,n)\n",
    "        nb_trials += 1\n",
    "        size_trials += s\n",
    "        if s == n:\n",
    "            return nb_trials,size_trials,t\n",
    "        \n",
    "def gen_approx(x,mini, maxi):\n",
    "    nb_trials, size_trials = 0, 0\n",
    "    while True :\n",
    "        t,s = genCayley(x,maxi)\n",
    "        nb_trials += 1\n",
    "        size_trials += s\n",
    "        if mini <= s <= maxi:\n",
    "            return nb_trials,size_trials,t,s"
   ]
  },
  {
   "cell_type": "code",
   "execution_count": 7,
   "id": "a959cab8",
   "metadata": {},
   "outputs": [
    {
     "name": "stdout",
     "output_type": "stream",
     "text": [
      "4 245 ['Z', ['Z', ['Z', ['Z', ['Z', ['Z', ['Z', ['Z']], ['Z', ['Z', ['Z', ['Z'], ['Z', ['Z']], ['Z', ['Z']]], ['Z', ['Z'], ['Z', ['Z', ['Z', ['Z', ['Z']]], ['Z', ['Z', ['Z', ['Z', ['Z', ['Z', ['Z', ['Z', ['Z', ['Z', ['Z', ['Z']], ['Z', ['Z', ['Z', ['Z', ['Z']]], ['Z', ['Z']], ['Z']], ['Z', ['Z', ['Z']]]], ['Z', ['Z', ['Z', ['Z', ['Z'], ['Z'], ['Z']]]]]]]]], ['Z', ['Z']], ['Z']]], ['Z', ['Z', ['Z']], ['Z', ['Z', ['Z', ['Z', ['Z', ['Z', ['Z']], ['Z']]], ['Z', ['Z', ['Z', ['Z', ['Z']]]], ['Z']]]]], ['Z', ['Z', ['Z', ['Z', ['Z', ['Z'], ['Z', ['Z'], ['Z', ['Z'], ['Z'], ['Z', ['Z', ['Z', ['Z']]], ['Z', ['Z'], ['Z', ['Z']]]], ['Z'], ['Z']], ['Z', ['Z'], ['Z', ['Z'], ['Z', ['Z', ['Z'], ['Z', ['Z'], ['Z'], ['Z']], ['Z', ['Z'], ['Z'], ['Z']]]]]]]]]], ['Z'], ['Z']], ['Z'], ['Z', ['Z', ['Z', ['Z'], ['Z'], ['Z']], ['Z', ['Z', ['Z', ['Z']], ['Z', ['Z'], ['Z'], ['Z', ['Z', ['Z', ['Z'], ['Z'], ['Z'], ['Z']], ['Z']]], ['Z']], ['Z', ['Z'], ['Z', ['Z']], ['Z', ['Z'], ['Z']], ['Z', ['Z', ['Z', ['Z']], ['Z', ['Z', ['Z']]]], ['Z', ['Z'], ['Z'], ['Z'], ['Z']]]]], ['Z', ['Z']]]]]], ['Z'], ['Z', ['Z', ['Z']], ['Z'], ['Z'], ['Z']]]]], ['Z'], ['Z'], ['Z'], ['Z'], ['Z']]], ['Z']]], ['Z', ['Z', ['Z', ['Z', ['Z', ['Z'], ['Z', ['Z', ['Z', ['Z', ['Z', ['Z']]], ['Z', ['Z'], ['Z']]], ['Z'], ['Z']]]], ['Z', ['Z', ['Z', ['Z'], ['Z'], ['Z'], ['Z']], ['Z', ['Z'], ['Z'], ['Z']]], ['Z', ['Z', ['Z', ['Z', ['Z', ['Z'], ['Z', ['Z']]], ['Z', ['Z']], ['Z', ['Z']]]], ['Z', ['Z', ['Z', ['Z', ['Z']], ['Z']]]]], ['Z'], ['Z', ['Z'], ['Z', ['Z', ['Z', ['Z', ['Z', ['Z'], ['Z']]], ['Z']]]]]]], ['Z'], ['Z']], ['Z', ['Z', ['Z'], ['Z']], ['Z', ['Z'], ['Z']], ['Z', ['Z', ['Z']]]]]]]]]]]]], ['Z', ['Z'], ['Z', ['Z']]], ['Z']]]] 242\n"
     ]
    }
   ],
   "source": [
    "nb_trials,size_trials,graphe,size = gen_approx(rhos[2],200,300)\n",
    "print(nb_trials,size_trials,graphe,size)"
   ]
  },
  {
   "cell_type": "code",
   "execution_count": 8,
   "id": "65060eef",
   "metadata": {},
   "outputs": [
    {
     "name": "stdout",
     "output_type": "stream",
     "text": [
      "1082 3456547 2909910\n"
     ]
    }
   ],
   "source": [
    "import sys\n",
    "sys.setrecursionlimit(100000)\n",
    "nb_trials,size_trials,graphe,size = gen_approx(rhos[0],1_000_000,10_000_000)\n",
    "print(nb_trials,size_trials,size)"
   ]
  },
  {
   "cell_type": "markdown",
   "id": "b7576618",
   "metadata": {},
   "source": [
    "--- vérification du générateur ---"
   ]
  },
  {
   "cell_type": "code",
   "execution_count": 9,
   "id": "8f334af5",
   "metadata": {},
   "outputs": [],
   "source": [
    "def test_uniformity(gen, nb):\n",
    "    dico = {}\n",
    "    for i in range(nb):\n",
    "        tmp = str(gen())\n",
    "        if tmp in dico:\n",
    "            dico[tmp] += 1\n",
    "        else:\n",
    "             dico[tmp] = 1\n",
    "    print(\"nb:\", len(dico))\n",
    "    for key in dico:\n",
    "        print(key, \"{0:.2f}\".format(dico[key] / nb * 100))\n",
    "    return dico"
   ]
  },
  {
   "cell_type": "code",
   "execution_count": 10,
   "id": "4d51a8ba",
   "metadata": {},
   "outputs": [
    {
     "name": "stdout",
     "output_type": "stream",
     "text": [
      "(5, 6, ['Z', ['Z', ['Z']]])\n"
     ]
    }
   ],
   "source": [
    "print(gen_fixe(rhos[2],3))"
   ]
  },
  {
   "cell_type": "code",
   "execution_count": 11,
   "id": "d214a142",
   "metadata": {},
   "outputs": [],
   "source": [
    "nb = 1_000_000"
   ]
  },
  {
   "cell_type": "code",
   "execution_count": 12,
   "id": "c8657ac8",
   "metadata": {},
   "outputs": [
    {
     "name": "stdout",
     "output_type": "stream",
     "text": [
      "nb: 2\n",
      "['Z', ['Z'], ['Z']] 50.01\n",
      "['Z', ['Z', ['Z']]] 49.99\n"
     ]
    }
   ],
   "source": [
    "dico = test_uniformity(lambda : gen_fixe(rhos[3],3)[2], nb)"
   ]
  },
  {
   "cell_type": "code",
   "execution_count": 13,
   "id": "e64eeaf0",
   "metadata": {},
   "outputs": [
    {
     "name": "stdout",
     "output_type": "stream",
     "text": [
      "nb: 5\n",
      "['Z', ['Z'], ['Z'], ['Z']] 24.98\n",
      "['Z', ['Z', ['Z']], ['Z']] 12.55\n",
      "['Z', ['Z'], ['Z', ['Z']]] 12.48\n",
      "['Z', ['Z', ['Z'], ['Z']]] 24.99\n",
      "['Z', ['Z', ['Z', ['Z']]]] 25.01\n"
     ]
    }
   ],
   "source": [
    "dico = test_uniformity(lambda : gen_fixe(rhos[3],4)[2], nb)"
   ]
  },
  {
   "cell_type": "code",
   "execution_count": 14,
   "id": "e94af840",
   "metadata": {},
   "outputs": [
    {
     "name": "stdout",
     "output_type": "stream",
     "text": [
      "nb: 14\n",
      "['Z', ['Z', ['Z']], ['Z'], ['Z']] 7.41\n",
      "['Z', ['Z', ['Z', ['Z'], ['Z']]]] 11.16\n",
      "['Z', ['Z'], ['Z', ['Z', ['Z']]]] 5.56\n",
      "['Z', ['Z', ['Z', ['Z']]], ['Z']] 5.57\n",
      "['Z', ['Z', ['Z', ['Z']], ['Z']]] 5.55\n",
      "['Z', ['Z', ['Z']], ['Z', ['Z']]] 11.17\n",
      "['Z', ['Z'], ['Z'], ['Z', ['Z']]] 1.85\n",
      "['Z', ['Z', ['Z', ['Z', ['Z']]]]] 11.08\n",
      "['Z', ['Z'], ['Z'], ['Z'], ['Z']] 11.10\n",
      "['Z', ['Z', ['Z'], ['Z']], ['Z']] 5.56\n",
      "['Z', ['Z'], ['Z', ['Z'], ['Z']]] 5.53\n",
      "['Z', ['Z', ['Z'], ['Z'], ['Z']]] 11.11\n",
      "['Z', ['Z', ['Z'], ['Z', ['Z']]]] 5.52\n",
      "['Z', ['Z'], ['Z', ['Z']], ['Z']] 1.85\n",
      "11.1671\n",
      "11.0966\n",
      "11.0905\n",
      "11.1072\n",
      "11.1063\n",
      "11.1567\n",
      "11.0764\n",
      "11.1092\n",
      "11.09\n"
     ]
    }
   ],
   "source": [
    "dico = test_uniformity(lambda : gen_fixe(rhos[3],5)[2],nb)\n",
    "print((dico[\"['Z', ['Z', ['Z']], ['Z', ['Z']]]\"])*100/nb)\n",
    "print((dico[\"['Z', ['Z'], ['Z'], ['Z'], ['Z']]\"])*100/nb)\n",
    "print((dico[\"['Z', ['Z', ['Z'], ['Z']], ['Z']]\"] + dico[\"['Z', ['Z'], ['Z', ['Z'], ['Z']]]\"])*100/nb)\n",
    "print((dico[\"['Z', ['Z', ['Z', ['Z']], ['Z']]]\"] + dico[\"['Z', ['Z'], ['Z', ['Z', ['Z']]]]\"])*100/nb)\n",
    "print((dico[\"['Z', ['Z', ['Z']], ['Z'], ['Z']]\"] + dico[\"['Z', ['Z'], ['Z'], ['Z', ['Z']]]\"] + dico[\"['Z', ['Z'], ['Z', ['Z']], ['Z']]\"])*100/nb)\n",
    "print((dico[\"['Z', ['Z', ['Z', ['Z'], ['Z']]]]\"])*100/nb)\n",
    "print((dico[\"['Z', ['Z', ['Z', ['Z', ['Z']]]]]\"])*100/nb)\n",
    "print((dico[\"['Z', ['Z', ['Z'], ['Z'], ['Z']]]\"])*100/nb)\n",
    "print((dico[\"['Z', ['Z', ['Z'], ['Z', ['Z']]]]\"] + dico[\"['Z', ['Z', ['Z', ['Z']]], ['Z']]\"])*100/nb)\n"
   ]
  },
  {
   "cell_type": "code",
   "execution_count": 15,
   "id": "6a06258c",
   "metadata": {},
   "outputs": [],
   "source": [
    "def counts_max_and_average(gen,nb):\n",
    "    counts = []\n",
    "    discard = 0\n",
    "    for i in range(nb):\n",
    "        size = gen()\n",
    "        if size > 0:\n",
    "            counts.append(size)\n",
    "        else:\n",
    "            discard +=1\n",
    "    return discard, counts, max(counts), sum(counts)/nb"
   ]
  },
  {
   "cell_type": "code",
   "execution_count": 16,
   "id": "b34e7a42",
   "metadata": {},
   "outputs": [
    {
     "name": "stdout",
     "output_type": "stream",
     "text": [
      "trop grands = 0, taille max = 34, moyenne des tailles = 2.6016\n"
     ]
    }
   ],
   "source": [
    "n = 10_000\n",
    "d, l, m, a = counts_max_and_average(lambda : genCayley(rhos[3],1000)[1], n)\n",
    "print(\"trop grands = {}, taille max = {}, moyenne des tailles = {}\".format(d,m,a))"
   ]
  },
  {
   "cell_type": "code",
   "execution_count": 17,
   "id": "6af2dd4e",
   "metadata": {},
   "outputs": [
    {
     "name": "stdout",
     "output_type": "stream",
     "text": [
      "trop grands = 255, taille max = 985, moyenne des tailles = 28.2627\n"
     ]
    }
   ],
   "source": [
    "d, l2, m, a = counts_max_and_average(lambda : genCayley(rhos[0],1000)[1], n)\n",
    "print(\"trop grands = {}, taille max = {}, moyenne des tailles = {}\".format(d,m,a))"
   ]
  },
  {
   "cell_type": "code",
   "execution_count": 18,
   "id": "24f41285",
   "metadata": {},
   "outputs": [
    {
     "data": {
      "image/png": "[encoded data removed]",
      "text/plain": [
       "<Figure size 1000x400 with 1 Axes>"
      ]
     },
     "metadata": {},
     "output_type": "display_data"
    },
    {
     "data": {
      "text/plain": [
       "<Figure size 2000x400 with 0 Axes>"
      ]
     },
     "metadata": {},
     "output_type": "display_data"
    }
   ],
   "source": [
    "import matplotlib.pyplot as plt\n",
    "plt.rcParams['figure.figsize'] = [10, 4]\n",
    "\n",
    "plt.hist(l,bins=200, ec=\"blue\",fill=False) # x = 0.3\n",
    "plt.hist(l2,bins=200, ec=\"red\", fill=False) # x = 0.3383218568\n",
    "plt.title(\"graphes fonctionnels\")\n",
    "plt.xlabel(\"Taille de l'arbre\")\n",
    "plt.ylabel(\"Nombre d'échantillons\")\n",
    "#plt.axis([0, 1000, 0, 500])\n",
    "f = plt.figure()\n",
    "f.set_figwidth(20)\n",
    "plt.show()"
   ]
  },
  {
   "cell_type": "code",
   "execution_count": null,
   "id": "ca849baf",
   "metadata": {},
   "outputs": [],
   "source": []
  },
  {
   "cell_type": "code",
   "execution_count": null,
   "id": "d53500fd",
   "metadata": {},
   "outputs": [],
   "source": []
  }
 ],
 "metadata": {
  "kernelspec": {
   "display_name": "Python 3 (ipykernel)",
   "language": "python",
   "name": "python3"
  },
  "language_info": {
   "codemirror_mode": {
    "name": "ipython",
    "version": 3
   },
   "file_extension": ".py",
   "mimetype": "text/x-python",
   "name": "python",
   "nbconvert_exporter": "python",
   "pygments_lexer": "ipython3",
   "version": "3.11.1"
  }
 },
 "nbformat": 4,
 "nbformat_minor": 5
}
