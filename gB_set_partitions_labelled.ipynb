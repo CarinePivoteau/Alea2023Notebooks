{
 "cells": [
  {
   "cell_type": "code",
   "execution_count": null,
   "id": "9bc2a120",
   "metadata": {},
   "outputs": [],
   "source": [
    "# uniquement pour utliser dans colab : \n",
    "\n",
    "# !git clone https://github.com/CarinePivoteau/Alea2023Notebooks.git\n",
    "# import sys\n",
    "# sys.path.append('/content/Alea2023Notebooks')"
   ]
  },
  {
   "cell_type": "code",
   "execution_count": null,
   "id": "25f1c1f5",
   "metadata": {},
   "outputs": [],
   "source": [
    "# si les modules ne sont pas installés :\n",
    "\n",
    "# import sys\n",
    "# !{sys.executable} -m pip install matplotlib\n",
    "# !{sys.executable} -m pip install graphviz"
   ]
  },
  {
   "cell_type": "code",
   "execution_count": null,
   "id": "52b6e656",
   "metadata": {},
   "outputs": [],
   "source": [
    "# imports : random, time, math, sys, plt, graphviz\n",
    "\n",
    "from helpers import *\n",
    "from gen_laws import *"
   ]
  },
  {
   "cell_type": "code",
   "execution_count": null,
   "id": "c61310d4",
   "metadata": {},
   "outputs": [],
   "source": [
    "# si le modules n'est pas installé :\n",
    "\n",
    "# import sys \n",
    "# !{sys.executable} -m pip install numpy\n",
    "\n",
    "import numpy as np\n",
    "from scipy.special import lambertw"
   ]
  },
  {
   "cell_type": "code",
   "execution_count": null,
   "id": "ba7509d7",
   "metadata": {},
   "outputs": [],
   "source": [
    "lambertw(100) # calcul du paramètre pour n=100"
   ]
  },
  {
   "cell_type": "markdown",
   "id": "b45c5848",
   "metadata": {},
   "source": [
    "## Exo : écrire le générateur de Boltzmann de partitions d'ensemble (étiqueté)"
   ]
  },
  {
   "cell_type": "code",
   "execution_count": null,
   "id": "bc70a038",
   "metadata": {},
   "outputs": [],
   "source": [
    "# SP = MSet(Mset(Z,card>=1))\n",
    "def random_set_partition_free(x):\n",
    "    def label(sp):\n",
    "        # TODO : étant donné un \"squelette\" de partition d'ensemble sp, \n",
    "        #        renvoie sa taille et la partition de [1..n] correspondante\n",
    "\n",
    "    # TODO : engendrer le squelette\n",
    "    \n",
    "    return label(sp)\n",
    "\n",
    "def size_of_random_set_partition_free(x):\n",
    "    # TODO : renvoyer la taille d'une partition aléatoire sous modèle de Boltzmann\n",
    "\n",
    "def number_of_distinct_part_sizes_of_random_set_partition_free(x):\n",
    "    # TODO : renvoyer la taille et les nombre de tailles de part distinctes\n",
    "    #        d'une partition aléatoire sous modèle de Boltzmann\n",
    "    "
   ]
  },
  {
   "cell_type": "code",
   "execution_count": null,
   "id": "da3f0e54",
   "metadata": {
    "scrolled": true
   },
   "outputs": [],
   "source": [
    "size, sp = random_set_partition_free(3.38563014029005)\n",
    "print(size, sp)"
   ]
  },
  {
   "cell_type": "code",
   "execution_count": null,
   "id": "43265603",
   "metadata": {},
   "outputs": [],
   "source": [
    "print(number_of_distinct_part_sizes_of_random_set_partition_free(6.5))"
   ]
  },
  {
   "cell_type": "markdown",
   "id": "182f0df8",
   "metadata": {},
   "source": [
    "**Affichage de la distributions des tailles pour diférentes valeurs du paramètre**"
   ]
  },
  {
   "cell_type": "code",
   "execution_count": null,
   "id": "d59947bc",
   "metadata": {},
   "outputs": [],
   "source": [
    "from collections import defaultdict\n",
    "def counts_max_and_average2(gen,nb):\n",
    "    counts = defaultdict(int)\n",
    "    discard = 0\n",
    "    for i in range(nb):\n",
    "        size = gen()\n",
    "        counts[size] += 1\n",
    "    m = max(counts.keys())\n",
    "    l = [0]*(m+1)\n",
    "    for k,v in counts.items():\n",
    "        l[k] = v\n",
    "    return discard, l, m, sum([i*l[i] for i in range(len(l))])/nb\n",
    "\n",
    "n = 100_000\n",
    "values = [1.5,2,2.5,3,5]\n",
    "k = len(values)\n",
    "l = [0]*k\n",
    "for i in range(k):\n",
    "    d, l[i], m, a = counts_max_and_average2(lambda : size_of_random_set_partition_free(values[i]), n)\n",
    "    print(\"trop grands = {}, taille max = {}, moyenne des tailles = {}\".format(d,m,a))"
   ]
  },
  {
   "cell_type": "code",
   "execution_count": null,
   "id": "1ad0de1c",
   "metadata": {},
   "outputs": [],
   "source": [
    "import matplotlib.pyplot as plt\n",
    "plt.rcParams['figure.figsize'] = [12, 4]\n",
    "\n",
    "for i in range(1,k):\n",
    "    plt.plot(l[i])\n",
    "plt.show()"
   ]
  },
  {
   "cell_type": "markdown",
   "id": "6c629b66",
   "metadata": {},
   "source": [
    "## Exo : tester empiriquement que le nombre de tailles de parts distinctes est en $O(\\log n)$. \n",
    "\n",
    "Réf : \"On the number of distinct block sizes in partitions of a set\", Odlyzko, Richmond, JCTA 1985"
   ]
  },
  {
   "cell_type": "code",
   "execution_count": null,
   "id": "e0c46270",
   "metadata": {},
   "outputs": [],
   "source": []
  },
  {
   "cell_type": "code",
   "execution_count": null,
   "id": "dc899c05",
   "metadata": {},
   "outputs": [],
   "source": []
  },
  {
   "cell_type": "code",
   "execution_count": null,
   "id": "24eb7a9d",
   "metadata": {},
   "outputs": [],
   "source": []
  }
 ],
 "metadata": {
  "kernelspec": {
   "display_name": "Python 3 (ipykernel)",
   "language": "python",
   "name": "python3"
  },
  "language_info": {
   "codemirror_mode": {
    "name": "ipython",
    "version": 3
   },
   "file_extension": ".py",
   "mimetype": "text/x-python",
   "name": "python",
   "nbconvert_exporter": "python",
   "pygments_lexer": "ipython3",
   "version": "3.11.1"
  }
 },
 "nbformat": 4,
 "nbformat_minor": 5
}
