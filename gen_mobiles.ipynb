{
 "cells": [
  {
   "cell_type": "code",
   "execution_count": 1,
   "id": "cb38d34b",
   "metadata": {},
   "outputs": [],
   "source": [
    "from random import *\n",
    "from time import *\n",
    "import math\n",
    "from math import comb\n",
    "import sys\n",
    "import matplotlib.pyplot as plt"
   ]
  },
  {
   "cell_type": "code",
   "execution_count": 2,
   "id": "ac8f8e57",
   "metadata": {},
   "outputs": [],
   "source": [
    "# pour l'étiquetage\n",
    "\n",
    "def random_shuffle(sigma):\n",
    "    n = len(sigma)\n",
    "    for i in range(1,n):\n",
    "        j = randint(0,i) # dans l'intervalle $[0..i]$ \n",
    "        sigma[i],sigma[j]=sigma[j],sigma[i] # échange les cases d'indices $i$ et $j$\n",
    "\n",
    "def random_permutation(n):\n",
    "    sigma = [ i for i in range(1,n+1) ]\n",
    "    random_shuffle(sigma)\n",
    "    return sigma"
   ]
  },
  {
   "cell_type": "code",
   "execution_count": 3,
   "id": "6afb1be8",
   "metadata": {},
   "outputs": [],
   "source": [
    "def test_uniformity(gen, nb):\n",
    "    dico = {}\n",
    "    for i in range(nb):\n",
    "        tmp = str(gen())\n",
    "        if tmp in dico:\n",
    "            dico[tmp] += 1\n",
    "        else:\n",
    "            dico[tmp] = 1\n",
    "    print(\"nb:\", len(dico))\n",
    "    for key in dico:\n",
    "        print(key, \"{0:.2f}\".format(dico[key] / nb * 100))\n",
    "\n",
    "def plot_time(gen, mini, maxi, step):\n",
    "    sizes, timings = [], []\n",
    "    nb = 100\n",
    "    for i in range(mini, maxi, step):\n",
    "        sizes.append(i)        \n",
    "        t1 = time()\n",
    "        for k in range(nb):\n",
    "            gen(i)\n",
    "        timings.append((time() - t1) / nb)\n",
    "    plt.plot(sizes, timings)\n",
    "    plt.show()\n",
    "    \n",
    "def plot_values(gen, mini, maxi, step):\n",
    "    sizes, values = [], []\n",
    "    nb = 100\n",
    "    for i in range(mini, maxi, step):\n",
    "        sizes.append(i)        \n",
    "        v = 0\n",
    "        for k in range(nb):\n",
    "            v += gen(i)\n",
    "        values.append(v / nb)\n",
    "    plt.plot(sizes,values)\n",
    "    plt.show()"
   ]
  },
  {
   "cell_type": "code",
   "execution_count": 4,
   "id": "64a914d2",
   "metadata": {},
   "outputs": [
    {
     "name": "stdout",
     "output_type": "stream",
     "text": [
      "[0, 1, 1.0, 1.5, 2.833333333333333, 6.083333333333333]\n",
      "[1, 1.0, 1.5, 2.833333333333333, 6.083333333333333, 14.116666666666667]\n",
      "[1, 1, 2.0, 4.5, 10.833333333333332, 27.249999999999996]\n"
     ]
    }
   ],
   "source": [
    "# M = Z + Z x Cyc(M) => M = Z + Z x C, tC = S x tM, S = 1 + M x S \n",
    "\n",
    "cmax = 600 # à 700, on obtient inf...\n",
    "cM = [0]\n",
    "cC = [1]\n",
    "cS = [1]\n",
    "\n",
    "for i in range(1,cmax+1):\n",
    "    cM.append(cC[i-1])\n",
    "    cC.append(sum(cS[i-k] * k * cM[k]/i for k in range(1,i+1)))\n",
    "    cS.append(sum(cS[i-k] * cM[k] for k in range(1,i+1)))\n",
    "\n",
    "print(cM[:6])\n",
    "print(cC[:6])\n",
    "print(cS[:6])"
   ]
  },
  {
   "cell_type": "code",
   "execution_count": 5,
   "id": "a7edc8aa",
   "metadata": {},
   "outputs": [
    {
     "name": "stdout",
     "output_type": "stream",
     "text": [
      "600 5.936434713651471e+293\n"
     ]
    }
   ],
   "source": [
    "print(cmax,cM[cmax])"
   ]
  },
  {
   "cell_type": "code",
   "execution_count": 6,
   "id": "9eebfbcc",
   "metadata": {},
   "outputs": [],
   "source": [
    "# M = Z + Z x Cyc(M) => M = Z + Z x C, tC = S x tM, S = 1 + M x S \n",
    "\n",
    "def genM(n):\n",
    "    if n == 1:\n",
    "        return ['z'] # Z\n",
    "    return ['z']+genC(n-1)\n",
    "\n",
    "def uniform_cutC(n):\n",
    "    u = random()\n",
    "    k = 0\n",
    "    s = 0\n",
    "    while u > s:\n",
    "        k += 1\n",
    "        s += k * cM[k] * cS[n-k] / (n * cC[n])  # tC = S x tM\n",
    "    return k\n",
    "\n",
    "def genC(n):\n",
    "    if n == 0:\n",
    "        return []\n",
    "    k = uniform_cutC(n)\n",
    "    return [genM(k)] + genS(n-k)\n",
    "\n",
    "\n",
    "def uniform_cutS(n):\n",
    "    u = random()\n",
    "    k = 0\n",
    "    s = 0\n",
    "    while u > s:\n",
    "        k += 1\n",
    "        s += cM[k] * cS[n-k] / cS[n]  # S = 1 + M x S \n",
    "    return k\n",
    "\n",
    "def genS(n):\n",
    "    if n == 0:\n",
    "        return []\n",
    "    k = uniform_cutS(n)\n",
    "    return [genM(k)] + genS(n-k)\n",
    "\n",
    "def genM_labelled(n):\n",
    "    p = random_permutation(n)\n",
    "\n",
    "    def aux(t):\n",
    "        if t == ['z']:\n",
    "            return [p.pop()]\n",
    "        return [p.pop()] + [aux(tt) for tt in t[1:]]  # tri pour imposer l'ordre d'affichage\n",
    "    return aux(genM(n))"
   ]
  },
  {
   "cell_type": "code",
   "execution_count": 7,
   "id": "db8a7c04",
   "metadata": {
    "scrolled": true
   },
   "outputs": [
    {
     "name": "stdout",
     "output_type": "stream",
     "text": [
      "['z', ['z', ['z', ['z']], ['z'], ['z', ['z'], ['z'], ['z']], ['z', ['z'], ['z', ['z'], ['z'], ['z'], ['z']]]], ['z', ['z', ['z']]], ['z']]\n"
     ]
    }
   ],
   "source": [
    "print(genM(20))"
   ]
  },
  {
   "cell_type": "code",
   "execution_count": 8,
   "id": "728823bd",
   "metadata": {},
   "outputs": [
    {
     "name": "stdout",
     "output_type": "stream",
     "text": [
      "[267, [282, [210, [128, [277, [65, [157, [414, [375, [48, [522, [195, [440, [387, [191, [239, [45, [306, [86, [215], [560], [500]], [141], [113], [297, [73]], [84], [354, [100, [450]], [288]]]]], [322]], [107, [499, [57]]], [183, [167]]]], [254, [236, [562, [552, [224, [539, [568, [197, [133, [77, [403, [501, [409], [504]]], [423, [482, [434]], [115, [441, [315, [509], [221]]]]], [317], [405, [42]], [481, [149, [333]], [159]]], [123, [453]]], [575], [332, [62, [351, [80, [465], [319, [515], [27]], [305, [424, [124], [198]], [536]]], [98]], [35, [438], [163]]]], [586], [24], [585], [480, [246, [418, [173, [91, [395, [3, [469, [156, [41, [362, [226, [510, [474]]]]], [561]]], [376], [177, [489]], [26, [550], [112], [212]]]]]], [422, [555]]], [213], [266]]], [15], [233, [192, [290], [64]]], [31, [513, [309]]], [58]], [259], [114], [237, [219, [28, [429, [137, [567]]], [344], [5], [214, [14, [462]]]], [119, [311], [110, [449]]]], [121, [307]], [381], [493, [338]]], [407], [517], [153, [190]], [326, [523]], [314], [461, [60], [30, [537, [511, [472, [87], [166], [391, [231], [147], [565, [158, [304, [238, [117], [495]]]]], [218]]], [439], [256]]]]], [340, [446]], [142, [430]], [260]]], [341]]]], [298, [516, [144], [359], [491]], [225]], [169, [392, [152, [274, [300, [433, [289]]], [230, [436, [196]]], [373]]], [452, [402, [20, [258]]], [508, [284]], [220, [143, [345, [343, [525]]]]]]], [88, [398]]], [281, [150, [271, [591, [573]]]]]]]]]], [579], [22, [557]], [188, [83]]], [426, [75, [382, [390, [473, [1, [223]]], [241], [92]]], [229]], [206, [11], [127]], [79]], [93, [205], [582], [563, [477, [580]]]]], [170, [346, [2, [458, [349]]]]], [324]], [447, [243]], [408], [94], [17, [594], [564, [291], [101, [527, [172, [444], [356], [528], [512, [68]]]]], [120], [138]]], [399], [413, [248, [9, [162, [294, [296, [445, [318], [279], [535, [262]], [66, [393, [599, [102]]]], [199, [334, [154, [358, [443]]], [553, [67]], [544]]]], [268, [530, [51, [235]], [4], [365], [95], [363, [136]], [255]], [369, [357]], [505]], [164], [252, [301]]], [541], [263, [295]], [367]], [547]]], [524]], [108, [490]]], [578], [337, [69, [587], [186]], [377, [598]]], [140], [302], [6, [327, [37, [135], [570, [178]]], [286]]], [303, [61, [185, [378]]]]]], [532, [132]], [463, [569], [364], [427], [70]]]], [131, [18, [175, [139]]]]], [32, [160, [487, [216, [416, [40, [276, [471, [16, [558, [385, [122, [372, [54, [464, [232, [316, [134]]]], [432], [34, [479]]]]]]], [498, [130], [488]], [187, [581]], [540], [448, [468], [431], [36]]]], [400, [478]], [81, [380, [545, [442, [533]]]]], [379], [325]]], [49, [492, [109, [146, [572, [583, [74, [204, [8, [193, [497, [383]]], [421]]]], [228], [437], [253]]], [194, [353, [275]]], [566, [374, [211, [52, [145, [584, [406, [38, [116]], [222], [118]]], [23]]]], [29, [13, [55, [485, [278, [531, [201], [417]]]], [520, [457]]]], [71]]], [242], [329], [328]], [44], [313, [293, [401, [538, [507], [283, [514]], [272, [467, [420, [251]]]], [549]]], [76, [308]], [466], [244], [103, [595]]], [503]]], [111, [99]]], [182]], [388], [287], [600], [496], [148], [33, [454, [59, [574, [39]]]]]], [519], [534]], [589, [394]], [593]], [21, [335, [155, [397, [184]]], [596]], [521], [63], [240], [352]], [415, [518, [245, [129]], [361], [355, [460, [292]], [571, [475]]]], [106, [551, [577, [85]]]]], [270], [419, [502, [484, [348, [97, [486, [174, [168, [25, [273], [47], [370]]], [529], [404, [323, [506, [386, [209, [203, [7, [264, [280, [360]], [171, [181]], [82], [299, [456, [250, [19, [50, [336], [470], [265]]]], [165], [234, [179, [176], [10, [451, [46]]]]]]]], [285, [554]], [227]], [576, [200]], [56], [371], [347, [105]], [180]], [320, [548, [597], [189]], [428]], [89, [126]]]]]]]], [249], [331, [389]], [330]]], [104], [96, [526, [435, [321]]], [312], [43, [546]]], [350]], [339]], [257], [202]]]], [310, [261], [384]], [483, [90, [247, [207]]], [366], [455], [494], [590]], [542, [412, [476, [459, [151], [217, [208]]]], [269, [411, [410]]]], [556]], [53], [368, [125]], [559, [72]], [592, [342, [78], [396]]], [543, [161, [588]], [425]], [12]]]]\n"
     ]
    }
   ],
   "source": [
    "print(genM_labelled(cmax))"
   ]
  },
  {
   "cell_type": "code",
   "execution_count": 9,
   "id": "c7aaa19b",
   "metadata": {},
   "outputs": [
    {
     "name": "stdout",
     "output_type": "stream",
     "text": [
      "nb: 12\n",
      "[1, [2], [3]] 5.57\n",
      "[3, [1, [2]]] 11.08\n",
      "[2, [3, [1]]] 11.11\n",
      "[1, [3, [2]]] 11.06\n",
      "[2, [1], [3]] 5.53\n",
      "[2, [3], [1]] 5.53\n",
      "[2, [1, [3]]] 11.15\n",
      "[3, [2, [1]]] 11.19\n",
      "[1, [2, [3]]] 11.12\n",
      "[3, [2], [1]] 5.55\n",
      "[1, [3], [2]] 5.53\n",
      "[3, [1], [2]] 5.57\n",
      "11.11111111111111\n"
     ]
    }
   ],
   "source": [
    "test_uniformity(lambda : genM_labelled(3),1000000)\n",
    "print(100/9.)\n",
    "#print(100/68.)"
   ]
  },
  {
   "cell_type": "code",
   "execution_count": 10,
   "id": "4bdb4d15",
   "metadata": {},
   "outputs": [
    {
     "data": {
      "image/png": "[encoded data removed]",
      "text/plain": [
       "<Figure size 640x480 with 1 Axes>"
      ]
     },
     "metadata": {},
     "output_type": "display_data"
    }
   ],
   "source": [
    "plot_time(genM, 10, cmax, 10)"
   ]
  },
  {
   "cell_type": "code",
   "execution_count": 11,
   "id": "cb67ba93",
   "metadata": {},
   "outputs": [],
   "source": [
    "def profiles(nb, size): # nombre de noeuds moyen à chaque hauteur\n",
    "    heights = [0]\n",
    "    def p(t,h):\n",
    "        if h == len(heights):\n",
    "            heights.append(1)\n",
    "        else:\n",
    "            heights[h]+=1\n",
    "        if t!=():\n",
    "            for st in t[1:]:\n",
    "                p(st,h+1)\n",
    "    for _ in range(nb):\n",
    "        t = genM(size)\n",
    "        p(t,0)\n",
    "    return [heights[i]/nb for i in range(len(heights))]"
   ]
  },
  {
   "cell_type": "code",
   "execution_count": 12,
   "id": "7a5f2331",
   "metadata": {},
   "outputs": [
    {
     "name": "stdout",
     "output_type": "stream",
     "text": [
      "78\n"
     ]
    },
    {
     "data": {
      "image/png": "[encoded data removed]",
      "text/plain": [
       "<Figure size 640x480 with 1 Axes>"
      ]
     },
     "metadata": {},
     "output_type": "display_data"
    }
   ],
   "source": [
    "ps = profiles(1000,cmax)\n",
    "print(len(ps))\n",
    "plt.plot(ps)\n",
    "plt.show()"
   ]
  },
  {
   "cell_type": "code",
   "execution_count": null,
   "id": "1918decb",
   "metadata": {},
   "outputs": [],
   "source": []
  }
 ],
 "metadata": {
  "kernelspec": {
   "display_name": "Python 3 (ipykernel)",
   "language": "python",
   "name": "python3"
  },
  "language_info": {
   "codemirror_mode": {
    "name": "ipython",
    "version": 3
   },
   "file_extension": ".py",
   "mimetype": "text/x-python",
   "name": "python",
   "nbconvert_exporter": "python",
   "pygments_lexer": "ipython3",
   "version": "3.11.1"
  }
 },
 "nbformat": 4,
 "nbformat_minor": 5
}
