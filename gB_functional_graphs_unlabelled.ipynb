{
 "cells": [
  {
   "cell_type": "code",
   "execution_count": 1,
   "id": "52b6e656",
   "metadata": {},
   "outputs": [],
   "source": [
    "from helpers import *\n",
    "from gen_laws import *"
   ]
  },
  {
   "cell_type": "code",
   "execution_count": 2,
   "id": "c75a66e3",
   "metadata": {},
   "outputs": [],
   "source": [
    "#{F = Set(C), C = Cycle(T), T = Prod(Z,Set(T))}"
   ]
  },
  {
   "cell_type": "code",
   "execution_count": 3,
   "id": "ac17a40c",
   "metadata": {},
   "outputs": [],
   "source": [
    "GF = dict()\n",
    "x = 0.3383218568\n",
    "xValues = [x]\n",
    "GF[x] = [None, {'C':10.63994532, 'F':45840.85244, 'T':0.9999732953}, {'C':0.1487616397, 'F':1.168869811, 'T':0.1314878868}, {'C':0.04197858310, 'F':1.043677556, 'T':0.04035050316}, {'C':0.01345404181, 'F':1.013632743, 'T':0.01327774371}, {'C':0.004472161902, 'F':1.004492074, 'T':0.004452338585}, {'C':0.001504128164, 'F':1.001506387, 'T':0.001501872543}, {'C':0.0005078685209, 'F':1.000508126, 'T':0.0005076108521}, {'C':0.0001717076179, 'F':1.000171737, 'T':0.0001716781445}, {'C':0.00005807924272, 'F':1.000058083, 'T':0.00005807586992}, {'C':0.00001964796710, 'F':1.000019648, 'T':0.00001964758108}, {'C':6.647163878*10**(-6), 'F':1.000006647, 'T':6.647119694*10**(-6)}, {'C':2.248861044*10**(-6), 'F':1.000002249, 'T':2.248855986*10**(-6)}, {'C':7.608365796*10**(-7), 'F':1.000000761, 'T':7.608360008*10**(-7)}, {'C':2.574073852*10**(-7), 'F':1.000000257, 'T':2.574073190*10**(-7)}, {'C':8.708651485*10**(-8), 'F':1.000000087, 'T':8.708650726*10**(-8)}, {'C':2.946326801*10**(-8), 'F':1.000000029, 'T':2.946326714*10**(-8)}, {'C':9.968067152*10**(-9), 'F':1.000000010, 'T':9.968067052*10**(-9)}, {'C':3.372414943*10**(-9), 'F':1.000000003, 'T':3.372414931*10**(-9)}, {'C':1.140961681*10**(-9), 'F':1.000000001, 'T':1.140961679*10**(-9)}, {'C':3.860122736*10**(-10), 'F':1.000000000, 'T':3.860122734*10**(-10)}]\n",
    "\n",
    "x = 0.338321\n",
    "xValues.append(x)\n",
    "GF[x] = [None, {'C':6.108835942, 'F':493.6471081, 'T':0.9975201626}, {'C':0.1487606568, 'F':1.168868571, 'T':0.1314871083}, {'C':0.04197823733, 'F':1.043677182, 'T':0.04035018321}, {'C':0.01345390185, 'F':1.013632599, 'T':0.01327760738}, {'C':0.004472104767, 'F':1.004492017, 'T':0.004452281954}, {'C':0.001504105241, 'F':1.001506364, 'T':0.001501849688}, {'C':0.0005078595085, 'F':1.000508117, 'T':0.0005076018489}, {'C':0.0001717041379, 'F':1.000171734, 'T':0.0001716746657}, {'C':0.00005807791881, 'F':1.000058081, 'T':0.00005807454615}, {'C':0.00001964746951, 'F':1.000019648, 'T':0.00001964708350}, {'C':6.646978705*10**(-6), 'F':1.000006647, 'T':6.646934524*10**(-6)}, {'C':2.248792701*10**(-6), 'F':1.000002249, 'T':2.248787644*10**(-6)}, {'C':7.608115314*10**(-7), 'F':1.000000761, 'T':7.608109525*10**(-7)}, {'C':2.573982589*10**(-7), 'F':1.000000257, 'T':2.573981927*10**(-7)}, {'C':8.708320671*10**(-8), 'F':1.000000087, 'T':8.708319912*10**(-8)}, {'C':2.946207418*10**(-8), 'F':1.000000029, 'T':2.946207331*10**(-8)}, {'C':9.967638010*10**(-9), 'F':1.000000010, 'T':9.967637910*10**(-9)}, {'C':3.372261215*10**(-9), 'F':1.000000003, 'T':3.372261203*10**(-9)}, {'C':1.140906782*10**(-9), 'F':1.000000001, 'T':1.140906780*10**(-9)}, {'C':3.859927226*10**(-10), 'F':1.000000000, 'T':3.859927224*10**(-10)}]\n",
    "\n",
    "x = 0.338\n",
    "xValues.append(x)\n",
    "GF[x] = [None, {'C':3.159426514, 'F':25.84623460, 'T':0.9526625479}, {'C':0.1483928441, 'F':1.168404373, 'T':0.1311957119}, {'C':0.04184884930, 'F':1.043537503, 'T':0.04023044278}, {'C':0.01340154709, 'F':1.013578864, 'T':0.01322660440}, {'C':0.004450740755, 'F':1.004470463, 'T':0.004431106056}, {'C':0.001495537377, 'F':1.001497771, 'T':0.001493307410}, {'C':0.0005044926901, 'F':1.000504747, 'T':0.0005042384337}, {'C':0.0001704047077, 'F':1.000170434, 'T':0.0001703756799}, {'C':0.00005758379938, 'F':1.000057587, 'T':0.00005758048387}, {'C':0.00001946184041, 'F':1.000019462, 'T':0.00001946146166}, {'C':6.577932559*10**(-6), 'F':1.000006578, 'T':6.577889291*10**(-6)}, {'C':2.223321841*10**(-6), 'F':1.000002223, 'T':2.223316898*10**(-6)}, {'C':7.514805703*10**(-7), 'F':1.000000751, 'T':7.514800056*10**(-7)}, {'C':2.540001800*10**(-7), 'F':1.000000254, 'T':2.540001155*10**(-7)}, {'C':8.585203199*10**(-8), 'F':1.000000086, 'T':8.585202462*10**(-8)}, {'C':2.901798351*10**(-8), 'F':1.000000029, 'T':2.901798267*10**(-8)}, {'C':9.808078051*10**(-9), 'F':1.000000010, 'T':9.808077955*10**(-9)}, {'C':3.315130338*10**(-9), 'F':1.000000003, 'T':3.315130327*10**(-9)}, {'C':1.120514050*10**(-9), 'F':1.000000001, 'T':1.120514048*10**(-9)}, {'C':3.787337482*10**(-10), 'F':1.000000000, 'T':3.787337480*10**(-10)}]\n",
    "\n",
    "x = 0.3\n",
    "xValues.append(x)\n",
    "GF[x] = [None, {'C':0.8924250371, 'F':2.610598741, 'T':0.5571390806}, {'C':0.1098595268, 'F':1.121018061, 'T':0.09988714720}, {'C':0.02854182311, 'F':1.029335607, 'T':0.02777062919}, {'C':0.008233385218, 'F':1.008300634, 'T':0.008166690420}, {'C':0.002441867511, 'F':1.002447816, 'T':0.002435933738}, {'C':0.0007300644342, 'F':1.000730597, 'T':0.0007295322170}, {'C':0.0002187957012, 'F':1.000218844, 'T':0.0002187478506}, {'C':0.00006561861047, 'F':1.000065623, 'T':0.00006561430524}, {'C':0.00001968377487, 'F':1.000019684, 'T':0.00001968338744}, {'C':5.904969737*10**(-6), 'F':1.000005905, 'T':5.904934868*10**(-6)}, {'C':1.771476276*10**(-6), 'F':1.000001771, 'T':1.771473138*10**(-6)}, {'C':5.314415649*10**(-7), 'F':1.000000531, 'T':5.314412824*10**(-7)}, {'C':1.594323508*10**(-7), 'F':1.000000159, 'T':1.594323254*10**(-7)}, {'C':4.782969458*10**(-8), 'F':1.000000048, 'T':4.782969229*10**(-8)}, {'C':1.434890741*10**(-8), 'F':1.000000014, 'T':1.434890721*10**(-8)}, {'C':4.304672137*10**(-9), 'F':1.000000004, 'T':4.304672119*10**(-9)}, {'C':1.291401633*10**(-9), 'F':1.000000001, 'T':1.291401632*10**(-9)}, {'C':3.874204893*10**(-10), 'F':1.000000000, 'T':3.874204891*10**(-10)}, {'C':1.162261467*10**(-10), 'F':1.000000000, 'T':1.162261467*10**(-10)}, {'C':3.486784401*10**(-11), 'F':1.000000000, 'T':3.486784401*10**(-11)}]\n"
   ]
  },
  {
   "cell_type": "code",
   "execution_count": 4,
   "id": "e0a82b88",
   "metadata": {},
   "outputs": [
    {
     "name": "stdout",
     "output_type": "stream",
     "text": [
      "3.159426514\n"
     ]
    }
   ],
   "source": [
    "x = xValues[2]\n",
    "values = GF[x]\n",
    "print(values[1]['C']) #C(x^1)\n",
    "print(values[2]['C']) #C(x^2)"
   ]
  },
  {
   "cell_type": "code",
   "execution_count": 5,
   "id": "f5c85099",
   "metadata": {},
   "outputs": [],
   "source": [
    "def random_functional_graph_free(x,maxi):\n",
    "    values = GF[x]\n",
    "    \n",
    "    def indiceMax(t): # param : x^t\n",
    "        u = random.random()\n",
    "        v = math.log(1/u)\n",
    "        p = math.log(values[t]['T']/(x**t))\n",
    "        k = 0\n",
    "        while v < p:\n",
    "            #print(v,k,p)\n",
    "            k += 1\n",
    "            p -= values[k*t]['T']/k\n",
    "        return k\n",
    "\n",
    "    def genT(t): # param : x^j\n",
    "        #print(t)\n",
    "        k = indiceMax(t)\n",
    "        #print(\"index max\", k)\n",
    "        res, size = ['Z'], 1\n",
    "        if k == 0:\n",
    "            return res, size\n",
    "        for i in range(1,k):\n",
    "            pi = poiss(values[i*t]['T']/i)\n",
    "            for j in range(pi):\n",
    "                #print(\"---\",i,j)\n",
    "                tmp,s = genT(i*t)\n",
    "                for l in range(i):\n",
    "                    res.append(tmp)\n",
    "                size += s*i\n",
    "                if size > maxi:\n",
    "                    raise Exception(\"Too large \" + str(size)) \n",
    "        pi = non_zero_poiss(values[k*t]['T']/k)\n",
    "        for j in range(pi):\n",
    "            #print(\"------\",k,j)\n",
    "            tmp,s = genT(k*t)\n",
    "            for l in range(k):\n",
    "                res.append(tmp)\n",
    "            size += s*k\n",
    "            if size > maxi:\n",
    "                raise Exception(\"Too large \" + str(size)) \n",
    "        return res,size\n",
    "    \n",
    "    def genC(t): # param : x^j\n",
    "        #print(t)\n",
    "        k = indiceMax(t)\n",
    "        #print(\"index max\", k)\n",
    "        res, size = ['Z'], 1\n",
    "        if k == 0:\n",
    "            return res, size\n",
    "        for i in range(1,k):\n",
    "            pi = poiss(values[i*t]['T']/i)\n",
    "            for j in range(pi):\n",
    "                #print(\"---\",i,j)\n",
    "                tmp,s = genT(i*t)\n",
    "                for l in range(i):\n",
    "                    res.append(tmp)\n",
    "                size += s*i\n",
    "                if size > maxi:\n",
    "                    raise Exception(\"Too large \" + str(size)) \n",
    "        return res,size\n",
    "    \n",
    "    try:\n",
    "        return genT(1)\n",
    "    except Exception as err:\n",
    "        #print(\"---\", err)\n",
    "        return None, 0 \n",
    "        "
   ]
  },
  {
   "cell_type": "code",
   "execution_count": null,
   "id": "555ad4cc",
   "metadata": {},
   "outputs": [],
   "source": [
    "# genCC:=proc(x)\n",
    "# \tlocal ordre_sym, lg_motif, k, j, m, i1, i2;\n",
    "\n",
    "# \tordre_sym:=proc()\n",
    "# \t \tlocal U, k, p; \n",
    "#                 \tU := random(); \n",
    "#                 \tk := 1; \n",
    "#                 \tp := log(1/(1-x/(1-x))); \n",
    "#                 \twhile p/oracleCx(x) < U do \n",
    "#                    \t\tk := k+1; \n",
    "#                         \tp := p + phi(k)/k*log(1/(1-x^k/(1-x^k)));\n",
    "#                 \tend do; \n",
    "#                \tk\t\n",
    "# \tend;\n",
    "\n",
    "# \tlg_motif:=proc(i)\n",
    "# \t\tloga(x^i/(1-x^i))\n",
    "# \tend;\n",
    "\n",
    "# \tk:=ordre_sym();\n",
    "# \tj:=lg_motif(k);\n",
    "\n",
    "# \t#printf(\"j:%d,k:%d\",j,k);\n",
    "\n",
    "# \tm:=seq(fast_geom(x^k)+1,i1=1..j);\n",
    "# \t[seq(m,i2=1..k)];\n",
    "# end;\n"
   ]
  },
  {
   "cell_type": "code",
   "execution_count": 6,
   "id": "59d76ce9",
   "metadata": {},
   "outputs": [
    {
     "name": "stdout",
     "output_type": "stream",
     "text": [
      "['Z', ['Z', ['Z', ['Z', ['Z']]], ['Z']]] 6\n"
     ]
    }
   ],
   "source": [
    "gf, size = random_functional_graph_free(xValues[0],10000)\n",
    "print(gf, size)"
   ]
  },
  {
   "cell_type": "code",
   "execution_count": 7,
   "id": "414406be",
   "metadata": {},
   "outputs": [],
   "source": [
    "def random_functional_graph(x, n):\n",
    "    return gen_random_fixed_size(random_functional_graph_free, x, n)\n",
    "\n",
    "def random_functional_graph_approx(x, mini, maxi):\n",
    "    return gen_random_approx_size(random_functional_graph_free, x, mini, maxi)"
   ]
  },
  {
   "cell_type": "code",
   "execution_count": 8,
   "id": "a959cab8",
   "metadata": {},
   "outputs": [
    {
     "name": "stdout",
     "output_type": "stream",
     "text": [
      "45 606 ['Z', ['Z', ['Z', ['Z', ['Z', ['Z', ['Z']], ['Z', ['Z', ['Z', ['Z', ['Z']]]], ['Z', ['Z', ['Z'], ['Z']]], ['Z'], ['Z']], ['Z', ['Z', ['Z', ['Z'], ['Z'], ['Z', ['Z', ['Z', ['Z', ['Z', ['Z', ['Z', ['Z', ['Z', ['Z'], ['Z', ['Z', ['Z']], ['Z', ['Z', ['Z', ['Z', ['Z', ['Z'], ['Z', ['Z', ['Z']], ['Z', ['Z', ['Z', ['Z', ['Z'], ['Z'], ['Z', ['Z', ['Z', ['Z']]], ['Z'], ['Z'], ['Z']]]]]]], ['Z', ['Z', ['Z']], ['Z', ['Z', ['Z', ['Z'], ['Z', ['Z', ['Z'], ['Z']]], ['Z', ['Z', ['Z', ['Z', ['Z'], ['Z', ['Z']], ['Z', ['Z', ['Z'], ['Z']]]]], ['Z', ['Z', ['Z', ['Z']], ['Z', ['Z']], ['Z'], ['Z'], ['Z']]]], ['Z', ['Z', ['Z', ['Z', ['Z']], ['Z']]]]]], ['Z', ['Z', ['Z', ['Z']]]]]]], ['Z'], ['Z'], ['Z'], ['Z']], ['Z']]], ['Z', ['Z']], ['Z', ['Z', ['Z', ['Z', ['Z'], ['Z']], ['Z', ['Z']], ['Z', ['Z', ['Z', ['Z', ['Z'], ['Z', ['Z'], ['Z']]]]], ['Z']], ['Z'], ['Z']], ['Z', ['Z', ['Z', ['Z']]], ['Z'], ['Z'], ['Z'], ['Z']], ['Z', ['Z']]]]], ['Z', ['Z', ['Z', ['Z'], ['Z'], ['Z']]], ['Z', ['Z']]]]]], ['Z', ['Z', ['Z'], ['Z']]]], ['Z'], ['Z']]]]], ['Z', ['Z']]]], ['Z', ['Z']], ['Z', ['Z']]]], ['Z', ['Z']]], ['Z', ['Z', ['Z'], ['Z']], ['Z', ['Z', ['Z', ['Z', ['Z'], ['Z', ['Z', ['Z']], ['Z'], ['Z'], ['Z']]]], ['Z', ['Z'], ['Z', ['Z'], ['Z'], ['Z']], ['Z', ['Z', ['Z', ['Z'], ['Z']], ['Z', ['Z']], ['Z', ['Z', ['Z', ['Z', ['Z'], ['Z', ['Z', ['Z', ['Z']]]], ['Z', ['Z', ['Z', ['Z', ['Z'], ['Z']], ['Z', ['Z', ['Z']]]]]], ['Z', ['Z'], ['Z']]], ['Z', ['Z'], ['Z'], ['Z']], ['Z', ['Z'], ['Z'], ['Z']]], ['Z', ['Z']], ['Z']]]], ['Z']], ['Z']], ['Z']]]]]], ['Z', ['Z', ['Z', ['Z'], ['Z', ['Z', ['Z', ['Z', ['Z', ['Z', ['Z', ['Z'], ['Z'], ['Z']], ['Z', ['Z']], ['Z'], ['Z'], ['Z']], ['Z']]], ['Z']]]]], ['Z']], ['Z', ['Z'], ['Z']]]], ['Z'], ['Z'], ['Z'], ['Z']]], ['Z']] 250\n"
     ]
    }
   ],
   "source": [
    "nb_trials,size_trials,graphe,size = random_functional_graph_approx(xValues[2],200,300)\n",
    "print(nb_trials,size_trials,graphe,size)"
   ]
  },
  {
   "cell_type": "code",
   "execution_count": 9,
   "id": "65060eef",
   "metadata": {},
   "outputs": [
    {
     "name": "stdout",
     "output_type": "stream",
     "text": [
      "635 2095461 1673828\n"
     ]
    }
   ],
   "source": [
    "import sys\n",
    "sys.setrecursionlimit(100000)\n",
    "nb_trials,size_trials,graphe,size = random_functional_graph_approx(xValues[0],1_000_000,10_000_000)\n",
    "print(nb_trials,size_trials,size)"
   ]
  },
  {
   "cell_type": "markdown",
   "id": "b7576618",
   "metadata": {},
   "source": [
    "--- vérification du générateur ---"
   ]
  },
  {
   "cell_type": "code",
   "execution_count": 11,
   "id": "4d51a8ba",
   "metadata": {},
   "outputs": [
    {
     "name": "stdout",
     "output_type": "stream",
     "text": [
      "(2, 3, ['Z', ['Z', ['Z']]])\n"
     ]
    }
   ],
   "source": [
    "print(random_functional_graph(xValues[2],3))"
   ]
  },
  {
   "cell_type": "code",
   "execution_count": 29,
   "id": "d214a142",
   "metadata": {},
   "outputs": [],
   "source": [
    "nb = 10_000_000"
   ]
  },
  {
   "cell_type": "code",
   "execution_count": 12,
   "id": "c8657ac8",
   "metadata": {},
   "outputs": [
    {
     "name": "stdout",
     "output_type": "stream",
     "text": [
      "nb: 2\n",
      "['Z', ['Z', ['Z']]] 49.86\n",
      "['Z', ['Z'], ['Z']] 50.14\n"
     ]
    }
   ],
   "source": [
    "dico = count_occurences(lambda : random_functional_graph(xValues[2],3)[2], nb)"
   ]
  },
  {
   "cell_type": "code",
   "execution_count": 13,
   "id": "e64eeaf0",
   "metadata": {},
   "outputs": [
    {
     "name": "stdout",
     "output_type": "stream",
     "text": [
      "nb: 5\n",
      "['Z', ['Z', ['Z']], ['Z']] 12.50\n",
      "['Z', ['Z'], ['Z'], ['Z']] 25.06\n",
      "['Z', ['Z', ['Z', ['Z']]]] 24.93\n",
      "['Z', ['Z', ['Z'], ['Z']]] 24.98\n",
      "['Z', ['Z'], ['Z', ['Z']]] 12.53\n"
     ]
    }
   ],
   "source": [
    "dico = count_occurences(lambda : random_functional_graph(xValues[2],4)[2], nb)"
   ]
  },
  {
   "cell_type": "code",
   "execution_count": 31,
   "id": "e94af840",
   "metadata": {},
   "outputs": [
    {
     "name": "stdout",
     "output_type": "stream",
     "text": [
      "nb: 14\n",
      "['Z', ['Z', ['Z'], ['Z']], ['Z']] 5.56\n",
      "['Z', ['Z'], ['Z'], ['Z'], ['Z']] 11.11\n",
      "['Z', ['Z', ['Z']], ['Z', ['Z']]] 11.12\n",
      "['Z', ['Z', ['Z'], ['Z', ['Z']]]] 5.56\n",
      "['Z', ['Z'], ['Z', ['Z', ['Z']]]] 5.55\n",
      "['Z', ['Z', ['Z', ['Z']], ['Z']]] 5.55\n",
      "['Z', ['Z', ['Z']], ['Z'], ['Z']] 7.40\n",
      "['Z', ['Z', ['Z', ['Z', ['Z']]]]] 11.12\n",
      "['Z', ['Z', ['Z', ['Z']]], ['Z']] 5.56\n",
      "['Z', ['Z'], ['Z', ['Z'], ['Z']]] 5.56\n",
      "['Z', ['Z', ['Z', ['Z'], ['Z']]]] 11.10\n",
      "['Z', ['Z'], ['Z', ['Z']], ['Z']] 1.85\n",
      "['Z', ['Z'], ['Z'], ['Z', ['Z']]] 1.85\n",
      "['Z', ['Z', ['Z'], ['Z'], ['Z']]] 11.09\n",
      "11.12273\n",
      "11.11022\n",
      "11.11663\n",
      "11.10479\n",
      "11.10716\n",
      "11.10398\n",
      "11.11555\n",
      "11.09194\n",
      "11.127\n"
     ]
    }
   ],
   "source": [
    "# dico = count_occurences(lambda : genGF_fixe(xValues[3],5)[2],nb)\n",
    "# print((dico[\"['Z', ['Z', ['Z']], ['Z', ['Z']]]\"])*100/nb)\n",
    "# print((dico[\"['Z', ['Z'], ['Z'], ['Z'], ['Z']]\"])*100/nb)\n",
    "# print((dico[\"['Z', ['Z', ['Z'], ['Z']], ['Z']]\"] + dico[\"['Z', ['Z'], ['Z', ['Z'], ['Z']]]\"])*100/nb)\n",
    "# print((dico[\"['Z', ['Z', ['Z', ['Z']], ['Z']]]\"] + dico[\"['Z', ['Z'], ['Z', ['Z', ['Z']]]]\"])*100/nb)\n",
    "# print((dico[\"['Z', ['Z', ['Z']], ['Z'], ['Z']]\"] + dico[\"['Z', ['Z'], ['Z'], ['Z', ['Z']]]\"] + dico[\"['Z', ['Z'], ['Z', ['Z']], ['Z']]\"])*100/nb)\n",
    "# print((dico[\"['Z', ['Z', ['Z', ['Z'], ['Z']]]]\"])*100/nb)\n",
    "# print((dico[\"['Z', ['Z', ['Z', ['Z', ['Z']]]]]\"])*100/nb)\n",
    "# print((dico[\"['Z', ['Z', ['Z'], ['Z'], ['Z']]]\"])*100/nb)\n",
    "# print((dico[\"['Z', ['Z', ['Z'], ['Z', ['Z']]]]\"] + dico[\"['Z', ['Z', ['Z', ['Z']]], ['Z']]\"])*100/nb)\n"
   ]
  },
  {
   "cell_type": "code",
   "execution_count": 19,
   "id": "b34e7a42",
   "metadata": {},
   "outputs": [
    {
     "name": "stdout",
     "output_type": "stream",
     "text": [
      "trop grands = 0, taille max = 46, moyenne des tailles = 2.5966\n"
     ]
    }
   ],
   "source": [
    "n = 10_000\n",
    "l = counts_max_and_average(lambda : genGF(xValues[3],1000)[1], n)"
   ]
  },
  {
   "cell_type": "code",
   "execution_count": 20,
   "id": "6af2dd4e",
   "metadata": {},
   "outputs": [
    {
     "name": "stdout",
     "output_type": "stream",
     "text": [
      "trop grands = 260, taille max = 989, moyenne des tailles = 28.7742\n"
     ]
    }
   ],
   "source": [
    "l2 = counts_max_and_average(lambda : genGF(xValues[0],1000)[1], n)"
   ]
  },
  {
   "cell_type": "code",
   "execution_count": 21,
   "id": "24f41285",
   "metadata": {},
   "outputs": [
    {
     "data": {
      "image/png": "[encoded data removed]",
      "text/plain": [
       "<Figure size 1000x400 with 1 Axes>"
      ]
     },
     "metadata": {},
     "output_type": "display_data"
    },
    {
     "data": {
      "text/plain": [
       "<Figure size 2000x400 with 0 Axes>"
      ]
     },
     "metadata": {},
     "output_type": "display_data"
    }
   ],
   "source": [
    "import matplotlib.pyplot as plt\n",
    "plt.rcParams['figure.figsize'] = [10, 4]\n",
    "\n",
    "plt.hist(l,bins=200, ec=\"blue\",fill=False) # x = 0.3\n",
    "plt.hist(l2,bins=200, ec=\"red\", fill=False) # x = 0.3383218568\n",
    "plt.title(\"graphes fonctionnels\")\n",
    "plt.xlabel(\"Taille de l'arbre\")\n",
    "plt.ylabel(\"Nombre d'échantillons\")\n",
    "#plt.axis([0, 1000, 0, 500])\n",
    "f = plt.figure()\n",
    "f.set_figwidth(20)\n",
    "plt.show()"
   ]
  },
  {
   "cell_type": "code",
   "execution_count": 1,
   "id": "ca849baf",
   "metadata": {},
   "outputs": [
    {
     "ename": "ModuleNotFoundError",
     "evalue": "No module named 'graphviz'",
     "output_type": "error",
     "traceback": [
      "\u001b[0;31m---------------------------------------------------------------------------\u001b[0m",
      "\u001b[0;31mModuleNotFoundError\u001b[0m                       Traceback (most recent call last)",
      "Cell \u001b[0;32mIn[1], line 1\u001b[0m\n\u001b[0;32m----> 1\u001b[0m \u001b[38;5;28;01mfrom\u001b[39;00m \u001b[38;5;21;01mgraphviz\u001b[39;00m \u001b[38;5;28;01mimport\u001b[39;00m Digraph\n\u001b[1;32m      2\u001b[0m \u001b[38;5;66;03m# Create Digraph object\u001b[39;00m\n\u001b[1;32m      3\u001b[0m dot \u001b[38;5;241m=\u001b[39m Digraph()\n",
      "\u001b[0;31mModuleNotFoundError\u001b[0m: No module named 'graphviz'"
     ]
    }
   ],
   "source": [
    "from graphviz import Digraph\n",
    "# Create Digraph object\n",
    "dot = Digraph()"
   ]
  },
  {
   "cell_type": "code",
   "execution_count": null,
   "id": "d53500fd",
   "metadata": {},
   "outputs": [],
   "source": []
  },
  {
   "cell_type": "code",
   "execution_count": null,
   "id": "f57707dc",
   "metadata": {},
   "outputs": [],
   "source": []
  }
 ],
 "metadata": {
  "kernelspec": {
   "display_name": "Python 3 (ipykernel)",
   "language": "python",
   "name": "python3"
  },
  "language_info": {
   "codemirror_mode": {
    "name": "ipython",
    "version": 3
   },
   "file_extension": ".py",
   "mimetype": "text/x-python",
   "name": "python",
   "nbconvert_exporter": "python",
   "pygments_lexer": "ipython3",
   "version": "3.11.1"
  }
 },
 "nbformat": 4,
 "nbformat_minor": 5
}
