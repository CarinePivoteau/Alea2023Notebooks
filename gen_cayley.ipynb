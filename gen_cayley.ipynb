{
 "cells": [
  {
   "cell_type": "code",
   "execution_count": 1,
   "id": "cb38d34b",
   "metadata": {},
   "outputs": [],
   "source": [
    "from random import *\n",
    "from time import *\n",
    "import math\n",
    "from math import comb\n",
    "import sys\n",
    "import matplotlib.pyplot as plt"
   ]
  },
  {
   "cell_type": "code",
   "execution_count": 2,
   "id": "ac8f8e57",
   "metadata": {},
   "outputs": [],
   "source": [
    "# pour l'étiquetage\n",
    "\n",
    "def random_shuffle(sigma):\n",
    "    n = len(sigma)\n",
    "    for i in range(1,n):\n",
    "        j = randint(0,i) # dans l'intervalle $[0..i]$ \n",
    "        sigma[i],sigma[j]=sigma[j],sigma[i] # échange les cases d'indices $i$ et $j$\n",
    "\n",
    "def random_permutation(n):\n",
    "    sigma = [ i for i in range(1,n+1) ]\n",
    "    random_shuffle(sigma)\n",
    "    return sigma"
   ]
  },
  {
   "cell_type": "code",
   "execution_count": 13,
   "id": "6afb1be8",
   "metadata": {},
   "outputs": [],
   "source": [
    "def test_uniformity(gen, nb):\n",
    "    dico = {}\n",
    "    for i in range(nb):\n",
    "        tmp = str(gen())\n",
    "        if tmp in dico:\n",
    "            dico[tmp] += 1\n",
    "        else:\n",
    "            dico[tmp] = 1\n",
    "    print(\"nb:\", len(dico))\n",
    "    for key in dico:\n",
    "        print(key, \"{0:.2f}\".format(dico[key] / nb * 100))\n",
    "\n",
    "def plot_time(gen, mini, maxi, step):\n",
    "    sizes, timings = [], []\n",
    "    nb = 100\n",
    "    for i in range(mini, maxi, step):\n",
    "        sizes.append(i)        \n",
    "        t1 = time()\n",
    "        for k in range(nb):\n",
    "            gen(i)\n",
    "        timings.append((time() - t1) / nb)\n",
    "    plt.plot(sizes, timings)\n",
    "    plt.show()\n",
    "    \n",
    "def plot_values(gen, mini, maxi, step):\n",
    "    sizes, values = [], []\n",
    "    nb = 100\n",
    "    for i in range(mini, maxi, step):\n",
    "        sizes.append(i)        \n",
    "        v = 0\n",
    "        for k in range(nb):\n",
    "            v += gen(i)\n",
    "        values.append(v / nb)\n",
    "    plt.plot(sizes,values)\n",
    "    plt.show()"
   ]
  },
  {
   "cell_type": "code",
   "execution_count": 35,
   "id": "64a914d2",
   "metadata": {},
   "outputs": [
    {
     "name": "stdout",
     "output_type": "stream",
     "text": [
      "[0, 1, 1.0, 1.5, 2.6666666666666665, 5.208333333333333]\n",
      "[1, 1.0, 1.5, 2.6666666666666665, 5.208333333333333, 10.8]\n"
     ]
    }
   ],
   "source": [
    "# T = Z x Set(T) => T = Z x F, tF = tT x F\n",
    "\n",
    "cayley_max = 700 # on calcule les coefficients re-normalisés... au delà, on a des flottants trop petit\n",
    "cayley_trees=[0]\n",
    "cayley_forests=[1]\n",
    "\n",
    "for i in range(1,cayley_max+1):\n",
    "    cayley_trees.append(cayley_forests[i-1])\n",
    "    cayley_forests.append(sum(cayley_forests[i-k] * k * cayley_trees[k]/i for k in range(1,i+1)))\n",
    "\n",
    "print(cayley_trees[:6])\n",
    "print(cayley_forests[:6])"
   ]
  },
  {
   "cell_type": "code",
   "execution_count": 36,
   "id": "a7edc8aa",
   "metadata": {},
   "outputs": [
    {
     "name": "stdout",
     "output_type": "stream",
     "text": [
      "5.925339312051314e+299\n"
     ]
    }
   ],
   "source": [
    "print(cayley_forests[700])"
   ]
  },
  {
   "cell_type": "code",
   "execution_count": 37,
   "id": "9eebfbcc",
   "metadata": {},
   "outputs": [],
   "source": [
    "# T = Z x Set(T) => T = Z x F, tF = tT x F\n",
    "\n",
    "def gen_cayley_tree(n):\n",
    "    if n == 1:\n",
    "        return ['z'] # Z\n",
    "    return ['z']+[t for t in gen_cayley_forest(n-1)]\n",
    "\n",
    "def uniform_cut(n):\n",
    "    u = random()\n",
    "    k = 0\n",
    "    s = 0\n",
    "    while u > s:\n",
    "        k += 1\n",
    "        s += k * cayley_trees[k] * cayley_forests[n-k] / (n * cayley_forests[n])  # tF = tT x F\n",
    "    return k\n",
    "\n",
    "def gen_cayley_forest(n):\n",
    "    if n == 0:\n",
    "        return []\n",
    "    k = uniform_cut(n)\n",
    "    return [gen_cayley_tree(k)] + gen_cayley_forest(n-k)\n",
    "\n",
    "def gen_cayley_tree_labelled(n):\n",
    "    p = random_permutation(n)\n",
    "\n",
    "    def aux(t):\n",
    "        if t == ['z']:\n",
    "            return [p.pop()]\n",
    "        return [p.pop()] + sorted([aux(tt) for tt in t[1:]])  # tri pour imposer l'ordre d'affichage\n",
    "    return aux(gen_cayley_tree(n))"
   ]
  },
  {
   "cell_type": "code",
   "execution_count": 38,
   "id": "db8a7c04",
   "metadata": {
    "scrolled": true
   },
   "outputs": [
    {
     "name": "stdout",
     "output_type": "stream",
     "text": [
      "['z', ['z', ['z', ['z', ['z', ['z', ['z', ['z']]]], ['z', ['z', ['z']], ['z']]]], ['z', ['z', ['z'], ['z']], ['z', ['z'], ['z']]], ['z']]]\n"
     ]
    }
   ],
   "source": [
    "print(gen_cayley_tree(20))"
   ]
  },
  {
   "cell_type": "code",
   "execution_count": 33,
   "id": "728823bd",
   "metadata": {},
   "outputs": [
    {
     "name": "stdout",
     "output_type": "stream",
     "text": [
      "[61, [12], [54, [35, [26], [85, [21, [22], [60], [63, [49, [14]], [86, [30, [45, [13, [96, [18], [77, [74, [2, [25]], [17], [82, [56, [7]], [88, [57, [79]], [94, [41]]], [92, [23], [36, [16, [65, [32, [3, [40]], [9], [81, [5]]]]]], [66, [80, [20, [29], [69, [52, [4], [98]]]], [31, [10, [33], [68]]], [44, [15, [6, [95]], [39, [47, [42, [91, [72]]]], [83]], [73, [89]]], [50, [59, [1, [53, [43, [11, [90], [97]], [67]]], [55, [19, [38, [37, [71, [8, [34], [46, [87, [27, [78, [48]]]]]], [93, [58, [24]]]]], [64], [99]], [76, [62, [70]]]]]], [84, [28, [51]]]]]]]], [75]]]]], [100]]]]]]]]]]]]\n"
     ]
    }
   ],
   "source": [
    "print(gen_cayley_tree_labelled(100))"
   ]
  },
  {
   "cell_type": "code",
   "execution_count": 34,
   "id": "c7aaa19b",
   "metadata": {},
   "outputs": [
    {
     "name": "stdout",
     "output_type": "stream",
     "text": [
      "nb: 64\n",
      "[4, [1, [3, [2]]]] 1.56\n",
      "[1, [3, [2], [4]]] 1.58\n",
      "[3, [2, [1, [4]]]] 1.55\n",
      "[3, [4, [2, [1]]]] 1.58\n",
      "[1, [4, [2], [3]]] 1.56\n",
      "[2, [4, [3, [1]]]] 1.55\n",
      "[1, [2], [3], [4]] 1.54\n",
      "[1, [2, [3]], [4]] 1.55\n",
      "[2, [1, [3], [4]]] 1.56\n",
      "[4, [2], [3, [1]]] 1.56\n",
      "[1, [3, [2]], [4]] 1.57\n",
      "[1, [3, [2, [4]]]] 1.56\n",
      "[2, [1, [4]], [3]] 1.58\n",
      "[4, [1, [2]], [3]] 1.56\n",
      "[2, [3, [4, [1]]]] 1.56\n",
      "[2, [1], [3], [4]] 1.56\n",
      "[1, [3, [4, [2]]]] 1.57\n",
      "[1, [2, [4]], [3]] 1.56\n",
      "[1, [4, [2, [3]]]] 1.57\n",
      "[3, [2], [4, [1]]] 1.55\n",
      "[3, [1, [4, [2]]]] 1.57\n",
      "[4, [2, [3, [1]]]] 1.52\n",
      "[4, [3, [1, [2]]]] 1.57\n",
      "[2, [3, [1]], [4]] 1.57\n",
      "[3, [1, [2], [4]]] 1.56\n",
      "[4, [3, [2, [1]]]] 1.58\n",
      "[3, [4, [1], [2]]] 1.57\n",
      "[4, [1, [3]], [2]] 1.57\n",
      "[4, [1], [2], [3]] 1.55\n",
      "[2, [1, [3]], [4]] 1.58\n",
      "[2, [1], [3, [4]]] 1.54\n",
      "[1, [2, [4, [3]]]] 1.55\n",
      "[1, [2, [3, [4]]]] 1.55\n",
      "[1, [3], [4, [2]]] 1.56\n",
      "[3, [2, [1]], [4]] 1.56\n",
      "[2, [1, [4, [3]]]] 1.58\n",
      "[3, [1, [4]], [2]] 1.55\n",
      "[2, [3, [1], [4]]] 1.55\n",
      "[2, [3, [1, [4]]]] 1.55\n",
      "[1, [2], [4, [3]]] 1.56\n",
      "[4, [1], [3, [2]]] 1.59\n",
      "[4, [1, [2, [3]]]] 1.54\n",
      "[4, [1], [2, [3]]] 1.58\n",
      "[2, [4, [1, [3]]]] 1.55\n",
      "[3, [1], [4, [2]]] 1.56\n",
      "[4, [2, [1], [3]]] 1.58\n",
      "[3, [1, [2, [4]]]] 1.58\n",
      "[2, [4, [1], [3]]] 1.56\n",
      "[3, [4, [1, [2]]]] 1.55\n",
      "[4, [3, [1], [2]]] 1.55\n",
      "[2, [1], [4, [3]]] 1.57\n",
      "[3, [1], [2, [4]]] 1.56\n",
      "[1, [4, [3, [2]]]] 1.56\n",
      "[3, [2, [1], [4]]] 1.57\n",
      "[3, [1, [2]], [4]] 1.56\n",
      "[1, [2, [3], [4]]] 1.56\n",
      "[2, [3], [4, [1]]] 1.57\n",
      "[2, [1, [3, [4]]]] 1.56\n",
      "[4, [1, [2], [3]]] 1.56\n",
      "[3, [1], [2], [4]] 1.59\n",
      "[4, [2, [1]], [3]] 1.56\n",
      "[1, [2], [3, [4]]] 1.58\n",
      "[4, [2, [1, [3]]]] 1.56\n",
      "[3, [2, [4, [1]]]] 1.58\n"
     ]
    }
   ],
   "source": [
    "test_uniformity(lambda : gen_cayley_tree_labelled(4),1000000)"
   ]
  },
  {
   "cell_type": "code",
   "execution_count": 10,
   "id": "4bdb4d15",
   "metadata": {},
   "outputs": [
    {
     "data": {
      "image/png": "[encoded data removed]",
      "text/plain": [
       "<Figure size 640x480 with 1 Axes>"
      ]
     },
     "metadata": {},
     "output_type": "display_data"
    }
   ],
   "source": [
    "plot_time(gen_cayley_tree, 10, 700, 20)"
   ]
  },
  {
   "cell_type": "code",
   "execution_count": 39,
   "id": "cb67ba93",
   "metadata": {},
   "outputs": [],
   "source": [
    "def profiles(nb, size): # nombre de noeuds moyen à chaque hauteur\n",
    "    heights = [0]\n",
    "    def p(t,h):\n",
    "        if h == len(heights):\n",
    "            heights.append(1)\n",
    "        else:\n",
    "            heights[h]+=1\n",
    "        if t!=():\n",
    "            for st in t[1:]:\n",
    "                p(st,h+1)\n",
    "    for _ in range(nb):\n",
    "        t = gen_cayley_tree(size)\n",
    "        p(t,0)\n",
    "    return [heights[i]/nb for i in range(len(heights))]"
   ]
  },
  {
   "cell_type": "code",
   "execution_count": 40,
   "id": "7a5f2331",
   "metadata": {},
   "outputs": [
    {
     "name": "stdout",
     "output_type": "stream",
     "text": [
      "119\n"
     ]
    },
    {
     "data": {
      "image/png": "[encoded data removed]",
      "text/plain": [
       "<Figure size 640x480 with 1 Axes>"
      ]
     },
     "metadata": {},
     "output_type": "display_data"
    }
   ],
   "source": [
    "ps = profiles(1000,700)\n",
    "print(len(ps))\n",
    "plt.plot(ps)\n",
    "plt.show()"
   ]
  },
  {
   "cell_type": "code",
   "execution_count": null,
   "id": "1918decb",
   "metadata": {},
   "outputs": [],
   "source": []
  }
 ],
 "metadata": {
  "kernelspec": {
   "display_name": "Python 3 (ipykernel)",
   "language": "python",
   "name": "python3"
  },
  "language_info": {
   "codemirror_mode": {
    "name": "ipython",
    "version": 3
   },
   "file_extension": ".py",
   "mimetype": "text/x-python",
   "name": "python",
   "nbconvert_exporter": "python",
   "pygments_lexer": "ipython3",
   "version": "3.11.1"
  }
 },
 "nbformat": 4,
 "nbformat_minor": 5
}
