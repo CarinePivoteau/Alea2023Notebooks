{
 "cells": [
  {
   "cell_type": "code",
   "execution_count": 1,
   "id": "014c6c7d",
   "metadata": {},
   "outputs": [],
   "source": [
    "import matplotlib.pyplot as plt\n",
    "from matplotlib.patches import Rectangle\n",
    "\n",
    "def drawSP(c):\n",
    "    plt.rcParams['figure.figsize'] = [10, 10]\n",
    "    fig, ax = plt.subplots()\n",
    "    ax.plot()\n",
    "    \n",
    "    def dimensions(c): # l,h\n",
    "        if c=='Z':\n",
    "            return [1,1,None]\n",
    "        else: \n",
    "            ds = [dimensions(t) for t in c[1:]]\n",
    "            ls = [d[0] for d in ds]\n",
    "            hs = [d[1] for d in ds]\n",
    "            if c[0]=='S':   \n",
    "                return [sum(ls)+len(c),max(hs)+2,  ds]\n",
    "            elif c[0]=='P':\n",
    "                return [max(ls)+2, sum(hs)+len(c), ds]\n",
    "            else:\n",
    "                raise \"impossible...\"\n",
    "            \n",
    "    def draw(d,x,y,o):\n",
    "        if d==[1, 1, None]:\n",
    "            ax.add_patch(Rectangle((x,y),1,1,fill=False))\n",
    "            return\n",
    "        ax.add_patch(Rectangle((x,y),d[0],d[1],fill=False))\n",
    "        if o=='P':\n",
    "            ny = y+1\n",
    "            for i in range(len(d[2])-1,-1,-1):\n",
    "                li,hi,di = d[2][i]\n",
    "                draw(d[2][i],x+1,ny,'S')\n",
    "                ny+=hi+1\n",
    "        if o=='S':\n",
    "            nx = x+1\n",
    "            for i in range(len(d[2])-1,-1,-1):\n",
    "                li,hi,di = d[2][i]\n",
    "                draw(d[2][i],nx,y+1,'P')\n",
    "                nx+=li+1\n",
    "    \n",
    "    d = dimensions(c)\n",
    "    draw(d,1,1,c[0])\n",
    "    \n",
    "    plt.axis('equal')\n",
    "    plt.axis('off')\n",
    "    plt.show()"
   ]
  },
  {
   "cell_type": "code",
   "execution_count": 2,
   "id": "a2bb159d",
   "metadata": {},
   "outputs": [],
   "source": [
    "from random import *\n",
    "import math\n",
    "\n",
    "def draw(k_init, init, next, lbd):\n",
    "    U = random()\n",
    "    p = init\n",
    "    S = init\n",
    "    k = k_init\n",
    "    while U > S:\n",
    "        p = next(p, lbd, k)\n",
    "        S += p\n",
    "        k += 1\n",
    "    return k\n",
    "\n",
    "\"\"\" Bernoulli Law \"\"\"\n",
    "def bern(lbd):\n",
    "    return random() < lbd\n",
    "\n",
    "\n",
    "\"\"\" Geometric Law \"\"\"\n",
    "def next_geom(p, lbd, k):\n",
    "    return lbd * p\n",
    "\n",
    "def geom(lbd):\n",
    "    return draw(0, (1 - lbd), next_geom, lbd)\n",
    "\n",
    "def fast_geom(lbd):\n",
    "    U = random()\n",
    "    return (int)(math.floor(math.log(U) / math.log(lbd)))\n",
    "\n",
    "\n",
    "\"\"\" Poisson Law \"\"\"\n",
    "def next_poiss(p, lbd, k):\n",
    "    return lbd * p / (k + 1)\n",
    "\n",
    "def poiss(lbd):\n",
    "    return draw(0, math.exp(-lbd), next_poiss, lbd)\n",
    "\n",
    "def non_zero_poiss(lbd):\n",
    "    return draw(1, lbd / (math.exp(lbd) - 1), next_poiss, lbd)\n",
    "\n",
    "\n",
    "\"\"\" Logarithmic Law \"\"\"\n",
    "def next_loga(p, lbd, k):\n",
    "    return lbd * p * (k) / (k + 1)\n",
    "\n",
    "def loga(lbd):\n",
    "    return draw(1, -lbd / math.log(1 - lbd), next_loga, lbd)"
   ]
  },
  {
   "cell_type": "code",
   "execution_count": 3,
   "id": "a4a8ead8",
   "metadata": {},
   "outputs": [],
   "source": [
    "# {SP = Union(S,P), S = Sequence(Union(Z,P),card>=2), P = Set(Union(Z,S),card>=2)}\n",
    "P,S,SP = dict(),dict(),dict()\n",
    "x = 0.2451438475598137\n",
    "xValues = [x]\n",
    "P[x] = 0.1368221595124981\n",
    "S[x] = 0.2360679707399782\n",
    "SP[x] = 0.3728901302524763\n",
    "\n",
    "x = 0.2451438475\n",
    "xValues.append(x)\n",
    "P[x] = 0.1368220951\n",
    "S[x] = 0.2360678666\n",
    "SP[x] = 0.3728899617\n",
    "\n",
    "x = 0.245143\n",
    "xValues.append(x)\n",
    "P[x] = 0.1362846333\n",
    "S[x] = 0.2351980904\n",
    "SP[x] = 0.3714827236\n",
    "\n",
    "x = 0.2451\n",
    "xValues.append(x)\n",
    "P[x] = 0.1329816377\n",
    "S[x] = 0.2298464452\n",
    "SP[x] = 0.3628280829\n",
    "\n",
    "x = 0.2\n",
    "xValues.append(x)\n",
    "P[x] = 0.04232734905 \n",
    "S[x] = 0.07750384553\n",
    "SP[x] = 0.1198311946"
   ]
  },
  {
   "cell_type": "code",
   "execution_count": 4,
   "id": "179492fb",
   "metadata": {},
   "outputs": [
    {
     "name": "stdout",
     "output_type": "stream",
     "text": [
      "[0.2451438475598137, 0.2451438475, 0.245143, 0.2451, 0.2] {0.2451438475598137: 0.1368221595124981, 0.2451438475: 0.1368220951, 0.245143: 0.1362846333, 0.2451: 0.1329816377, 0.2: 0.04232734905} {0.2451438475598137: 0.2360679707399782, 0.2451438475: 0.2360678666, 0.245143: 0.2351980904, 0.2451: 0.2298464452, 0.2: 0.07750384553} {0.2451438475598137: 0.3728901302524763, 0.2451438475: 0.3728899617, 0.245143: 0.3714827236, 0.2451: 0.3628280829, 0.2: 0.1198311946}\n"
     ]
    }
   ],
   "source": [
    "print(xValues,P,S,SP)"
   ]
  },
  {
   "cell_type": "code",
   "execution_count": 5,
   "id": "20a1b001",
   "metadata": {},
   "outputs": [],
   "source": [
    "def genSP(x,maxi):\n",
    "    size = 0\n",
    "    def sizeUP():\n",
    "        nonlocal size,maxi # compteur global\n",
    "        size += 1\n",
    "        if size > maxi:\n",
    "            raise Exception(\"Too large\")   \n",
    "    def genUS():\n",
    "        u = random()\n",
    "        if u < x/(x + P[x]):\n",
    "            sizeUP()\n",
    "            return 'Z'\n",
    "        else: return genP()\n",
    "    def genUP():\n",
    "        u = random()\n",
    "        if u < x/(x + S[x]):\n",
    "            sizeUP()\n",
    "            return 'Z'\n",
    "        else: return genS()\n",
    "    def genS():\n",
    "        k = fast_geom(x + P[x])+2\n",
    "        return ['S'] + [genUS() for i in range(k)]\n",
    "    def genP():\n",
    "        k = poiss(x + S[x])\n",
    "        while(k < 2):\n",
    "            k = poiss(x + S[x])\n",
    "        return ['P'] + [genUP() for i in range(k)]\n",
    "    try:\n",
    "        u = random()\n",
    "        if u < P[x]/(SP[x]):\n",
    "            return genP(), size\n",
    "        else : return genS(), size\n",
    "    except Exception as err:\n",
    "        #print(err)\n",
    "        return None, 0 \n",
    "        "
   ]
  },
  {
   "cell_type": "code",
   "execution_count": 6,
   "id": "7c8e8f06",
   "metadata": {},
   "outputs": [
    {
     "name": "stdout",
     "output_type": "stream",
     "text": [
      "['S', 'Z', 'Z'] 2\n"
     ]
    }
   ],
   "source": [
    "c,size = genSP(xValues[4],1000)\n",
    "print(c,size)"
   ]
  },
  {
   "cell_type": "code",
   "execution_count": 7,
   "id": "093e9586",
   "metadata": {},
   "outputs": [
    {
     "data": {
      "image/png": "[encoded data removed]",
      "text/plain": [
       "<Figure size 1000x1000 with 1 Axes>"
      ]
     },
     "metadata": {},
     "output_type": "display_data"
    }
   ],
   "source": [
    "drawSP(c)"
   ]
  },
  {
   "cell_type": "code",
   "execution_count": 8,
   "id": "3ebd4874",
   "metadata": {},
   "outputs": [],
   "source": [
    "def genSP_fixe(x,n):\n",
    "    nb_trials, size_trials = 0, 0\n",
    "    while True :\n",
    "        t,s = genSP(x,n)\n",
    "        nb_trials += 1\n",
    "        size_trials += s\n",
    "        if s == n:\n",
    "            return nb_trials, size_trials, t\n",
    "        \n",
    "def genSP_approx(x,mini, maxi):\n",
    "    nb_trials, size_trials = 0, 0\n",
    "    while True :\n",
    "        t,s = genSP(x,maxi)\n",
    "        nb_trials += 1\n",
    "        size_trials += s\n",
    "        if mini <= s <= maxi:\n",
    "            return nb_trials, size_trials, t, s"
   ]
  },
  {
   "cell_type": "code",
   "execution_count": 9,
   "id": "bfecf9be",
   "metadata": {},
   "outputs": [
    {
     "name": "stdout",
     "output_type": "stream",
     "text": [
      "nombre d'essais = 15, taille du rejet = 545, taille du circuit = 204\n",
      "\n",
      "['P', ['S', ['P', ['S', 'Z', ['P', 'Z', ['S', ['P', ['S', 'Z', ['P', 'Z', 'Z', ['S', 'Z', 'Z']]], ['S', 'Z', 'Z']], 'Z', 'Z']]], ['S', 'Z', 'Z']], ['P', ['S', 'Z', ['P', 'Z', ['S', ['P', ['S', 'Z', 'Z', ['P', ['S', 'Z', ['P', ['S', 'Z', 'Z'], 'Z']], 'Z'], ['P', 'Z', ['S', 'Z', 'Z', ['P', ['S', ['P', 'Z', 'Z', ['S', 'Z', ['P', 'Z', ['S', 'Z', ['P', 'Z', ['S', ['P', 'Z', ['S', 'Z', 'Z']], 'Z']]], ['S', ['P', 'Z', 'Z'], 'Z', 'Z']], ['P', ['S', 'Z', ['P', ['S', 'Z', 'Z'], ['S', ['P', ['S', 'Z', 'Z'], 'Z', 'Z'], 'Z', 'Z', 'Z', 'Z']]], ['S', ['P', 'Z', 'Z'], 'Z', 'Z']]]], ['P', 'Z', ['S', 'Z', 'Z', ['P', ['S', 'Z', 'Z'], 'Z'], 'Z', ['P', ['S', 'Z', ['P', ['S', 'Z', ['P', ['S', 'Z', 'Z'], 'Z'], 'Z', 'Z'], 'Z', 'Z']], ['S', 'Z', 'Z']], 'Z'], 'Z'], 'Z'], ['S', 'Z', 'Z']], ['P', 'Z', 'Z'], 'Z', 'Z']]], 'Z'], 'Z']]], ['S', 'Z', 'Z', 'Z', 'Z']], ['P', 'Z', ['S', 'Z', ['P', ['S', ['P', ['S', 'Z', 'Z', ['P', 'Z', 'Z', 'Z'], ['P', ['S', 'Z', ['P', ['S', 'Z', 'Z'], ['S', 'Z', 'Z', 'Z', ['P', ['S', 'Z', 'Z'], ['S', 'Z', 'Z', 'Z', ['P', 'Z', 'Z']]], 'Z', 'Z']]], ['S', 'Z', 'Z']]], 'Z', 'Z'], 'Z'], ['S', 'Z', ['P', 'Z', ['S', ['P', ['S', 'Z', 'Z', 'Z'], 'Z'], ['P', ['S', 'Z', ['P', 'Z', 'Z']], 'Z'], 'Z', 'Z'], ['S', 'Z', ['P', 'Z', ['S', ['P', 'Z', 'Z', 'Z'], 'Z', 'Z', ['P', ['S', 'Z', 'Z'], 'Z', 'Z']]], ['P', ['S', ['P', 'Z', ['S', 'Z', 'Z'], ['S', ['P', ['S', 'Z', ['P', ['S', ['P', ['S', ['P', ['S', 'Z', ['P', ['S', 'Z', 'Z'], 'Z'], ['P', ['S', 'Z', 'Z'], ['S', 'Z', 'Z']], 'Z'], 'Z'], ['P', ['S', ['P', ['S', 'Z', 'Z'], 'Z'], 'Z'], ['S', 'Z', 'Z']]], 'Z'], ['P', ['S', 'Z', ['P', 'Z', ['S', 'Z', 'Z']]], 'Z'], 'Z'], 'Z'], 'Z'], 'Z'], 'Z']], 'Z'], ['S', ['P', ['S', 'Z', ['P', 'Z', ['S', 'Z', 'Z', 'Z']], ['P', ['S', ['P', ['S', 'Z', ['P', 'Z', 'Z'], 'Z', 'Z'], 'Z'], 'Z', ['P', 'Z', ['S', 'Z', 'Z']]], 'Z']], 'Z'], 'Z', ['P', ['S', 'Z', ['P', ['S', ['P', 'Z', ['S', ['P', 'Z', 'Z'], 'Z']], 'Z'], ['S', 'Z', 'Z', 'Z']]], 'Z']]]]]]]]]], ['S', ['P', ['S', 'Z', 'Z'], ['S', 'Z', 'Z']], ['P', 'Z', 'Z'], 'Z']]\n"
     ]
    }
   ],
   "source": [
    "nb_trials,size_trials,circuit,size = genSP_approx(xValues[3],200,300)\n",
    "print(\"nombre d'essais = {}, taille du rejet = {}, taille du circuit = {}\\n\".format(nb_trials,size_trials,size))\n",
    "print(circuit)"
   ]
  },
  {
   "cell_type": "code",
   "execution_count": 10,
   "id": "8c884cca",
   "metadata": {},
   "outputs": [
    {
     "data": {
      "image/png": "[encoded data removed]",
      "text/plain": [
       "<Figure size 1000x1000 with 1 Axes>"
      ]
     },
     "metadata": {},
     "output_type": "display_data"
    }
   ],
   "source": [
    "drawSP(circuit)"
   ]
  },
  {
   "cell_type": "code",
   "execution_count": 11,
   "id": "b7a9e371",
   "metadata": {},
   "outputs": [
    {
     "name": "stdout",
     "output_type": "stream",
     "text": [
      "nombre d'essais = 31, taille du rejet = 22661, taille du circuit = 19731\n"
     ]
    }
   ],
   "source": [
    "import sys\n",
    "sys.setrecursionlimit(100000)\n",
    "nb_trials,size_trials,circuit,size = genSP_approx(xValues[2],10_000,100_000)\n",
    "print(\"nombre d'essais = {}, taille du rejet = {}, taille du circuit = {}\".format(nb_trials,size_trials,size))"
   ]
  },
  {
   "cell_type": "code",
   "execution_count": 12,
   "id": "703ae58e",
   "metadata": {},
   "outputs": [
    {
     "data": {
      "image/png": "[encoded data removed]",
      "text/plain": [
       "<Figure size 1000x1000 with 1 Axes>"
      ]
     },
     "metadata": {},
     "output_type": "display_data"
    }
   ],
   "source": [
    "drawSP(circuit)"
   ]
  },
  {
   "cell_type": "code",
   "execution_count": 13,
   "id": "176f96c0",
   "metadata": {},
   "outputs": [
    {
     "name": "stdout",
     "output_type": "stream",
     "text": [
      "nombre d'essais = 621, taille du rejet = 465242, taille du circuit = 110121\n"
     ]
    }
   ],
   "source": [
    "nb_trials,size_trials,circuit,size = genSP_approx(xValues[2],100_000,1_000_000)\n",
    "print(\"nombre d'essais = {}, taille du rejet = {}, taille du circuit = {}\".format(nb_trials,size_trials,size))"
   ]
  },
  {
   "cell_type": "code",
   "execution_count": 14,
   "id": "7892a53e",
   "metadata": {},
   "outputs": [
    {
     "name": "stdout",
     "output_type": "stream",
     "text": [
      "nombre d'essais = 521, taille du rejet = 1276820, taille du circuit = 990114\n"
     ]
    }
   ],
   "source": [
    "nb_trials,size_trials,circuit,size = genSP_approx(xValues[1],500_000,1_000_000)\n",
    "print(\"nombre d'essais = {}, taille du rejet = {}, taille du circuit = {}\".format(nb_trials,size_trials,size))"
   ]
  },
  {
   "cell_type": "code",
   "execution_count": 15,
   "id": "a6896a42",
   "metadata": {},
   "outputs": [
    {
     "name": "stdout",
     "output_type": "stream",
     "text": [
      "nombre d'essais = 1712, taille du rejet = 3709636, taille du circuit = 1513684\n"
     ]
    }
   ],
   "source": [
    "nb_trials,size_trials,circuit,size = genSP_approx(xValues[0],1_000_000,2_000_000)\n",
    "print(\"nombre d'essais = {}, taille du rejet = {}, taille du circuit = {}\".format(nb_trials,size_trials,size))"
   ]
  },
  {
   "cell_type": "markdown",
   "id": "a4ac800e",
   "metadata": {},
   "source": [
    "--- vérification du générateur ---"
   ]
  },
  {
   "cell_type": "code",
   "execution_count": 16,
   "id": "5524567a",
   "metadata": {},
   "outputs": [],
   "source": [
    "def count_occurences(gen, nb):\n",
    "    dico = {}\n",
    "    for i in range(nb):\n",
    "        tmp = str(gen())\n",
    "        if tmp in dico:\n",
    "            dico[tmp] += 1\n",
    "        else:\n",
    "             dico[tmp] = 1\n",
    "    print(\"nb:\", len(dico))\n",
    "    for key in dico:\n",
    "        print(key, \"{0:.2f}\".format(dico[key] / nb * 100))"
   ]
  },
  {
   "cell_type": "code",
   "execution_count": 17,
   "id": "cd198c4f",
   "metadata": {},
   "outputs": [
    {
     "name": "stdout",
     "output_type": "stream",
     "text": [
      "nb: 6\n",
      "['P', 'Z', ['S', 'Z', 'Z']] 15.79\n",
      "['S', 'Z', 'Z', 'Z'] 31.58\n",
      "['P', ['S', 'Z', 'Z'], 'Z'] 15.87\n",
      "['S', ['P', 'Z', 'Z'], 'Z'] 15.83\n",
      "['S', 'Z', ['P', 'Z', 'Z']] 15.70\n",
      "['P', 'Z', 'Z', 'Z'] 5.24\n",
      "5.2631578947368425\n"
     ]
    }
   ],
   "source": [
    "count_occurences(lambda : genSP_fixe(xValues[3],3)[2],1000000)\n",
    "print(100./19) \n",
    "# 19 circuits \n",
    "# ['S', ['P', 'Z', 'Z'], 'Z'] x3\n",
    "# ['P', ['S', 'Z', 'Z'], 'Z'] = ['P', 'Z', ['S', 'Z', 'Z']] x6\n",
    "# ['S', 'Z', ['P', 'Z', 'Z']] x3\n",
    "# ['S', 'Z', 'Z', 'Z'] x6\n",
    "# ['P', 'Z', 'Z', 'Z'] x1"
   ]
  },
  {
   "cell_type": "code",
   "execution_count": 18,
   "id": "b7cd6258",
   "metadata": {},
   "outputs": [
    {
     "name": "stdout",
     "output_type": "stream",
     "text": [
      "trop grands = 144, taille max = 994, moyenne des tailles = 33.6542\n"
     ]
    }
   ],
   "source": [
    "def counts_max_and_average(gen,nb):\n",
    "    counts = []\n",
    "    discard = 0\n",
    "    for i in range(nb):\n",
    "        size = gen()\n",
    "        if size > 0:\n",
    "            counts.append(size)\n",
    "        else:\n",
    "            discard +=1\n",
    "    print(\"trop grands = {}, taille max = {}, moyenne des tailles = {}\".format(discard, max(counts), sum(counts)/nb))\n",
    "    return counts\n",
    "\n",
    "n = 10_000\n",
    "l = counts_max_and_average(lambda : genSP(xValues[3],1000)[1], n)"
   ]
  },
  {
   "cell_type": "code",
   "execution_count": 19,
   "id": "109d7c49",
   "metadata": {},
   "outputs": [
    {
     "data": {
      "image/png": "[encoded data removed]",
      "text/plain": [
       "<Figure size 1000x400 with 1 Axes>"
      ]
     },
     "metadata": {},
     "output_type": "display_data"
    },
    {
     "data": {
      "text/plain": [
       "<Figure size 1000x400 with 0 Axes>"
      ]
     },
     "metadata": {},
     "output_type": "display_data"
    }
   ],
   "source": [
    "plt.rcParams['figure.figsize'] = [10, 4]\n",
    "\n",
    "plt.hist(l,bins=200)\n",
    "plt.xlabel(\"Taille de l'arbre\")\n",
    "plt.ylabel(\"Nombre d'échantillons\")\n",
    "f = plt.figure()\n",
    "plt.show()"
   ]
  },
  {
   "cell_type": "code",
   "execution_count": null,
   "id": "c505a1b9",
   "metadata": {},
   "outputs": [],
   "source": []
  },
  {
   "cell_type": "code",
   "execution_count": null,
   "id": "221e59c9",
   "metadata": {},
   "outputs": [],
   "source": []
  },
  {
   "cell_type": "code",
   "execution_count": null,
   "id": "f4f7dbd2",
   "metadata": {},
   "outputs": [],
   "source": []
  }
 ],
 "metadata": {
  "kernelspec": {
   "display_name": "Python 3 (ipykernel)",
   "language": "python",
   "name": "python3"
  },
  "language_info": {
   "codemirror_mode": {
    "name": "ipython",
    "version": 3
   },
   "file_extension": ".py",
   "mimetype": "text/x-python",
   "name": "python",
   "nbconvert_exporter": "python",
   "pygments_lexer": "ipython3",
   "version": "3.11.1"
  }
 },
 "nbformat": 4,
 "nbformat_minor": 5
}
