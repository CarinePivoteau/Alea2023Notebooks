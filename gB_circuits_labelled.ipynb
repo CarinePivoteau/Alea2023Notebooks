{
 "cells": [
  {
   "cell_type": "code",
   "execution_count": null,
   "id": "3ede123d",
   "metadata": {},
   "outputs": [],
   "source": [
    "# uniquement pour utliser dans colab : \n",
    "\n",
    "# !git clone https://github.com/CarinePivoteau/Alea2023Notebooks.git\n",
    "# import sys\n",
    "# sys.path.append('/content/Alea2023Notebooks')"
   ]
  },
  {
   "cell_type": "code",
   "execution_count": null,
   "id": "1fc187fd",
   "metadata": {},
   "outputs": [],
   "source": [
    "# si les modules ne sont pas installés :\n",
    "\n",
    "# import sys\n",
    "# !{sys.executable} -m pip install matplotlib\n",
    "# !{sys.executable} -m pip install graphviz"
   ]
  },
  {
   "cell_type": "code",
   "execution_count": null,
   "id": "4fcd9b1b",
   "metadata": {},
   "outputs": [],
   "source": [
    "# imports : random, time, math, sys, plt, graphviz\n",
    "\n",
    "from helpers import *\n",
    "from gen_laws import *"
   ]
  },
  {
   "cell_type": "code",
   "execution_count": null,
   "id": "014c6c7d",
   "metadata": {},
   "outputs": [],
   "source": [
    "from matplotlib.patches import Rectangle\n",
    "\n",
    "def draw_circuit(c): #fonction de dessin d'un circuit (pas trop gros)\n",
    "    plt.rcParams['figure.figsize'] = [10, 10]\n",
    "    fig, ax = plt.subplots()\n",
    "    ax.plot()\n",
    "    \n",
    "    def dimensions(c): # l,h\n",
    "        if c=='Z':\n",
    "            return [1,1,None]\n",
    "        else: \n",
    "            ds = [dimensions(t) for t in c[1:]]\n",
    "            ls = [d[0] for d in ds]\n",
    "            hs = [d[1] for d in ds]\n",
    "            if c[0]=='S':   \n",
    "                return [sum(ls)+len(c),max(hs)+2,  ds]\n",
    "            elif c[0]=='P':\n",
    "                return [max(ls)+2, sum(hs)+len(c), ds]\n",
    "            else:\n",
    "                raise \"impossible...\"\n",
    "            \n",
    "    def draw(d,x,y,o):\n",
    "        ax.add_patch(Rectangle((x,y),d[0],d[1],fill=False))\n",
    "        if d[2]==None:\n",
    "            return\n",
    "        if o=='P':\n",
    "            ny = y+1\n",
    "            for i in range(len(d[2])-1,-1,-1):\n",
    "                li,hi,di = d[2][i]\n",
    "                draw(d[2][i],x+1,ny,'S')\n",
    "                ny+=hi+1\n",
    "        if o=='S':\n",
    "            nx = x+1\n",
    "            for i in range(len(d[2])-1,-1,-1):\n",
    "                li,hi,di = d[2][i]\n",
    "                draw(d[2][i],nx,y+1,'P')\n",
    "                nx+=li+1\n",
    "    \n",
    "    d = dimensions(c)\n",
    "    draw(d,1,1,c[0])\n",
    "    \n",
    "    plt.axis('equal')\n",
    "    plt.axis('off')\n",
    "    plt.show()"
   ]
  },
  {
   "cell_type": "markdown",
   "id": "664eb725",
   "metadata": {},
   "source": [
    "### Valeurs des séries pré-calculées pour différents paramètres. \n",
    "\n",
    "**Vous pouvez aussi utliser la librairie paganini : https://paganini.readthedocs.io/en/latest/index.html**"
   ]
  },
  {
   "cell_type": "code",
   "execution_count": null,
   "id": "a4a8ead8",
   "metadata": {},
   "outputs": [],
   "source": [
    "# {SP = Union(S,P), S = Sequence(Union(Z,P),card>=2), P = Set(Union(Z,S),card>=2)}\n",
    "P,S,SP = dict(),dict(),dict()\n",
    "x = 0.2451438475598137\n",
    "xValues = [x]\n",
    "P[x] = 0.1368221595124981\n",
    "S[x] = 0.2360679707399782\n",
    "SP[x] = 0.3728901302524763\n",
    "\n",
    "x = 0.2451438475\n",
    "xValues.append(x)\n",
    "P[x] = 0.1368220951\n",
    "S[x] = 0.2360678666\n",
    "SP[x] = 0.3728899617\n",
    "\n",
    "x = 0.245143\n",
    "xValues.append(x)\n",
    "P[x] = 0.1362846333\n",
    "S[x] = 0.2351980904\n",
    "SP[x] = 0.3714827236\n",
    "\n",
    "x = 0.2451\n",
    "xValues.append(x)\n",
    "P[x] = 0.1329816377\n",
    "S[x] = 0.2298464452\n",
    "SP[x] = 0.3628280829\n",
    "\n",
    "x = 0.2\n",
    "xValues.append(x)\n",
    "P[x] = 0.04232734905 \n",
    "S[x] = 0.07750384553\n",
    "SP[x] = 0.1198311946"
   ]
  },
  {
   "cell_type": "code",
   "execution_count": null,
   "id": "179492fb",
   "metadata": {},
   "outputs": [],
   "source": [
    "print(xValues,P,S,SP)"
   ]
  },
  {
   "cell_type": "markdown",
   "id": "08c4672a",
   "metadata": {},
   "source": [
    "## Exo : écrire le générateur de Boltzmann de circuits série-parallèle (étiquetés)"
   ]
  },
  {
   "cell_type": "code",
   "execution_count": null,
   "id": "20a1b001",
   "metadata": {},
   "outputs": [],
   "source": [
    "# {SP = Union(S,P), S = Sequence(Union(Z,P),card>=2), P = Set(Union(Z,S),card>=2)}\n",
    "def random_circuit_free(x, maxi):\n",
    "    \n",
    "    # TODO : écrire le générateur libre avec rejet anticipé si la taille dépasse maxi # \n",
    "    # la fonction renvoie le graphe et sa taille\n",
    "    # remarque : en étiqueté, le paramètre x ne change pas dans les appels  récursifs, il n'est pas nécessaire de la passer en paramètre\n",
    "    \n",
    "    size = 0\n",
    "    def sizeUP(): # pour gérer le rejet anticiper : il suffit d'appeler cette fonction pour chaque 'Z' ajouté dans le circuit\n",
    "        nonlocal size, maxi # compteur global\n",
    "        size += 1\n",
    "        if size > maxi:\n",
    "            raise Exception(\"Too large\")  \n",
    "            \n",
    "    def gen_unionZP():\n",
    "        # TODO : renvoie soit 'Z' soit un circuit parallèle\n",
    "        \n",
    "        return None\n",
    "        \n",
    "    def gen_unionZS():\n",
    "        # TODO : renvoie soit 'Z' soit un circuit série\n",
    "        \n",
    "        return None\n",
    "        \n",
    "    def genS():  #S = Sequence(Union(Z,P),card>=2)\n",
    "        # TODO : un circuit série est codé sous forme de liste de circuits parallèle e cardinalité >=2;; \n",
    "        #        la liste commence par un 'S'\n",
    "        \n",
    "        return []\n",
    "    \n",
    "    def genP():  #P = Set(Union(Z,S),card>=2)\n",
    "        # TODO : un circuit parallèle est codé sous forme de liste de circuits série de cardinalité >=2; \n",
    "        #        la liste commence par un 'P'\n",
    "        \n",
    "        return []\n",
    "    try:\n",
    "         # TODO : renvoie soit un circuit série, soit un circuit parallèle et sa taille\n",
    "    except Exception as err:\n",
    "        #print(err)\n",
    "        return None, 0 \n",
    "      \n",
    "# exemple de taille 9 : ['S', ['P', 'Z', ['S', 'Z', 'Z', 'Z']], 'Z', 'Z', ['P', 'Z', 'Z'], 'Z']       "
   ]
  },
  {
   "cell_type": "code",
   "execution_count": null,
   "id": "7c8e8f06",
   "metadata": {},
   "outputs": [],
   "source": [
    "c, size = random_circuit_free(xValues[4],1000)\n",
    "print(c, size)"
   ]
  },
  {
   "cell_type": "code",
   "execution_count": null,
   "id": "093e9586",
   "metadata": {},
   "outputs": [],
   "source": [
    "draw_circuit(c)"
   ]
  },
  {
   "cell_type": "code",
   "execution_count": null,
   "id": "3ebd4874",
   "metadata": {},
   "outputs": [],
   "source": [
    "def random_circuit(x, n):\n",
    "    return gen_random_fixed_size(random_circuit_free, x, n)\n",
    "\n",
    "def random_circuit_approx(x, mini, maxi):\n",
    "    return gen_random_approx_size(random_circuit_free, x, mini, maxi)"
   ]
  },
  {
   "cell_type": "code",
   "execution_count": null,
   "id": "bfecf9be",
   "metadata": {},
   "outputs": [],
   "source": [
    "nb_trials,size_trials,circuit,size = random_circuit_approx(xValues[3],200,300)\n",
    "print(\"nombre d'essais = {}, taille du rejet = {}, taille du circuit = {}\\n\".format(nb_trials,size_trials,size))\n",
    "print(circuit)"
   ]
  },
  {
   "cell_type": "code",
   "execution_count": null,
   "id": "8c884cca",
   "metadata": {},
   "outputs": [],
   "source": [
    "draw_circuit(circuit)"
   ]
  },
  {
   "cell_type": "code",
   "execution_count": null,
   "id": "b7a9e371",
   "metadata": {},
   "outputs": [],
   "source": [
    "import sys\n",
    "sys.setrecursionlimit(100000)\n",
    "\n",
    "nb_trials,size_trials,circuit,size = random_circuit_approx(xValues[2],10_000,100_000)\n",
    "print(\"nombre d'essais = {}, taille du rejet = {}, taille du circuit = {}\".format(nb_trials,size_trials,size))"
   ]
  },
  {
   "cell_type": "code",
   "execution_count": null,
   "id": "703ae58e",
   "metadata": {},
   "outputs": [],
   "source": [
    "draw_circuit(circuit)"
   ]
  },
  {
   "cell_type": "code",
   "execution_count": null,
   "id": "176f96c0",
   "metadata": {},
   "outputs": [],
   "source": [
    "nb_trials,size_trials,circuit,size = random_circuit_approx(xValues[2],100_000,1_000_000)\n",
    "print(\"nombre d'essais = {}, taille du rejet = {}, taille du circuit = {}\".format(nb_trials,size_trials,size))"
   ]
  },
  {
   "cell_type": "code",
   "execution_count": null,
   "id": "7892a53e",
   "metadata": {},
   "outputs": [],
   "source": [
    "nb_trials,size_trials,circuit,size = random_circuit_approx(xValues[1],500_000,1_000_000)\n",
    "print(\"nombre d'essais = {}, taille du rejet = {}, taille du circuit = {}\".format(nb_trials,size_trials,size))"
   ]
  },
  {
   "cell_type": "code",
   "execution_count": null,
   "id": "a6896a42",
   "metadata": {},
   "outputs": [],
   "source": [
    "nb_trials,size_trials,circuit,size = random_circuit_approx(xValues[0],1_000_000,2_000_000)\n",
    "print(\"nombre d'essais = {}, taille du rejet = {}, taille du circuit = {}\".format(nb_trials,size_trials,size))"
   ]
  },
  {
   "cell_type": "markdown",
   "id": "a4ac800e",
   "metadata": {},
   "source": [
    "#### Tests : \"vérification\" du générateur"
   ]
  },
  {
   "cell_type": "code",
   "execution_count": null,
   "id": "cd198c4f",
   "metadata": {},
   "outputs": [],
   "source": [
    "count_occurences(lambda : random_circuit(xValues[3],3)[2],1000000)\n",
    "print(100./19) \n",
    "# 19 circuits \n",
    "# ['S', ['P', 'Z', 'Z'], 'Z'] x3\n",
    "# ['P', ['S', 'Z', 'Z'], 'Z'] = ['P', 'Z', ['S', 'Z', 'Z']] x6\n",
    "# ['S', 'Z', ['P', 'Z', 'Z']] x3\n",
    "# ['S', 'Z', 'Z', 'Z'] x6\n",
    "# ['P', 'Z', 'Z', 'Z'] x1"
   ]
  },
  {
   "cell_type": "code",
   "execution_count": null,
   "id": "b7cd6258",
   "metadata": {},
   "outputs": [],
   "source": [
    "n = 10_000\n",
    "l = counts_max_and_average(lambda : random_circuit_free(xValues[0],1000)[1], n)"
   ]
  },
  {
   "cell_type": "code",
   "execution_count": null,
   "id": "109d7c49",
   "metadata": {},
   "outputs": [],
   "source": [
    "plt.rcParams['figure.figsize'] = [10, 4]\n",
    "\n",
    "plt.hist(l,bins=500)\n",
    "plt.xlabel(\"Taille de l'arbre\")\n",
    "plt.ylabel(\"Nombre d'échantillons\")\n",
    "f = plt.figure()\n",
    "plt.show()"
   ]
  },
  {
   "cell_type": "code",
   "execution_count": null,
   "id": "c505a1b9",
   "metadata": {},
   "outputs": [],
   "source": []
  },
  {
   "cell_type": "code",
   "execution_count": null,
   "id": "221e59c9",
   "metadata": {},
   "outputs": [],
   "source": []
  },
  {
   "cell_type": "code",
   "execution_count": null,
   "id": "f4f7dbd2",
   "metadata": {},
   "outputs": [],
   "source": []
  }
 ],
 "metadata": {
  "kernelspec": {
   "display_name": "Python 3 (ipykernel)",
   "language": "python",
   "name": "python3"
  },
  "language_info": {
   "codemirror_mode": {
    "name": "ipython",
    "version": 3
   },
   "file_extension": ".py",
   "mimetype": "text/x-python",
   "name": "python",
   "nbconvert_exporter": "python",
   "pygments_lexer": "ipython3",
   "version": "3.11.1"
  }
 },
 "nbformat": 4,
 "nbformat_minor": 5
}
