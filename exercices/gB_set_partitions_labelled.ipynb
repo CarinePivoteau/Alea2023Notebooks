{
 "cells": [
  {
   "cell_type": "code",
   "execution_count": 1,
   "id": "9bc2a120",
   "metadata": {},
   "outputs": [],
   "source": [
    "# uniquement pour utliser dans colab : \n",
    "\n",
    "# !git clone https://github.com/CarinePivoteau/Alea2023Notebooks.git\n",
    "# import sys\n",
    "# sys.path.append('/content/Alea2023Notebooks')"
   ]
  },
  {
   "cell_type": "code",
   "execution_count": 2,
   "id": "25f1c1f5",
   "metadata": {},
   "outputs": [],
   "source": [
    "# si les modules ne sont pas installés :\n",
    "\n",
    "# import sys\n",
    "# !{sys.executable} -m pip install matplotlib\n",
    "# !{sys.executable} -m pip install graphviz"
   ]
  },
  {
   "cell_type": "code",
   "execution_count": 3,
   "id": "9ec1bdc7",
   "metadata": {},
   "outputs": [],
   "source": [
    "import sys\n",
    "sys.path.append('../')\n",
    "\n",
    "# imports : random, time, math, sys, plt, graphviz\n",
    "\n",
    "from helpers import *\n",
    "from gen_laws import *"
   ]
  },
  {
   "cell_type": "code",
   "execution_count": 4,
   "id": "c61310d4",
   "metadata": {},
   "outputs": [],
   "source": [
    "# si le modules n'est pas installé :\n",
    "\n",
    "# import sys \n",
    "# !{sys.executable} -m pip install numpy\n",
    "\n",
    "import numpy as np\n",
    "from scipy.special import lambertw"
   ]
  },
  {
   "cell_type": "code",
   "execution_count": 5,
   "id": "ba7509d7",
   "metadata": {},
   "outputs": [
    {
     "data": {
      "text/plain": [
       "(3.38563014029005+0j)"
      ]
     },
     "execution_count": 5,
     "metadata": {},
     "output_type": "execute_result"
    }
   ],
   "source": [
    "lambertw(100) # calcul du paramètre pour n=100"
   ]
  },
  {
   "cell_type": "markdown",
   "id": "cb315406",
   "metadata": {},
   "source": [
    "## Exo : écrire le générateur de Boltzmann de partitions d'ensemble (étiqueté)"
   ]
  },
  {
   "cell_type": "code",
   "execution_count": 6,
   "id": "bc70a038",
   "metadata": {},
   "outputs": [],
   "source": [
    "# SP = MSet(Mset(Z,card>=1))\n",
    "def random_set_partition_free(x):\n",
    "    def label(sp):\n",
    "        # TODO : étant donné un \"squelette\" de partition d'ensemble sp, \n",
    "        #        renvoie sa taille et la partition de [1..n] correspondante\n",
    "        \n",
    "        return 0, []\n",
    "\n",
    "    # TODO : engendrer le squelette\n",
    "    sp = []\n",
    "    \n",
    "    return label(sp)\n",
    "\n",
    "def size_of_random_set_partition_free(x):\n",
    "    # TODO : renvoyer la taille d'une partition aléatoire sous modèle de Boltzmann \n",
    "    #        sans engendrer la partition elle-même\n",
    "    \n",
    "    return -1\n",
    "\n",
    "def number_of_distinct_part_sizes_of_random_set_partition_free(x):\n",
    "    # TODO : renvoyer la taille et les nombre de tailles de part distinctes\n",
    "    #        d'une partition aléatoire sous modèle de Boltzmann\n",
    "    #        sans engendrer la partition elle-même\n",
    "    \n",
    "    return -1, -1\n",
    "    "
   ]
  },
  {
   "cell_type": "code",
   "execution_count": 7,
   "id": "da3f0e54",
   "metadata": {
    "scrolled": true
   },
   "outputs": [
    {
     "name": "stdout",
     "output_type": "stream",
     "text": [
      "0 []\n"
     ]
    }
   ],
   "source": [
    "size, sp = random_set_partition_free(3.38563014029005)\n",
    "print(size, sp)"
   ]
  },
  {
   "cell_type": "code",
   "execution_count": 8,
   "id": "43265603",
   "metadata": {},
   "outputs": [
    {
     "name": "stdout",
     "output_type": "stream",
     "text": [
      "(-1, -1)\n"
     ]
    }
   ],
   "source": [
    "print(number_of_distinct_part_sizes_of_random_set_partition_free(6.5))"
   ]
  },
  {
   "cell_type": "markdown",
   "id": "ece9653b",
   "metadata": {},
   "source": [
    "**Affichage de la distributions des tailles pour diférentes valeurs du paramètre**"
   ]
  },
  {
   "cell_type": "code",
   "execution_count": 9,
   "id": "d59947bc",
   "metadata": {},
   "outputs": [
    {
     "ename": "IndexError",
     "evalue": "list assignment index out of range",
     "output_type": "error",
     "traceback": [
      "\u001b[0;31m---------------------------------------------------------------------------\u001b[0m",
      "\u001b[0;31mIndexError\u001b[0m                                Traceback (most recent call last)",
      "Cell \u001b[0;32mIn[9], line 20\u001b[0m\n\u001b[1;32m     18\u001b[0m l \u001b[38;5;241m=\u001b[39m [\u001b[38;5;241m0\u001b[39m]\u001b[38;5;241m*\u001b[39mk\n\u001b[1;32m     19\u001b[0m \u001b[38;5;28;01mfor\u001b[39;00m i \u001b[38;5;129;01min\u001b[39;00m \u001b[38;5;28mrange\u001b[39m(k):\n\u001b[0;32m---> 20\u001b[0m     d, l[i], m, a \u001b[38;5;241m=\u001b[39m \u001b[43mcounts_max_and_average2\u001b[49m\u001b[43m(\u001b[49m\u001b[38;5;28;43;01mlambda\u001b[39;49;00m\u001b[43m \u001b[49m\u001b[43m:\u001b[49m\u001b[43m \u001b[49m\u001b[43msize_of_random_set_partition_free\u001b[49m\u001b[43m(\u001b[49m\u001b[43mvalues\u001b[49m\u001b[43m[\u001b[49m\u001b[43mi\u001b[49m\u001b[43m]\u001b[49m\u001b[43m)\u001b[49m\u001b[43m,\u001b[49m\u001b[43m \u001b[49m\u001b[43mn\u001b[49m\u001b[43m)\u001b[49m\n\u001b[1;32m     21\u001b[0m     \u001b[38;5;28mprint\u001b[39m(\u001b[38;5;124m\"\u001b[39m\u001b[38;5;124mtrop grands = \u001b[39m\u001b[38;5;132;01m{}\u001b[39;00m\u001b[38;5;124m, taille max = \u001b[39m\u001b[38;5;132;01m{}\u001b[39;00m\u001b[38;5;124m, moyenne des tailles = \u001b[39m\u001b[38;5;132;01m{}\u001b[39;00m\u001b[38;5;124m\"\u001b[39m\u001b[38;5;241m.\u001b[39mformat(d,m,a))\n",
      "Cell \u001b[0;32mIn[9], line 12\u001b[0m, in \u001b[0;36mcounts_max_and_average2\u001b[0;34m(gen, nb)\u001b[0m\n\u001b[1;32m     10\u001b[0m l \u001b[38;5;241m=\u001b[39m [\u001b[38;5;241m0\u001b[39m]\u001b[38;5;241m*\u001b[39m(m\u001b[38;5;241m+\u001b[39m\u001b[38;5;241m1\u001b[39m)\n\u001b[1;32m     11\u001b[0m \u001b[38;5;28;01mfor\u001b[39;00m k,v \u001b[38;5;129;01min\u001b[39;00m counts\u001b[38;5;241m.\u001b[39mitems():\n\u001b[0;32m---> 12\u001b[0m     \u001b[43ml\u001b[49m\u001b[43m[\u001b[49m\u001b[43mk\u001b[49m\u001b[43m]\u001b[49m \u001b[38;5;241m=\u001b[39m v\n\u001b[1;32m     13\u001b[0m \u001b[38;5;28;01mreturn\u001b[39;00m discard, l, m, \u001b[38;5;28msum\u001b[39m([i\u001b[38;5;241m*\u001b[39ml[i] \u001b[38;5;28;01mfor\u001b[39;00m i \u001b[38;5;129;01min\u001b[39;00m \u001b[38;5;28mrange\u001b[39m(\u001b[38;5;28mlen\u001b[39m(l))])\u001b[38;5;241m/\u001b[39mnb\n",
      "\u001b[0;31mIndexError\u001b[0m: list assignment index out of range"
     ]
    }
   ],
   "source": [
    "from collections import defaultdict\n",
    "\n",
    "def counts_max_and_average2(gen,nb):\n",
    "    counts = defaultdict(int)\n",
    "    discard = 0\n",
    "    for i in range(nb):\n",
    "        size = gen()\n",
    "        counts[size] += 1\n",
    "    m = max(counts.keys())\n",
    "    l = [0]*(m+1)\n",
    "    for k,v in counts.items():\n",
    "        l[k] = v\n",
    "    return discard, l, m, sum([i*l[i] for i in range(len(l))])/nb\n",
    "\n",
    "n = 100_000\n",
    "values = [1.5,2,2.5,3,5]\n",
    "k = len(values)\n",
    "l = [0]*k\n",
    "for i in range(k):\n",
    "    d, l[i], m, a = counts_max_and_average2(lambda : size_of_random_set_partition_free(values[i]), n)\n",
    "    print(\"trop grands = {}, taille max = {}, moyenne des tailles = {}\".format(d,m,a))"
   ]
  },
  {
   "cell_type": "code",
   "execution_count": null,
   "id": "1ad0de1c",
   "metadata": {},
   "outputs": [],
   "source": [
    "import matplotlib.pyplot as plt\n",
    "plt.rcParams['figure.figsize'] = [12, 4]\n",
    "\n",
    "for i in range(1,k):\n",
    "    plt.plot(l[i])\n",
    "plt.show()"
   ]
  },
  {
   "cell_type": "markdown",
   "id": "6c629b66",
   "metadata": {},
   "source": [
    "## Exo : tester empiriquement que le nombre de tailles de parts distinctes est en $O(\\log n)$. \n",
    "\n",
    "Réf : \"On the number of distinct block sizes in partitions of a set\", Odlyzko, Richmond, JCTA 1985"
   ]
  },
  {
   "cell_type": "code",
   "execution_count": null,
   "id": "e0c46270",
   "metadata": {},
   "outputs": [],
   "source": []
  },
  {
   "cell_type": "code",
   "execution_count": null,
   "id": "dc899c05",
   "metadata": {},
   "outputs": [],
   "source": []
  },
  {
   "cell_type": "code",
   "execution_count": null,
   "id": "24eb7a9d",
   "metadata": {},
   "outputs": [],
   "source": []
  }
 ],
 "metadata": {
  "kernelspec": {
   "display_name": "Python 3 (ipykernel)",
   "language": "python",
   "name": "python3"
  },
  "language_info": {
   "codemirror_mode": {
    "name": "ipython",
    "version": 3
   },
   "file_extension": ".py",
   "mimetype": "text/x-python",
   "name": "python",
   "nbconvert_exporter": "python",
   "pygments_lexer": "ipython3",
   "version": "3.11.1"
  }
 },
 "nbformat": 4,
 "nbformat_minor": 5
}
