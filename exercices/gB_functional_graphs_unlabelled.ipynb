{
 "cells": [
  {
   "cell_type": "code",
   "execution_count": null,
   "id": "0a493245",
   "metadata": {},
   "outputs": [],
   "source": [
    "# uniquement pour utliser dans colab : \n",
    "\n",
    "# !git clone https://github.com/CarinePivoteau/Alea2023Notebooks.git\n",
    "# import sys\n",
    "# sys.path.append('/content/Alea2023Notebooks')"
   ]
  },
  {
   "cell_type": "code",
   "execution_count": null,
   "id": "a26b5c2a",
   "metadata": {},
   "outputs": [],
   "source": [
    "# si les modules ne sont pas installés :\n",
    "\n",
    "# import sys\n",
    "# !{sys.executable} -m pip install matplotlib\n",
    "# !{sys.executable} -m pip install graphviz"
   ]
  },
  {
   "cell_type": "code",
   "execution_count": 5,
   "id": "9ec1bdc7",
   "metadata": {},
   "outputs": [],
   "source": [
    "import sys\n",
    "sys.path.append('../')\n",
    "\n",
    "# imports : random, time, math, sys, plt, graphviz\n",
    "\n",
    "from helpers import *\n",
    "from gen_laws import *"
   ]
  },
  {
   "cell_type": "markdown",
   "id": "2115e8b4",
   "metadata": {},
   "source": [
    "### Valeurs des séries pré-calculées pour différents paramètres. \n",
    "\n",
    "**Vous pouvez aussi utliser la librairie paganini : https://paganini.readthedocs.io/en/latest/index.html"
   ]
  },
  {
   "cell_type": "code",
   "execution_count": null,
   "id": "ac17a40c",
   "metadata": {},
   "outputs": [],
   "source": [
    "# Oracle : pour chaque valeur de x dans xValues, GF[x][i][A] donne la valeur de A(x^i)\n",
    "\n",
    "# F = Set(C), C = Cycle(T), T = Prod(Z,Set(T)\n",
    "\n",
    "GF = dict() \n",
    "x = 0.3383218568\n",
    "xValues = [x]\n",
    "GF[x] = [None, {'C':10.63994532, 'F':45840.85244, 'T':0.9999732953}, {'C':0.1487616397, 'F':1.168869811, 'T':0.1314878868}, {'C':0.04197858310, 'F':1.043677556, 'T':0.04035050316}, {'C':0.01345404181, 'F':1.013632743, 'T':0.01327774371}, {'C':0.004472161902, 'F':1.004492074, 'T':0.004452338585}, {'C':0.001504128164, 'F':1.001506387, 'T':0.001501872543}, {'C':0.0005078685209, 'F':1.000508126, 'T':0.0005076108521}, {'C':0.0001717076179, 'F':1.000171737, 'T':0.0001716781445}, {'C':0.00005807924272, 'F':1.000058083, 'T':0.00005807586992}, {'C':0.00001964796710, 'F':1.000019648, 'T':0.00001964758108}, {'C':6.647163878*10**(-6), 'F':1.000006647, 'T':6.647119694*10**(-6)}, {'C':2.248861044*10**(-6), 'F':1.000002249, 'T':2.248855986*10**(-6)}, {'C':7.608365796*10**(-7), 'F':1.000000761, 'T':7.608360008*10**(-7)}, {'C':2.574073852*10**(-7), 'F':1.000000257, 'T':2.574073190*10**(-7)}, {'C':8.708651485*10**(-8), 'F':1.000000087, 'T':8.708650726*10**(-8)}, {'C':2.946326801*10**(-8), 'F':1.000000029, 'T':2.946326714*10**(-8)}, {'C':9.968067152*10**(-9), 'F':1.000000010, 'T':9.968067052*10**(-9)}, {'C':3.372414943*10**(-9), 'F':1.000000003, 'T':3.372414931*10**(-9)}, {'C':1.140961681*10**(-9), 'F':1.000000001, 'T':1.140961679*10**(-9)}, {'C':3.860122736*10**(-10), 'F':1.000000000, 'T':3.860122734*10**(-10)}]\n",
    "\n",
    "x = 0.338321\n",
    "xValues.append(x)\n",
    "GF[x] = [None, {'C':6.108835942, 'F':493.6471081, 'T':0.9975201626}, {'C':0.1487606568, 'F':1.168868571, 'T':0.1314871083}, {'C':0.04197823733, 'F':1.043677182, 'T':0.04035018321}, {'C':0.01345390185, 'F':1.013632599, 'T':0.01327760738}, {'C':0.004472104767, 'F':1.004492017, 'T':0.004452281954}, {'C':0.001504105241, 'F':1.001506364, 'T':0.001501849688}, {'C':0.0005078595085, 'F':1.000508117, 'T':0.0005076018489}, {'C':0.0001717041379, 'F':1.000171734, 'T':0.0001716746657}, {'C':0.00005807791881, 'F':1.000058081, 'T':0.00005807454615}, {'C':0.00001964746951, 'F':1.000019648, 'T':0.00001964708350}, {'C':6.646978705*10**(-6), 'F':1.000006647, 'T':6.646934524*10**(-6)}, {'C':2.248792701*10**(-6), 'F':1.000002249, 'T':2.248787644*10**(-6)}, {'C':7.608115314*10**(-7), 'F':1.000000761, 'T':7.608109525*10**(-7)}, {'C':2.573982589*10**(-7), 'F':1.000000257, 'T':2.573981927*10**(-7)}, {'C':8.708320671*10**(-8), 'F':1.000000087, 'T':8.708319912*10**(-8)}, {'C':2.946207418*10**(-8), 'F':1.000000029, 'T':2.946207331*10**(-8)}, {'C':9.967638010*10**(-9), 'F':1.000000010, 'T':9.967637910*10**(-9)}, {'C':3.372261215*10**(-9), 'F':1.000000003, 'T':3.372261203*10**(-9)}, {'C':1.140906782*10**(-9), 'F':1.000000001, 'T':1.140906780*10**(-9)}, {'C':3.859927226*10**(-10), 'F':1.000000000, 'T':3.859927224*10**(-10)}]\n",
    "\n",
    "x = 0.338\n",
    "xValues.append(x)\n",
    "GF[x] = [None, {'C':3.159426514, 'F':25.84623460, 'T':0.9526625479}, {'C':0.1483928441, 'F':1.168404373, 'T':0.1311957119}, {'C':0.04184884930, 'F':1.043537503, 'T':0.04023044278}, {'C':0.01340154709, 'F':1.013578864, 'T':0.01322660440}, {'C':0.004450740755, 'F':1.004470463, 'T':0.004431106056}, {'C':0.001495537377, 'F':1.001497771, 'T':0.001493307410}, {'C':0.0005044926901, 'F':1.000504747, 'T':0.0005042384337}, {'C':0.0001704047077, 'F':1.000170434, 'T':0.0001703756799}, {'C':0.00005758379938, 'F':1.000057587, 'T':0.00005758048387}, {'C':0.00001946184041, 'F':1.000019462, 'T':0.00001946146166}, {'C':6.577932559*10**(-6), 'F':1.000006578, 'T':6.577889291*10**(-6)}, {'C':2.223321841*10**(-6), 'F':1.000002223, 'T':2.223316898*10**(-6)}, {'C':7.514805703*10**(-7), 'F':1.000000751, 'T':7.514800056*10**(-7)}, {'C':2.540001800*10**(-7), 'F':1.000000254, 'T':2.540001155*10**(-7)}, {'C':8.585203199*10**(-8), 'F':1.000000086, 'T':8.585202462*10**(-8)}, {'C':2.901798351*10**(-8), 'F':1.000000029, 'T':2.901798267*10**(-8)}, {'C':9.808078051*10**(-9), 'F':1.000000010, 'T':9.808077955*10**(-9)}, {'C':3.315130338*10**(-9), 'F':1.000000003, 'T':3.315130327*10**(-9)}, {'C':1.120514050*10**(-9), 'F':1.000000001, 'T':1.120514048*10**(-9)}, {'C':3.787337482*10**(-10), 'F':1.000000000, 'T':3.787337480*10**(-10)}]\n",
    "\n",
    "x = 0.3\n",
    "xValues.append(x)\n",
    "GF[x] = [None, {'C':0.8924250371, 'F':2.610598741, 'T':0.5571390806}, {'C':0.1098595268, 'F':1.121018061, 'T':0.09988714720}, {'C':0.02854182311, 'F':1.029335607, 'T':0.02777062919}, {'C':0.008233385218, 'F':1.008300634, 'T':0.008166690420}, {'C':0.002441867511, 'F':1.002447816, 'T':0.002435933738}, {'C':0.0007300644342, 'F':1.000730597, 'T':0.0007295322170}, {'C':0.0002187957012, 'F':1.000218844, 'T':0.0002187478506}, {'C':0.00006561861047, 'F':1.000065623, 'T':0.00006561430524}, {'C':0.00001968377487, 'F':1.000019684, 'T':0.00001968338744}, {'C':5.904969737*10**(-6), 'F':1.000005905, 'T':5.904934868*10**(-6)}, {'C':1.771476276*10**(-6), 'F':1.000001771, 'T':1.771473138*10**(-6)}, {'C':5.314415649*10**(-7), 'F':1.000000531, 'T':5.314412824*10**(-7)}, {'C':1.594323508*10**(-7), 'F':1.000000159, 'T':1.594323254*10**(-7)}, {'C':4.782969458*10**(-8), 'F':1.000000048, 'T':4.782969229*10**(-8)}, {'C':1.434890741*10**(-8), 'F':1.000000014, 'T':1.434890721*10**(-8)}, {'C':4.304672137*10**(-9), 'F':1.000000004, 'T':4.304672119*10**(-9)}, {'C':1.291401633*10**(-9), 'F':1.000000001, 'T':1.291401632*10**(-9)}, {'C':3.874204893*10**(-10), 'F':1.000000000, 'T':3.874204891*10**(-10)}, {'C':1.162261467*10**(-10), 'F':1.000000000, 'T':1.162261467*10**(-10)}, {'C':3.486784401*10**(-11), 'F':1.000000000, 'T':3.486784401*10**(-11)}]\n",
    "\n",
    "x = 0.3383134207 # target size = 20_000\n",
    "xValues.append(x)\n",
    "GF[x] = [None, {'C':4.967112834, 'F':157.6050107, 'T':0.9922328058}, {'C':0.1487519632, 'F':1.168857596, 'T':0.1314802224}, {'C':0.04197517873, 'F':1.043673880, 'T':0.04034735298}, {'C':0.01345266384, 'F':1.013631328, 'T':0.01327640138}, {'C':0.004471599374, 'F':1.004491507, 'T':0.004451781021}, {'C':0.001503902468, 'F':1.001506161, 'T':0.001501647523}, {'C':0.0005077797911, 'F':1.000508038, 'T':0.0005075222123}, {'C':0.0001716733567, 'F':1.000171703, 'T':0.0001716438950}, {'C':0.00005806620859, 'F':1.000058070, 'T':0.00005806283729}, {'C':0.00001964306822, 'F':1.000019643, 'T':0.00001964268238}, {'C':6.645340855*10**(-6), 'F':1.000006645, 'T':6.645296695*10**(-6)}, {'C':2.248188225*10**(-6), 'F':1.000002248, 'T':2.248183170*10**(-6)}, {'C':7.605899859*10**(-7), 'F':1.000000761, 'T':7.605894074*10**(-7)}, {'C':2.573175409*10**(-7), 'F':1.000000257, 'T':2.573174747*10**(-7)}, {'C':8.705394782*10**(-8), 'F':1.000000087, 'T':8.705394024*10**(-8)}, {'C':2.945151547*10**(-8), 'F':1.000000029, 'T':2.945151461*10**(-8)}, {'C':9.963842559*10**(-9), 'F':1.000000010, 'T':9.963842459*10**(-9)}, {'C':3.370901615*10**(-9), 'F':1.000000003, 'T':3.370901603*10**(-9)}, {'C':1.140421251*10**(-9), 'F':1.000000001, 'T':1.140421249*10**(-9)}, {'C':3.858198139*10**(-10), 'F':1.000000000, 'T':3.858198137*10**(-10)}]\n",
    "\n",
    "x = 0.3383050026  # target size = 10_000\n",
    "xValues.append(x)\n",
    "GF[x] = [None, {'C':4.622140060, 'F':111.6213929, 'T':0.9890331852}, {'C':0.1487423080, 'F':1.168845408, 'T':0.1314725748}, {'C':0.04197178185, 'F':1.043670213, 'T':0.04034420970}, {'C':0.01345128891, 'F':1.013629917, 'T':0.01327506202}, {'C':0.004471038103, 'F':1.004490940, 'T':0.004451224704}, {'C':0.001503677281, 'F':1.001505935, 'T':0.001501423010}, {'C':0.0005076912639, 'F':1.000507949, 'T':0.0005074337749}, {'C':0.0001716391745, 'F':1.000171669, 'T':0.0001716097246}, {'C':0.00005805320485, 'F':1.000058057, 'T':0.00005804983506}, {'C':0.00001963818088, 'F':1.000019639, 'T':0.00001963779523}, {'C':6.643522174*10**(-6), 'F':1.000006644, 'T':6.643478038*10**(-6)}, {'C':2.247517027*10**(-6), 'F':1.000002248, 'T':2.247511975*10**(-6)}, {'C':7.603439918*10**(-7), 'F':1.000000760, 'T':7.603434137*10**(-7)}, {'C':2.572279173*10**(-7), 'F':1.000000257, 'T':2.572278512*10**(-7)}, {'C':8.702146162*10**(-8), 'F':1.000000087, 'T':8.702145404*10**(-8)}, {'C':2.943979240*10**(-8), 'F':1.000000029, 'T':2.943979154*10**(-8)}, {'C':9.959628658*10**(-9), 'F':1.000000010, 'T':9.959628559*10**(-9)}, {'C':3.369392155*10**(-9), 'F':1.000000003, 'T':3.369392143*10**(-9)}, {'C':1.139882217*10**(-9), 'F':1.000000001, 'T':1.139882215*10**(-9)}, {'C':3.856278557*10**(-10), 'F':1.000000000, 'T':3.856278555*10**(-10)}]"
   ]
  },
  {
   "cell_type": "code",
   "execution_count": null,
   "id": "e0a82b88",
   "metadata": {},
   "outputs": [],
   "source": [
    "x = xValues[2]\n",
    "values = GF[x]\n",
    "print(values[1]['C']) #C(x^1)\n",
    "print(values[2]['C']) #C(x^2)"
   ]
  },
  {
   "cell_type": "code",
   "execution_count": null,
   "id": "d9894039",
   "metadata": {},
   "outputs": [],
   "source": [
    "# si le modules n'est pas installé :\n",
    "\n",
    "# import sys \n",
    "# !{sys.executable} -m pip install sympy\n",
    "\n",
    "from sympy.ntheory.factor_ import totient as phi"
   ]
  },
  {
   "cell_type": "markdown",
   "id": "9cd813f0",
   "metadata": {},
   "source": [
    "## Exo : écrire le générateur de Boltzmann de graphes fonctionnels (non étiquetés)"
   ]
  },
  {
   "cell_type": "code",
   "execution_count": null,
   "id": "f5c85099",
   "metadata": {},
   "outputs": [],
   "source": [
    "# F = Set(C), C = Cycle(T), T = Prod(Z,Set(T))\n",
    "\n",
    "def random_functional_graph_free(x,maxi):\n",
    "    values = GF[x]\n",
    "    \n",
    "    # TODO : écrire le générateur libre avec rejet anticipé si la taille dépasse maxi # \n",
    "    # la fonction renvoie le graphe et sa taille\n",
    "    \n",
    "    def indiceMaxT(t): # param : x^t\n",
    "        # TODO\n",
    "        \n",
    "        return -1\n",
    "\n",
    "    def genT(t): # param : x^t\n",
    "        # TODO : un arbre est codé sous forme de liste de listes; les atomes sont des 'Z'\n",
    "        \n",
    "        return [], 0\n",
    "    \n",
    "    def symetry_order(t): # param : x^t\n",
    "        # TODO\n",
    "        \n",
    "        return -1\n",
    "\n",
    "    def genC(t): # param : x^t\n",
    "        # TODO : un cycle est codé sous forme de liste d'arbres; la liste commence par un 'C'\n",
    "        \n",
    "        return [], 0\n",
    "    \n",
    "    def indiceMaxF(t): # param : x^t\n",
    "        # TODO\n",
    "        \n",
    "        return -1\n",
    "\n",
    "    def genF(t): # param : x^t\n",
    "        # TODO : un graphe est codé sous forme de liste de cycles d'arbres; la liste commence par un 'S'\n",
    "        \n",
    "        return [], 0\n",
    "    \n",
    "    try:\n",
    "        return genF(1)\n",
    "    except Exception as err:\n",
    "        #print(\"---\", err)\n",
    "        return None, -1 \n",
    "        \n",
    "# exemple de taille 10 : ['S', ['C', ['Z', ['Z', ['Z'], ['Z']]]], ['C', ['Z'], ['Z']], ['C', ['Z', ['Z', ['Z'], ['Z']]]]]"
   ]
  },
  {
   "cell_type": "code",
   "execution_count": null,
   "id": "59d76ce9",
   "metadata": {},
   "outputs": [],
   "source": [
    "gf, size = random_functional_graph_free(xValues[3],1000)\n",
    "print(gf, size)"
   ]
  },
  {
   "cell_type": "code",
   "execution_count": null,
   "id": "f09a0843",
   "metadata": {},
   "outputs": [],
   "source": [
    "def draw_fg_unlabelled(g,w,l): \n",
    "    # si c'est trop lent, retirer le layout neato\n",
    "    dot = graphviz.Graph(graph_attr={'layout':'neato','size' : str(w) + \",\" + str(l)}, node_attr={'label':'','shape':'circle', 'fillcolor ':'white', 'style':'filled', 'fixedsize':'true'})\n",
    "    count = 0\n",
    "    def draw(t,r):\n",
    "        nonlocal count\n",
    "        count += 1\n",
    "        node = str(count)\n",
    "        if len(t)==0:\n",
    "            dot.node(node, fillcolor='white', fontcolor='white')\n",
    "        else : \n",
    "            dot.node(node, fillcolor='black', fontcolor='black')\n",
    "        dot.edge(r, node)\n",
    "        for st in t[1:]:\n",
    "            draw(st,node)\n",
    "    for c in g[1:]:        \n",
    "        cycle=[]\n",
    "        for t in c[1:]:\n",
    "            cycle.append(str(count))\n",
    "            draw(t,str(count))\n",
    "            count+=1\n",
    "        cycle.append(str(cycle[0]))\n",
    "        for i in range(len(cycle)-1):\n",
    "            dot.edge(cycle[i], cycle[i+1], color='blue', penwidth='50')\n",
    "        count+=1\n",
    "    display(dot)\n",
    "    #dot.render('gf' + str(count), view=True) # pour sauveguarder dans un fichier"
   ]
  },
  {
   "cell_type": "code",
   "execution_count": null,
   "id": "414406be",
   "metadata": {},
   "outputs": [],
   "source": [
    "def random_functional_graph(x, n):\n",
    "    return gen_random_fixed_size(random_functional_graph_free, x, n)\n",
    "\n",
    "def random_functional_graph_approx(x, mini, maxi):\n",
    "    return gen_random_approx_size(random_functional_graph_free, x, mini, maxi)"
   ]
  },
  {
   "cell_type": "code",
   "execution_count": null,
   "id": "296d72ae",
   "metadata": {},
   "outputs": [],
   "source": [
    "nb_trials, size_trials, graph, size = random_functional_graph_approx(xValues[3],10,20)\n",
    "print(nb_trials, size_trials, graph, size)"
   ]
  },
  {
   "cell_type": "code",
   "execution_count": null,
   "id": "a959cab8",
   "metadata": {},
   "outputs": [],
   "source": [
    "nb_trials, size_trials, graph, size = random_functional_graph_approx(xValues[2],1000,2000)\n",
    "print(nb_trials, size_trials, graph, size)"
   ]
  },
  {
   "cell_type": "code",
   "execution_count": null,
   "id": "1c47032f",
   "metadata": {},
   "outputs": [],
   "source": [
    "nb_trials, size_trials, graph, size = random_functional_graph_approx(xValues[5],9900,10100)\n",
    "print(nb_trials, size_trials, size)"
   ]
  },
  {
   "cell_type": "code",
   "execution_count": null,
   "id": "cd4b52ef",
   "metadata": {},
   "outputs": [],
   "source": [
    "draw_fg_unlabelled(graph,10,10)"
   ]
  },
  {
   "cell_type": "code",
   "execution_count": null,
   "id": "65060eef",
   "metadata": {},
   "outputs": [],
   "source": [
    "import sys\n",
    "sys.setrecursionlimit(100000)\n",
    "\n",
    "nb_trials, size_trials, graph, size = random_functional_graph_approx(xValues[1],1_000_000,10_000_000)\n",
    "print(nb_trials, size_trials, size)"
   ]
  },
  {
   "cell_type": "markdown",
   "id": "b7576618",
   "metadata": {},
   "source": [
    "#### Tests : \"vérification\" du générateur"
   ]
  },
  {
   "cell_type": "code",
   "execution_count": null,
   "id": "d214a142",
   "metadata": {},
   "outputs": [],
   "source": [
    "nb = 100_000"
   ]
  },
  {
   "cell_type": "code",
   "execution_count": null,
   "id": "c8657ac8",
   "metadata": {},
   "outputs": [],
   "source": [
    "dico = count_occurences(lambda : random_functional_graph(xValues[3],3)[2], nb)\n",
    "100/7"
   ]
  },
  {
   "cell_type": "code",
   "execution_count": null,
   "id": "b34e7a42",
   "metadata": {},
   "outputs": [],
   "source": [
    "n = 10_000\n",
    "l = counts_max_and_average(lambda : random_functional_graph_free(xValues[5],1000)[1], n)"
   ]
  },
  {
   "cell_type": "code",
   "execution_count": null,
   "id": "6af2dd4e",
   "metadata": {},
   "outputs": [],
   "source": [
    "l2 = counts_max_and_average(lambda : random_functional_graph_free(xValues[4],1000)[1], n)"
   ]
  },
  {
   "cell_type": "code",
   "execution_count": null,
   "id": "24f41285",
   "metadata": {},
   "outputs": [],
   "source": [
    "import matplotlib.pyplot as plt\n",
    "plt.rcParams['figure.figsize'] = [10, 4]\n",
    "\n",
    "plt.hist(l,bins=500, ec=\"blue\",fill=False) # taille visée : 10 000\n",
    "plt.hist(l2,bins=500, ec=\"red\", fill=False) # taille visée : 20 000\n",
    "plt.title(\"graphes fonctionnels\")\n",
    "plt.xlabel(\"Taille de l'arbre\")\n",
    "plt.ylabel(\"Nombre d'échantillons\")\n",
    "plt.axis([0, 1000, 0, 100])\n",
    "f = plt.figure()\n",
    "f.set_figwidth(20)\n",
    "plt.show()"
   ]
  }
 ],
 "metadata": {
  "kernelspec": {
   "display_name": "Python 3 (ipykernel)",
   "language": "python",
   "name": "python3"
  },
  "language_info": {
   "codemirror_mode": {
    "name": "ipython",
    "version": 3
   },
   "file_extension": ".py",
   "mimetype": "text/x-python",
   "name": "python",
   "nbconvert_exporter": "python",
   "pygments_lexer": "ipython3",
   "version": "3.11.1"
  }
 },
 "nbformat": 4,
 "nbformat_minor": 5
}
