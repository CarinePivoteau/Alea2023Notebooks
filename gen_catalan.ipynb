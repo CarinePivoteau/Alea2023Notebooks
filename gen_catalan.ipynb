{
 "cells": [
  {
   "cell_type": "code",
   "execution_count": 1,
   "id": "1e305b0f",
   "metadata": {},
   "outputs": [],
   "source": [
    "from random import *\n",
    "from time import *\n",
    "import math\n",
    "import sys\n",
    "import matplotlib.pyplot as plt"
   ]
  },
  {
   "cell_type": "code",
   "execution_count": 2,
   "id": "05bdd190",
   "metadata": {},
   "outputs": [],
   "source": [
    "def test_uniformity(gen, nb):\n",
    "    dico = {}\n",
    "    for i in range(nb):\n",
    "        tmp = str(gen())\n",
    "        if tmp in dico:\n",
    "            dico[tmp] += 1\n",
    "        else:\n",
    "             dico[tmp] = 1\n",
    "    print(\"nb:\", len(dico))\n",
    "    for key in dico:\n",
    "        print(key, \"{0:.2f}\".format(dico[key] / nb * 100))\n",
    "\n",
    "def plot_time(gen, mini, maxi, step):\n",
    "    sizes, timings = [], []\n",
    "    nb = 100\n",
    "    for i in range(mini, maxi, step):\n",
    "        sizes.append(i)        \n",
    "        t1 = time()\n",
    "        for k in range(nb):\n",
    "            gen(i)\n",
    "        timings.append((time() - t1) / nb)\n",
    "    plt.plot(sizes, timings)\n",
    "    plt.show()\n",
    "    \n",
    "def plot_values(gen, mini, maxi, step):\n",
    "    sizes, values = [], []\n",
    "    nb = 100\n",
    "    for i in range(mini, maxi, step):\n",
    "        sizes.append(i)        \n",
    "        v = 0\n",
    "        for k in range(nb):\n",
    "            v += gen(i)\n",
    "        values.append(v / nb)\n",
    "    plt.plot(sizes,values)\n",
    "    plt.show()"
   ]
  },
  {
   "cell_type": "code",
   "execution_count": 3,
   "id": "ae0ac0ec",
   "metadata": {},
   "outputs": [
    {
     "name": "stdout",
     "output_type": "stream",
     "text": [
      "3.76 sec. to compute 2000 catalan numbers : \n",
      "[1, 1, 2, 5, 14, 42, 132, 429, 1430, 4862]\n"
     ]
    }
   ],
   "source": [
    "n = 2000\n",
    "t_start = time()\n",
    "\n",
    "catalan = [1] # on peut aussi utliser de la memoization avec @functools.cache\n",
    "for i in range(1,n):\n",
    "    catalan.append(sum(catalan[j] * catalan[i-j-1] for j in range(i)))\n",
    "\n",
    "print(\"{1:.2f} sec. to compute {0} catalan numbers : \".format(n, time() - t_start))\n",
    "print(catalan[:10])"
   ]
  },
  {
   "cell_type": "code",
   "execution_count": 9,
   "id": "da7f6c7b",
   "metadata": {},
   "outputs": [],
   "source": [
    "def uniform_cut(n) : #choisir $i$ avec probabilité $p_i=c_ic_{n-i-1}/{c_n}$ \n",
    "    u = random()\n",
    "    i, s = 0, catalan[0] * catalan[n-1] / catalan[n]\n",
    "    while u > s :\n",
    "        i += 1\n",
    "        s += catalan[i] * catalan[n-i-1] / catalan[n]\n",
    "    return i\n",
    "\n",
    "def random_binary_tree_rec(n):\n",
    "    if n == 0:\n",
    "        return []\n",
    "    i = uniform_cut(n) # $O(n)$\n",
    "    return ['z', random_binary_tree_rec(i), random_binary_tree_rec(n-i-1)]\n",
    "\n",
    "def random_binary_tree_height(n):\n",
    "    if n == 0:\n",
    "        return 0\n",
    "    i = uniform_cut(n) # $O(n)$\n",
    "    return 1 + max(random_binary_tree_height(i), random_binary_tree_height(n-i-1))"
   ]
  },
  {
   "cell_type": "code",
   "execution_count": 10,
   "id": "d1850757",
   "metadata": {},
   "outputs": [
    {
     "name": "stdout",
     "output_type": "stream",
     "text": [
      "['z', [], ['z', ['z', ['z', ['z', ['z', ['z', [], ['z', [], ['z', [], []]]], []], []], []], ['z', [], []]], []]]\n"
     ]
    }
   ],
   "source": [
    "print(random_binary_tree_rec(10))"
   ]
  },
  {
   "cell_type": "code",
   "execution_count": 11,
   "id": "414d18c4",
   "metadata": {},
   "outputs": [
    {
     "name": "stdout",
     "output_type": "stream",
     "text": [
      "29\n"
     ]
    }
   ],
   "source": [
    "print(random_binary_tree_height(100))"
   ]
  },
  {
   "cell_type": "code",
   "execution_count": 7,
   "id": "9f7de12c",
   "metadata": {},
   "outputs": [
    {
     "ename": "KeyboardInterrupt",
     "evalue": "",
     "output_type": "error",
     "traceback": [
      "\u001b[0;31m---------------------------------------------------------------------------\u001b[0m",
      "\u001b[0;31mKeyboardInterrupt\u001b[0m                         Traceback (most recent call last)",
      "Cell \u001b[0;32mIn[7], line 1\u001b[0m\n\u001b[0;32m----> 1\u001b[0m \u001b[43mplot_time\u001b[49m\u001b[43m(\u001b[49m\u001b[43mrandom_binary_tree_height\u001b[49m\u001b[43m,\u001b[49m\u001b[43m \u001b[49m\u001b[38;5;241;43m10\u001b[39;49m\u001b[43m,\u001b[49m\u001b[43m \u001b[49m\u001b[38;5;241;43m2000\u001b[39;49m\u001b[43m,\u001b[49m\u001b[43m \u001b[49m\u001b[38;5;241;43m100\u001b[39;49m\u001b[43m)\u001b[49m\n",
      "Cell \u001b[0;32mIn[2], line 20\u001b[0m, in \u001b[0;36mplot_time\u001b[0;34m(gen, mini, maxi, step)\u001b[0m\n\u001b[1;32m     18\u001b[0m     t1 \u001b[38;5;241m=\u001b[39m time()\n\u001b[1;32m     19\u001b[0m     \u001b[38;5;28;01mfor\u001b[39;00m k \u001b[38;5;129;01min\u001b[39;00m \u001b[38;5;28mrange\u001b[39m(nb):\n\u001b[0;32m---> 20\u001b[0m         \u001b[43mgen\u001b[49m\u001b[43m(\u001b[49m\u001b[43mi\u001b[49m\u001b[43m)\u001b[49m\n\u001b[1;32m     21\u001b[0m     timings\u001b[38;5;241m.\u001b[39mappend((time() \u001b[38;5;241m-\u001b[39m t1) \u001b[38;5;241m/\u001b[39m nb)\n\u001b[1;32m     22\u001b[0m plt\u001b[38;5;241m.\u001b[39mplot(sizes, timings)\n",
      "Cell \u001b[0;32mIn[4], line 19\u001b[0m, in \u001b[0;36mrandom_binary_tree_height\u001b[0;34m(n)\u001b[0m\n\u001b[1;32m     17\u001b[0m     \u001b[38;5;28;01mreturn\u001b[39;00m \u001b[38;5;241m0\u001b[39m\n\u001b[1;32m     18\u001b[0m i \u001b[38;5;241m=\u001b[39m uniform_cut(n) \u001b[38;5;66;03m# $O(n)$\u001b[39;00m\n\u001b[0;32m---> 19\u001b[0m \u001b[38;5;28;01mreturn\u001b[39;00m \u001b[38;5;241m1\u001b[39m \u001b[38;5;241m+\u001b[39m \u001b[38;5;28mmax\u001b[39m(random_binary_tree_height(i), \u001b[43mrandom_binary_tree_height\u001b[49m\u001b[43m(\u001b[49m\u001b[43mn\u001b[49m\u001b[38;5;241;43m-\u001b[39;49m\u001b[43mi\u001b[49m\u001b[38;5;241;43m-\u001b[39;49m\u001b[38;5;241;43m1\u001b[39;49m\u001b[43m)\u001b[49m)\n",
      "Cell \u001b[0;32mIn[4], line 19\u001b[0m, in \u001b[0;36mrandom_binary_tree_height\u001b[0;34m(n)\u001b[0m\n\u001b[1;32m     17\u001b[0m     \u001b[38;5;28;01mreturn\u001b[39;00m \u001b[38;5;241m0\u001b[39m\n\u001b[1;32m     18\u001b[0m i \u001b[38;5;241m=\u001b[39m uniform_cut(n) \u001b[38;5;66;03m# $O(n)$\u001b[39;00m\n\u001b[0;32m---> 19\u001b[0m \u001b[38;5;28;01mreturn\u001b[39;00m \u001b[38;5;241m1\u001b[39m \u001b[38;5;241m+\u001b[39m \u001b[38;5;28mmax\u001b[39m(random_binary_tree_height(i), \u001b[43mrandom_binary_tree_height\u001b[49m\u001b[43m(\u001b[49m\u001b[43mn\u001b[49m\u001b[38;5;241;43m-\u001b[39;49m\u001b[43mi\u001b[49m\u001b[38;5;241;43m-\u001b[39;49m\u001b[38;5;241;43m1\u001b[39;49m\u001b[43m)\u001b[49m)\n",
      "    \u001b[0;31m[... skipping similar frames: random_binary_tree_height at line 19 (36 times)]\u001b[0m\n",
      "Cell \u001b[0;32mIn[4], line 19\u001b[0m, in \u001b[0;36mrandom_binary_tree_height\u001b[0;34m(n)\u001b[0m\n\u001b[1;32m     17\u001b[0m     \u001b[38;5;28;01mreturn\u001b[39;00m \u001b[38;5;241m0\u001b[39m\n\u001b[1;32m     18\u001b[0m i \u001b[38;5;241m=\u001b[39m uniform_cut(n) \u001b[38;5;66;03m# $O(n)$\u001b[39;00m\n\u001b[0;32m---> 19\u001b[0m \u001b[38;5;28;01mreturn\u001b[39;00m \u001b[38;5;241m1\u001b[39m \u001b[38;5;241m+\u001b[39m \u001b[38;5;28mmax\u001b[39m(random_binary_tree_height(i), \u001b[43mrandom_binary_tree_height\u001b[49m\u001b[43m(\u001b[49m\u001b[43mn\u001b[49m\u001b[38;5;241;43m-\u001b[39;49m\u001b[43mi\u001b[49m\u001b[38;5;241;43m-\u001b[39;49m\u001b[38;5;241;43m1\u001b[39;49m\u001b[43m)\u001b[49m)\n",
      "Cell \u001b[0;32mIn[4], line 18\u001b[0m, in \u001b[0;36mrandom_binary_tree_height\u001b[0;34m(n)\u001b[0m\n\u001b[1;32m     16\u001b[0m \u001b[38;5;28;01mif\u001b[39;00m n \u001b[38;5;241m==\u001b[39m \u001b[38;5;241m0\u001b[39m:\n\u001b[1;32m     17\u001b[0m     \u001b[38;5;28;01mreturn\u001b[39;00m \u001b[38;5;241m0\u001b[39m\n\u001b[0;32m---> 18\u001b[0m i \u001b[38;5;241m=\u001b[39m \u001b[43muniform_cut\u001b[49m\u001b[43m(\u001b[49m\u001b[43mn\u001b[49m\u001b[43m)\u001b[49m \u001b[38;5;66;03m# $O(n)$\u001b[39;00m\n\u001b[1;32m     19\u001b[0m \u001b[38;5;28;01mreturn\u001b[39;00m \u001b[38;5;241m1\u001b[39m \u001b[38;5;241m+\u001b[39m \u001b[38;5;28mmax\u001b[39m(random_binary_tree_height(i), random_binary_tree_height(n\u001b[38;5;241m-\u001b[39mi\u001b[38;5;241m-\u001b[39m\u001b[38;5;241m1\u001b[39m))\n",
      "Cell \u001b[0;32mIn[4], line 6\u001b[0m, in \u001b[0;36muniform_cut\u001b[0;34m(n)\u001b[0m\n\u001b[1;32m      4\u001b[0m \u001b[38;5;28;01mwhile\u001b[39;00m u \u001b[38;5;241m>\u001b[39m s :\n\u001b[1;32m      5\u001b[0m     i \u001b[38;5;241m+\u001b[39m\u001b[38;5;241m=\u001b[39m \u001b[38;5;241m1\u001b[39m\n\u001b[0;32m----> 6\u001b[0m     s \u001b[38;5;241m+\u001b[39m\u001b[38;5;241m=\u001b[39m \u001b[43mcatalan\u001b[49m\u001b[43m[\u001b[49m\u001b[43mi\u001b[49m\u001b[43m]\u001b[49m\u001b[43m \u001b[49m\u001b[38;5;241;43m*\u001b[39;49m\u001b[43m \u001b[49m\u001b[43mcatalan\u001b[49m\u001b[43m[\u001b[49m\u001b[43mn\u001b[49m\u001b[38;5;241;43m-\u001b[39;49m\u001b[43mi\u001b[49m\u001b[38;5;241;43m-\u001b[39;49m\u001b[38;5;241;43m1\u001b[39;49m\u001b[43m]\u001b[49m \u001b[38;5;241m/\u001b[39m catalan[n]\n\u001b[1;32m      7\u001b[0m \u001b[38;5;28;01mreturn\u001b[39;00m i\n",
      "\u001b[0;31mKeyboardInterrupt\u001b[0m: "
     ]
    }
   ],
   "source": [
    "plot_time(random_binary_tree_height, 10, 2000, 100)"
   ]
  },
  {
   "cell_type": "code",
   "execution_count": null,
   "id": "d958d8cb",
   "metadata": {},
   "outputs": [],
   "source": [
    "test_uniformity(lambda : random_binary_tree_rec(3), 10000000)"
   ]
  },
  {
   "cell_type": "code",
   "execution_count": null,
   "id": "c8fbe135",
   "metadata": {},
   "outputs": [],
   "source": [
    "plot_values(random_binary_tree_height, 10, 2000, 100)"
   ]
  },
  {
   "cell_type": "code",
   "execution_count": null,
   "id": "554fc925",
   "metadata": {},
   "outputs": [],
   "source": []
  },
  {
   "cell_type": "code",
   "execution_count": null,
   "id": "f6051ca4",
   "metadata": {},
   "outputs": [],
   "source": []
  }
 ],
 "metadata": {
  "kernelspec": {
   "display_name": "Python 3 (ipykernel)",
   "language": "python",
   "name": "python3"
  },
  "language_info": {
   "codemirror_mode": {
    "name": "ipython",
    "version": 3
   },
   "file_extension": ".py",
   "mimetype": "text/x-python",
   "name": "python",
   "nbconvert_exporter": "python",
   "pygments_lexer": "ipython3",
   "version": "3.11.1"
  }
 },
 "nbformat": 4,
 "nbformat_minor": 5
}
