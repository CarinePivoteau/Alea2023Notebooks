{
 "cells": [
  {
   "cell_type": "code",
   "execution_count": 8,
   "id": "1e305b0f",
   "metadata": {},
   "outputs": [],
   "source": [
    "from random import *\n",
    "from time import *\n",
    "import math\n",
    "import sys\n",
    "import matplotlib.pyplot as plt"
   ]
  },
  {
   "cell_type": "code",
   "execution_count": 2,
   "id": "05bdd190",
   "metadata": {},
   "outputs": [],
   "source": [
    "def test_uniformity(gen, nb):\n",
    "    dico = {}\n",
    "    for i in range(nb):\n",
    "        tmp = tuple(gen())\n",
    "        if tmp in dico:\n",
    "            dico[tmp] += 1\n",
    "        else:\n",
    "             dico[tmp] = 1\n",
    "    print(\"nb:\", len(dico))\n",
    "    for key in dico:\n",
    "        print(key, \"{0:.2f}\".format(dico[key] / nb * 100))\n",
    "\n",
    "def plot_time(gen, mini, maxi, step):\n",
    "    sizes, timings = [], []\n",
    "    nb = 100\n",
    "    for i in range(mini, maxi, step):\n",
    "        sizes.append(i)        \n",
    "        t1 = time()\n",
    "        for k in range(nb):\n",
    "            gen(i)\n",
    "        timings.append((time() - t1) / nb)\n",
    "    plt.plot(sizes, timings)\n",
    "    plt.show()\n",
    "    \n",
    "def plot_values(gen, mini, maxi, step):\n",
    "    sizes, values = [], []\n",
    "    nb = 100\n",
    "    for i in range(mini, maxi, step):\n",
    "        sizes.append(i)        \n",
    "        v = 0\n",
    "        for k in range(nb):\n",
    "            v += gen(i)\n",
    "        values.append(v / nb)\n",
    "    plt.plot(sizes,values)\n",
    "    plt.show()"
   ]
  },
  {
   "cell_type": "code",
   "execution_count": 3,
   "id": "ae0ac0ec",
   "metadata": {},
   "outputs": [
    {
     "name": "stdout",
     "output_type": "stream",
     "text": [
      "3.80 sec. to compute 2000 catalan numbers : \n",
      "[1, 1, 2, 5, 14, 42, 132, 429, 1430, 4862]\n"
     ]
    }
   ],
   "source": [
    "n = 2000\n",
    "t_start = time()\n",
    "\n",
    "catalan = [1] # on peut aussi utliser de la memoization avec @functools.cache\n",
    "for i in range(1,n):\n",
    "    catalan.append(sum(catalan[j] * catalan[i-j-1] for j in range(i)))\n",
    "\n",
    "print(\"{1:.2f} sec. to compute {0} catalan numbers : \".format(n, time() - t_start))\n",
    "print(catalan[:10])"
   ]
  },
  {
   "cell_type": "code",
   "execution_count": 4,
   "id": "da7f6c7b",
   "metadata": {},
   "outputs": [],
   "source": [
    "def uniform_cut(n) : #choisir $i$ avec probabilité $p_i=c_ic_{n-i-1}/{c_n}$ \n",
    "    u = random()\n",
    "    i, s = 0, catalan[0] * catalan[n-1] / catalan[n]\n",
    "    while u > s :\n",
    "        i += 1\n",
    "        s += catalan[i] * catalan[n-i-1] / catalan[n]\n",
    "    return i\n",
    "\n",
    "def random_binary_tree_rec(n):\n",
    "    if n == 0:\n",
    "        return ()\n",
    "    i = uniform_cut(n) # $O(n)$\n",
    "    return ('z', random_binary_tree_rec(i), random_binary_tree_rec(n-i-1))\n",
    "\n",
    "def random_binary_tree_height(n):\n",
    "    if n == 0:\n",
    "        return 0\n",
    "    i = uniform_cut(n) # $O(n)$\n",
    "    return 1 + max(random_binary_tree_height(i), random_binary_tree_height(n-i-1))"
   ]
  },
  {
   "cell_type": "code",
   "execution_count": 5,
   "id": "d1850757",
   "metadata": {},
   "outputs": [
    {
     "name": "stdout",
     "output_type": "stream",
     "text": [
      "('z', ('z', ('z', (), ()), ()), ('z', ('z', (), ('z', ('z', (), ()), ('z', (), ('z', ('z', (), ()), ())))), ()))\n"
     ]
    }
   ],
   "source": [
    "print(random_binary_tree_rec(10))"
   ]
  },
  {
   "cell_type": "code",
   "execution_count": 6,
   "id": "414d18c4",
   "metadata": {},
   "outputs": [
    {
     "name": "stdout",
     "output_type": "stream",
     "text": [
      "27\n"
     ]
    }
   ],
   "source": [
    "print(random_binary_tree_height(100))"
   ]
  },
  {
   "cell_type": "code",
   "execution_count": 9,
   "id": "9f7de12c",
   "metadata": {},
   "outputs": [
    {
     "data": {
      "image/png": "[encoded data removed]",
      "text/plain": [
       "<Figure size 640x480 with 1 Axes>"
      ]
     },
     "metadata": {},
     "output_type": "display_data"
    }
   ],
   "source": [
    "plot_time(random_binary_tree_height, 10, 2000, 100)"
   ]
  },
  {
   "cell_type": "code",
   "execution_count": null,
   "id": "d958d8cb",
   "metadata": {},
   "outputs": [],
   "source": [
    "test_uniformity(lambda : random_binary_tree_rec(3), 10000000)"
   ]
  },
  {
   "cell_type": "code",
   "execution_count": null,
   "id": "c8fbe135",
   "metadata": {},
   "outputs": [],
   "source": [
    "plot_values(random_binary_tree_height, 10, 2000, 100)"
   ]
  },
  {
   "cell_type": "code",
   "execution_count": null,
   "id": "554fc925",
   "metadata": {},
   "outputs": [],
   "source": []
  },
  {
   "cell_type": "code",
   "execution_count": null,
   "id": "f6051ca4",
   "metadata": {},
   "outputs": [],
   "source": []
  }
 ],
 "metadata": {
  "kernelspec": {
   "display_name": "Python 3 (ipykernel)",
   "language": "python",
   "name": "python3"
  },
  "language_info": {
   "codemirror_mode": {
    "name": "ipython",
    "version": 3
   },
   "file_extension": ".py",
   "mimetype": "text/x-python",
   "name": "python",
   "nbconvert_exporter": "python",
   "pygments_lexer": "ipython3",
   "version": "3.11.1"
  }
 },
 "nbformat": 4,
 "nbformat_minor": 5
}
